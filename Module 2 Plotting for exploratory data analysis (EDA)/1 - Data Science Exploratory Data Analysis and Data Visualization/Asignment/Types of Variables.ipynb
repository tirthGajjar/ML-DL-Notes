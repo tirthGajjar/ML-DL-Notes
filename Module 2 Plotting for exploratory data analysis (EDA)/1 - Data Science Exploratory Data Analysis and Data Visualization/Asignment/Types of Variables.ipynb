{
 "cells": [
  {
   "cell_type": "markdown",
   "metadata": {},
   "source": [
    "## Common Types of Variables\n",
    "\n",
    "* **[Categorical variable](https://www.statisticshowto.datasciencecentral.com/what-is-a-categorical-variable/)**: variables than can be put into categories. For example, the category “Toothpaste Brands” might contain the variables Colgate and Aquafresh.\n",
    "* **[Confounding variable](https://www.statisticshowto.datasciencecentral.com/confounding-variable/)**: extra variables that have a hidden effect on your experimental results.\n",
    "* **Continuous variable**: a variable with infinite number of values, like “time” or “weight”.\n",
    "* **[Control variable](https://www.statisticshowto.datasciencecentral.com/control-variable/)**: a factor in an experiment which must be held constant. For example, in an experiment to determine whether light makes plants grow faster, you would have to control for soil quality and water.\n",
    "* **[Dependent variable](https://www.statisticshowto.datasciencecentral.com/dependent-variable-definition/)**: the outcome of an experiment. As you change the independent variable, you watch what happens to the dependent variable.\n",
    "* **[Discrete variable](https://www.statisticshowto.datasciencecentral.com/discrete-vs-continuous-variables/)**: a variable that can only take on a certain number of values. For example, “number of cars in a parking lot” is discrete because a car park can only hold so many cars.\n",
    "* **[Independent variable](https://www.statisticshowto.datasciencecentral.com/independent-variable-definition/)**: a variable that is not affected by anything that you, the researcher, does. Usually plotted on the x-axis.\n",
    "* **[Lurking variable](https://www.statisticshowto.datasciencecentral.com/lurking-variable/): a “hidden” variable the affects the relationship between the independent and dependent variables.**\n",
    "* A **[measurement variable](https://www.statisticshowto.datasciencecentral.com/measurement-variable/)** has a number associated with it. It’s an “amount” of something, or a”number” of something. \n",
    "* **[Nominal variable](https://www.statisticshowto.datasciencecentral.com/nominal-ordinal-interval-ratio/)**: another name for categorical variable.\n",
    "* ****[Ordinal variable](https://www.statisticshowto.datasciencecentral.com/nominal-ordinal-interval-ratio/)****: similar to a categorical variable, but there is a clear order. For example, income levels of low, middle, and high could be considered ordinal. \n",
    "* [**Qualitative variable**](https://www.statisticshowto.datasciencecentral.com/qualitative-variable/): a broad category for any variable that can’t be counted (i.e. has no numerical value). Nominal and ordinal variables fall under this umbrella term.\n",
    "* **[Quantitative variable](https://www.statisticshowto.datasciencecentral.com/what-are-quantitative-variables-and-quantitative-data/):** A broad category that includes any variable that can be counted, or has a numerical value associated with it. Examples of variables that fall into this category include discrete variables and ratio variables.\n",
    "* **[Random variables](https://www.statisticshowto.datasciencecentral.com/random-variable/)** are associated with random processes and give numbers to outcomes of random events.\n",
    "* A **[ranked variable](https://www.statisticshowto.datasciencecentral.com/ranked-variable/)** is an ordinal variable; a variable where every data point can be put in order (1st, 2nd, 3rd, etc.).\n",
    "* [**Ratio variables**](https://www.statisticshowto.datasciencecentral.com/ratio-scale/): similar to interval variables, but has a meaningful zero.\n",
    "\n",
    "## Less Common Types of Variables\n",
    "\n",
    "* **[Active Variable](https://www.statisticshowto.datasciencecentral.com/active-variable/):** a variable that is manipulated by the researcher.\n",
    "* [**Attribute variable**](https://www.statisticshowto.datasciencecentral.com/attribute-variable/): another name for a categorical variable (in statistical software) or a variable that isn’t manipulated (in [design of experiments](https://www.statisticshowto.datasciencecentral.com/experimental-design/)).\n",
    "* **[Binary variable](https://www.statisticshowto.datasciencecentral.com/binary-variable-2/)**: a variable that can only take on two values, usually 0/1. Could also be yes/no, tall/short or some other two-variable combination.\n",
    "* [**Collider Variable**](https://www.statisticshowto.datasciencecentral.com/collider/): a variable represented by a node on a causal graph that has paths pointing in as well as out.\n",
    "* **[Covariate variable](https://www.statisticshowto.datasciencecentral.com/covariate/)**: similar to an independent variable, it has an effect on the dependent variable but is usually not the variable of interest. See also: [**Noncomitant variable**.](https://www.statisticshowto.datasciencecentral.com/concomitant-variable/)\n",
    "* **[Criterion variable](https://www.statisticshowto.datasciencecentral.com/criterion-variable-2/)**: another name for a dependent variable, when the variable is used in non-experimental situations.\n",
    "* **[Dichotomous variable](https://www.statisticshowto.datasciencecentral.com/dichotomous-variable/)**: Another name for a binary variable.\n",
    "* **[Dummy Variables](https://www.statisticshowto.datasciencecentral.com/dummy-variables/)**: used in [regression analysis](https://www.statisticshowto.datasciencecentral.com/probability-and-statistics/regression-analysis/) when you want to assign relationships to unconnected categorical variables. For example, if you had the categories “has dogs” and “owns a car” you might assign a 1 to mean “has dogs” and 0 to mean “owns a car.”\n",
    "* **[Endogenous variable](https://www.statisticshowto.datasciencecentral.com/endogenous-variable/)**: similar to dependent variables, they are affected by other variables in the system. Used almost exclusively in [econometrics](http://www.ssc.wisc.edu/~bhansen/econometrics/Econometrics.pdf).\n",
    "* **[Exogenous variable](https://www.statisticshowto.datasciencecentral.com/endogenous-variable/)**: variables that affect others in the system.\n",
    "* [**Explanatory Variable**](https://www.statisticshowto.datasciencecentral.com/explanatory-variable/): a type of independent variable. When a variable is independent, it is not affected at all by any other variables. When a variable isn’t independent for certain, it’s an explanatory variable.\n",
    "* **[Extraneous variables](https://www.statisticshowto.datasciencecentral.com/extraneous-variable/)** are any variables that you are not intentionally studying in your experiment or test.\n",
    "* A **[grouping variable](https://www.statisticshowto.datasciencecentral.com/grouping-variable/)** (also called a coding variable, group variable or by variable) sorts data within data files into categories or groups.\n",
    "* [**Identifier Variables:**](https://www.statisticshowto.datasciencecentral.com/identifier-variables-2/) variables used to uniquely identify situations.\n",
    "* **[Indicator variable](https://www.statisticshowto.datasciencecentral.com/dummy-variables/)**: another name for a dummy variable.\n",
    "* **[Interval variable](https://www.statisticshowto.datasciencecentral.com/interval-scale/)**: a meaningful measurement between two variables. Also sometimes used as another name for a continuous variable.\n",
    "* **[Intervening variable](https://www.statisticshowto.datasciencecentral.com/intervening-variable/)**: a variable that is used to explain the relationship between variables.\n",
    "* [**Latent Variable:**](https://www.statisticshowto.datasciencecentral.com/factor-analysis/#Latent) a hidden variable that can’t be measured or observed directly.\n",
    "* **[Manifest variable](https://www.statisticshowto.datasciencecentral.com/factor-analysis/#Manifest)**: a variable that can be directly observed or measured.\n",
    "* **[Manipulated variable](https://www.statisticshowto.datasciencecentral.com/manipulated-variable/)**: another name for independent variable.\n",
    "* **[Mediating variable](https://www.statisticshowto.datasciencecentral.com/mediator-variable/)** or [intervening variable](https://www.statisticshowto.datasciencecentral.com/intervening-variable/): variables that explain how the relationship between variables happens. For example, it could explain the difference between the predictor and criterion.\n",
    "* **[Moderating variable](https://www.statisticshowto.datasciencecentral.com/moderating-variable/)**: changes the strength of an effect between independent and dependent variables. For example, psychotherapy may reduce stress levels for women more than men, so sex moderates the effect between psychotherapy and stress levels.\n",
    "* [**Nuisance Variable**](https://www.statisticshowto.datasciencecentral.com/nuisance-variable/): an [extraneous variable](https://www.statisticshowto.datasciencecentral.com/extraneous-variable/) that increases variability overall.\n",
    "* [**Observed Variable**](https://www.statisticshowto.datasciencecentral.com/observed-variables/): a measured variable (usually used in [SEM](https://www.statisticshowto.datasciencecentral.com/simultaneous-equations-model/)).\n",
    "* [**Outcome variable**:](https://www.statisticshowto.datasciencecentral.com/dependent-variable-definition/#DVOutcome) similar in meaning to a dependent variable, but used in a non-experimental study.\n",
    "* **[Polychotomous variables](https://www.statisticshowto.datasciencecentral.com/polychotomous-variable)**: variables that can have more than two values.\n",
    "* **[Predictor variable](https://www.statisticshowto.datasciencecentral.com/independent-variable-definition/)**: similar in meaning to the independent variable, but used in regression and in non-experimental studies.\n",
    "* **[Responding variable](https://www.statisticshowto.datasciencecentral.com/responding-variable/)**: an informal term for dependent variable, usually used in science fairs.\n",
    "* **[Scale Variable](https://www.statisticshowto.datasciencecentral.com/scale-variable/)**: basically, another name for a measurement variable.\n",
    "* **[Study Variable (Research Variable)](https://www.statisticshowto.datasciencecentral.com/research-variable-study/)**: can mean any variable used in a study, but does have a more formal definition when used in a clinical trial. \n",
    "* **[Test Variable](https://www.statisticshowto.datasciencecentral.com/dependent-variable-definition/)**: another name for the [Dependent Variable](https://www.statisticshowto.datasciencecentral.com/dependent-variable-definition/).\n",
    "* **[Treatment variable](https://www.statisticshowto.datasciencecentral.com/independent-variable-definition/)**: another name for independent variable."
   ]
  },
  {
   "cell_type": "code",
   "execution_count": null,
   "metadata": {},
   "outputs": [],
   "source": []
  }
 ],
 "metadata": {
  "kernelspec": {
   "display_name": "Python 3",
   "language": "python",
   "name": "python3"
  },
  "language_info": {
   "codemirror_mode": {
    "name": "ipython",
    "version": 3
   },
   "file_extension": ".py",
   "mimetype": "text/x-python",
   "name": "python",
   "nbconvert_exporter": "python",
   "pygments_lexer": "ipython3",
   "version": "3.7.3"
  }
 },
 "nbformat": 4,
 "nbformat_minor": 2
}
