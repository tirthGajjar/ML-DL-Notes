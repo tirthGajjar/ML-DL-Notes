{
 "cells": [
  {
   "cell_type": "markdown",
   "metadata": {
    "toc": true
   },
   "source": [
    "<h1>Table of Contents<span class=\"tocSkip\"></span></h1>\n",
    "<div class=\"toc\"><ul class=\"toc-item\"></ul></div>"
   ]
  },
  {
   "cell_type": "code",
   "execution_count": 3,
   "metadata": {
    "ExecuteTime": {
     "end_time": "2019-06-09T06:22:14.965263Z",
     "start_time": "2019-06-09T06:22:14.136451Z"
    }
   },
   "outputs": [
    {
     "data": {
      "text/plain": [
       "['Skewness',\n",
       " 'Skew',\n",
       " 'Skewness risk',\n",
       " 'Skew normal distribution',\n",
       " 'Types of mesh',\n",
       " 'Beta distribution',\n",
       " 'Nonparametric skew',\n",
       " 'Clock skew',\n",
       " \"D'Agostino's K-squared test\",\n",
       " 'Skew lines']"
      ]
     },
     "execution_count": 3,
     "metadata": {},
     "output_type": "execute_result"
    }
   ],
   "source": [
    "import wikipedia\n",
    " \n",
    "#Search for page titles on Wikipedia\n",
    "wikipedia.search('Skewness')\n"
   ]
  },
  {
   "cell_type": "code",
   "execution_count": 4,
   "metadata": {
    "ExecuteTime": {
     "end_time": "2019-06-09T06:22:39.924447Z",
     "start_time": "2019-06-09T06:22:36.920486Z"
    }
   },
   "outputs": [
    {
     "name": "stderr",
     "output_type": "stream",
     "text": [
      "E:\\DL-Team\\Anaconda\\lib\\site-packages\\ipykernel_launcher.py:15: DeprecationWarning: Due to possible ambiguity, 'convert()' is deprecated. Use 'convert_file()'  or 'convert_text()'.\n",
      "  from ipykernel import kernelapp as app\n"
     ]
    }
   ],
   "source": [
    " \n",
    "#Load a page\n",
    "f1=wikipedia.page('Skewness')\n",
    " \n",
    "#Preview page content\n",
    "f1.content\n",
    " \n",
    "import pypandoc\n",
    " \n",
    "#To work round encoding issues, write the content to a file and then convert it...\n",
    "f = open('delme1.txt', 'w', encoding='utf8')\n",
    "f.write(f1.content)\n",
    "f.close()\n",
    " \n",
    "md=pypandoc.convert('delme1.txt', 'md', format='mediawiki')"
   ]
  },
  {
   "cell_type": "code",
   "execution_count": null,
   "metadata": {},
   "outputs": [],
   "source": []
  }
 ],
 "metadata": {
  "kernelspec": {
   "display_name": "Python 3",
   "language": "python",
   "name": "python3"
  },
  "language_info": {
   "codemirror_mode": {
    "name": "ipython",
    "version": 3
   },
   "file_extension": ".py",
   "mimetype": "text/x-python",
   "name": "python",
   "nbconvert_exporter": "python",
   "pygments_lexer": "ipython3",
   "version": "3.7.3"
  },
  "toc": {
   "base_numbering": 1,
   "nav_menu": {},
   "number_sections": true,
   "sideBar": true,
   "skip_h1_title": true,
   "title_cell": "Table of Contents",
   "title_sidebar": "Contents",
   "toc_cell": true,
   "toc_position": {},
   "toc_section_display": true,
   "toc_window_display": false
  }
 },
 "nbformat": 4,
 "nbformat_minor": 2
}
