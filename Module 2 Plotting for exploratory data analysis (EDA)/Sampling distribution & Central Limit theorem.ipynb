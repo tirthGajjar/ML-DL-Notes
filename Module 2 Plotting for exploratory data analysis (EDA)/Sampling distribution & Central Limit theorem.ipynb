{
 "cells": [
  {
   "cell_type": "markdown",
   "metadata": {},
   "source": [
    "# Sampling distribution & Central Limit theorem"
   ]
  },
  {
   "cell_type": "markdown",
   "metadata": {
    "toc": true
   },
   "source": [
    "<h1>Table of Contents<span class=\"tocSkip\"></span></h1>\n",
    "<div class=\"toc\"><ul class=\"toc-item\"><li><span><a href=\"#Sampling\" data-toc-modified-id=\"Sampling-1\"><span class=\"toc-item-num\">1&nbsp;&nbsp;</span>Sampling</a></span></li></ul></div>"
   ]
  },
  {
   "cell_type": "markdown",
   "metadata": {},
   "source": [
    "## Sampling\n",
    "\n",
    "Sampling is the selection of a subset (a statistical sample) of individuals from within a statistical population to estimate characteristics of the whole population. Statisticians attempt for the samples to represent the population in question. Two advantages of sampling are lower cost and faster data collection than measuring the entire population.\n"
   ]
  },
  {
   "cell_type": "markdown",
   "metadata": {},
   "source": [
    "**Random sampling:**\n",
    "\n",
    "In data collection, every individual observation has equal probability to be selected into a sample. In random sampling, there should be no pattern when drawing a sample.\n",
    "\n",
    "Significance: [Significance](http://www.statisticssolutions.com/resources/directory-of-statistical-analyses/significance) is the percent of chance that a relationship may be found in sample data due to luck. Researchers often use the 0.05% significance level.\n",
    "\n",
    "**Probability and non-probability sampling:** \n",
    "\n",
    "Probability sampling is the sampling technique in which every individual unit of the population has greater than zero probability of getting selected into a sample.\n",
    "\n",
    "Non-probability sampling is the sampling technique in which some elements of the population have no probability of getting selected into a sample.\n",
    "\n",
    "**Types of random sampling:**\n",
    "\n",
    "With the random sample, the types of random sampling are:\n",
    "\n",
    "**Simple random sampling:** By using the random number generator technique, the researcher draws a sample from the population called simple random sampling. Simple random samplings are of two types. One is when samples are drawn with replacements, and the second is when samples are drawn without replacements.\n",
    "\n",
    "**Equal probability systematic sampling:** In this type of sampling method, a researcher starts from a random point and selects every nth subject in the sampling frame. In this method, there is a danger of order bias.\n",
    "\n",
    "**Stratified simple random sampling:** In stratified simple random sampling, a proportion from strata of the population is selected using simple random sampling. For example, a fixed proportion is taken from every class from a school.\n",
    "\n",
    "**Multistage stratified random sampling:** In multistage stratified random sampling, a proportion of strata is selected from a homogeneous group using simple random sampling. For example, from the nth class and nth stream, a sample is drawn called the multistage stratified random sampling.\n",
    "\n",
    "**Cluster sampling:** Cluster sampling occurs when a random sample is drawn from certain aggregational geographical groups.\n",
    "\n",
    "**Multistage cluster sampling:** Multistage cluster sampling occurs when a researcher draws a random sample from the smaller unit of an aggregational group.\n",
    "\n",
    "**Types of non-random sampling:** Non-random sampling is widely used in qualitative research.  Random sampling is too costly in qualitative research. The following are non-random sampling methods:\n",
    "\n",
    "**Availability sampling:** Availability sampling occurs when the researcher selects the sample based on the availability of a sample. This method is also called haphazard sampling. E-mail surveys are an example of availability sampling.\n",
    "\n",
    "**Quota sampling:** This method is similar to the availability sampling method, but with the constraint that the sample is drawn proportionally by strata.\n",
    "\n",
    "**Expert sampling:** This method is also known as judgment sampling. In this method, a researcher collects the samples by taking interviews from a panel of individuals known to be experts in a field."
   ]
  },
  {
   "cell_type": "code",
   "execution_count": null,
   "metadata": {},
   "outputs": [],
   "source": []
  }
 ],
 "metadata": {
  "kernelspec": {
   "display_name": "Python 3",
   "language": "python",
   "name": "python3"
  },
  "language_info": {
   "codemirror_mode": {
    "name": "ipython",
    "version": 3
   },
   "file_extension": ".py",
   "mimetype": "text/x-python",
   "name": "python",
   "nbconvert_exporter": "python",
   "pygments_lexer": "ipython3",
   "version": "3.7.3"
  },
  "toc": {
   "base_numbering": 1,
   "nav_menu": {},
   "number_sections": true,
   "sideBar": true,
   "skip_h1_title": true,
   "title_cell": "Table of Contents",
   "title_sidebar": "Contents",
   "toc_cell": true,
   "toc_position": {},
   "toc_section_display": true,
   "toc_window_display": false
  }
 },
 "nbformat": 4,
 "nbformat_minor": 2
}
