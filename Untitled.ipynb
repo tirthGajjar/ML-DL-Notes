{
 "cells": [
  {
   "cell_type": "markdown",
   "metadata": {
    "toc": true
   },
   "source": [
    "<h1>Table of Contents<span class=\"tocSkip\"></span></h1>\n",
    "<div class=\"toc\"><ul class=\"toc-item\"></ul></div>"
   ]
  },
  {
   "cell_type": "code",
   "execution_count": 4,
   "metadata": {
    "ExecuteTime": {
     "end_time": "2019-06-14T04:33:51.725983Z",
     "start_time": "2019-06-14T04:33:51.705054Z"
    }
   },
   "outputs": [
    {
     "name": "stdout",
     "output_type": "stream",
     "text": [
      "E:/Work/chrome-plugin/chrome-gmail-plugin-v2/src/js/lib/tinymce\\jquery.tinymce.min.js\n",
      "E:/Work/chrome-plugin/chrome-gmail-plugin-v2/src/js/lib/tinymce\\tinymce.min.js\n",
      "E:/Work/chrome-plugin/chrome-gmail-plugin-v2/src/js/lib/tinymce\\langs\\readme.md\n",
      "E:/Work/chrome-plugin/chrome-gmail-plugin-v2/src/js/lib/tinymce\\plugins\\advlist\\plugin.min.js\n",
      "E:/Work/chrome-plugin/chrome-gmail-plugin-v2/src/js/lib/tinymce\\plugins\\anchor\\plugin.min.js\n",
      "E:/Work/chrome-plugin/chrome-gmail-plugin-v2/src/js/lib/tinymce\\plugins\\autolink\\plugin.min.js\n",
      "E:/Work/chrome-plugin/chrome-gmail-plugin-v2/src/js/lib/tinymce\\plugins\\autoresize\\plugin.min.js\n",
      "E:/Work/chrome-plugin/chrome-gmail-plugin-v2/src/js/lib/tinymce\\plugins\\autosave\\plugin.min.js\n",
      "E:/Work/chrome-plugin/chrome-gmail-plugin-v2/src/js/lib/tinymce\\plugins\\bbcode\\plugin.min.js\n",
      "E:/Work/chrome-plugin/chrome-gmail-plugin-v2/src/js/lib/tinymce\\plugins\\charmap\\plugin.min.js\n",
      "E:/Work/chrome-plugin/chrome-gmail-plugin-v2/src/js/lib/tinymce\\plugins\\code\\plugin.min.js\n",
      "E:/Work/chrome-plugin/chrome-gmail-plugin-v2/src/js/lib/tinymce\\plugins\\codesample\\plugin.min.js\n",
      "E:/Work/chrome-plugin/chrome-gmail-plugin-v2/src/js/lib/tinymce\\plugins\\colorpicker\\plugin.min.js\n",
      "E:/Work/chrome-plugin/chrome-gmail-plugin-v2/src/js/lib/tinymce\\plugins\\contextmenu\\plugin.min.js\n",
      "E:/Work/chrome-plugin/chrome-gmail-plugin-v2/src/js/lib/tinymce\\plugins\\directionality\\plugin.min.js\n",
      "E:/Work/chrome-plugin/chrome-gmail-plugin-v2/src/js/lib/tinymce\\plugins\\emoticons\\plugin.min.js\n",
      "E:/Work/chrome-plugin/chrome-gmail-plugin-v2/src/js/lib/tinymce\\plugins\\emoticons\\js\\emojis.js\n",
      "E:/Work/chrome-plugin/chrome-gmail-plugin-v2/src/js/lib/tinymce\\plugins\\emoticons\\js\\emojis.min.js\n",
      "E:/Work/chrome-plugin/chrome-gmail-plugin-v2/src/js/lib/tinymce\\plugins\\fullpage\\plugin.min.js\n",
      "E:/Work/chrome-plugin/chrome-gmail-plugin-v2/src/js/lib/tinymce\\plugins\\fullscreen\\plugin.min.js\n",
      "E:/Work/chrome-plugin/chrome-gmail-plugin-v2/src/js/lib/tinymce\\plugins\\help\\plugin.min.js\n",
      "E:/Work/chrome-plugin/chrome-gmail-plugin-v2/src/js/lib/tinymce\\plugins\\hr\\plugin.min.js\n",
      "E:/Work/chrome-plugin/chrome-gmail-plugin-v2/src/js/lib/tinymce\\plugins\\image\\plugin.min.js\n",
      "E:/Work/chrome-plugin/chrome-gmail-plugin-v2/src/js/lib/tinymce\\plugins\\imagetools\\plugin.min.js\n",
      "E:/Work/chrome-plugin/chrome-gmail-plugin-v2/src/js/lib/tinymce\\plugins\\importcss\\plugin.min.js\n",
      "E:/Work/chrome-plugin/chrome-gmail-plugin-v2/src/js/lib/tinymce\\plugins\\insertdatetime\\plugin.min.js\n",
      "E:/Work/chrome-plugin/chrome-gmail-plugin-v2/src/js/lib/tinymce\\plugins\\legacyoutput\\plugin.min.js\n",
      "E:/Work/chrome-plugin/chrome-gmail-plugin-v2/src/js/lib/tinymce\\plugins\\link\\plugin.min.js\n",
      "E:/Work/chrome-plugin/chrome-gmail-plugin-v2/src/js/lib/tinymce\\plugins\\lists\\plugin.min.js\n",
      "E:/Work/chrome-plugin/chrome-gmail-plugin-v2/src/js/lib/tinymce\\plugins\\media\\plugin.min.js\n",
      "E:/Work/chrome-plugin/chrome-gmail-plugin-v2/src/js/lib/tinymce\\plugins\\nonbreaking\\plugin.min.js\n",
      "E:/Work/chrome-plugin/chrome-gmail-plugin-v2/src/js/lib/tinymce\\plugins\\noneditable\\plugin.min.js\n",
      "E:/Work/chrome-plugin/chrome-gmail-plugin-v2/src/js/lib/tinymce\\plugins\\pagebreak\\plugin.min.js\n",
      "E:/Work/chrome-plugin/chrome-gmail-plugin-v2/src/js/lib/tinymce\\plugins\\paste\\plugin.min.js\n",
      "E:/Work/chrome-plugin/chrome-gmail-plugin-v2/src/js/lib/tinymce\\plugins\\preview\\plugin.min.js\n",
      "E:/Work/chrome-plugin/chrome-gmail-plugin-v2/src/js/lib/tinymce\\plugins\\print\\plugin.min.js\n",
      "E:/Work/chrome-plugin/chrome-gmail-plugin-v2/src/js/lib/tinymce\\plugins\\quickbars\\plugin.min.js\n",
      "E:/Work/chrome-plugin/chrome-gmail-plugin-v2/src/js/lib/tinymce\\plugins\\save\\plugin.min.js\n",
      "E:/Work/chrome-plugin/chrome-gmail-plugin-v2/src/js/lib/tinymce\\plugins\\searchreplace\\plugin.min.js\n",
      "E:/Work/chrome-plugin/chrome-gmail-plugin-v2/src/js/lib/tinymce\\plugins\\spellchecker\\plugin.min.js\n",
      "E:/Work/chrome-plugin/chrome-gmail-plugin-v2/src/js/lib/tinymce\\plugins\\tabfocus\\plugin.min.js\n",
      "E:/Work/chrome-plugin/chrome-gmail-plugin-v2/src/js/lib/tinymce\\plugins\\table\\plugin.min.js\n",
      "E:/Work/chrome-plugin/chrome-gmail-plugin-v2/src/js/lib/tinymce\\plugins\\template\\plugin.min.js\n",
      "E:/Work/chrome-plugin/chrome-gmail-plugin-v2/src/js/lib/tinymce\\plugins\\textcolor\\plugin.min.js\n",
      "E:/Work/chrome-plugin/chrome-gmail-plugin-v2/src/js/lib/tinymce\\plugins\\textpattern\\plugin.min.js\n",
      "E:/Work/chrome-plugin/chrome-gmail-plugin-v2/src/js/lib/tinymce\\plugins\\toc\\plugin.min.js\n",
      "E:/Work/chrome-plugin/chrome-gmail-plugin-v2/src/js/lib/tinymce\\plugins\\visualblocks\\plugin.min.js\n",
      "E:/Work/chrome-plugin/chrome-gmail-plugin-v2/src/js/lib/tinymce\\plugins\\visualchars\\plugin.min.js\n",
      "E:/Work/chrome-plugin/chrome-gmail-plugin-v2/src/js/lib/tinymce\\plugins\\wordcount\\plugin.min.js\n",
      "E:/Work/chrome-plugin/chrome-gmail-plugin-v2/src/js/lib/tinymce\\skins\\content\\default\\content.min.css\n",
      "E:/Work/chrome-plugin/chrome-gmail-plugin-v2/src/js/lib/tinymce\\skins\\content\\document\\content.min.css\n",
      "E:/Work/chrome-plugin/chrome-gmail-plugin-v2/src/js/lib/tinymce\\skins\\content\\writer\\content.min.css\n",
      "E:/Work/chrome-plugin/chrome-gmail-plugin-v2/src/js/lib/tinymce\\skins\\ui\\oxide\\content.inline.min.css\n",
      "E:/Work/chrome-plugin/chrome-gmail-plugin-v2/src/js/lib/tinymce\\skins\\ui\\oxide\\content.min.css\n",
      "E:/Work/chrome-plugin/chrome-gmail-plugin-v2/src/js/lib/tinymce\\skins\\ui\\oxide\\content.mobile.min.css\n",
      "E:/Work/chrome-plugin/chrome-gmail-plugin-v2/src/js/lib/tinymce\\skins\\ui\\oxide\\skin.min.css\n",
      "E:/Work/chrome-plugin/chrome-gmail-plugin-v2/src/js/lib/tinymce\\skins\\ui\\oxide\\skin.mobile.min.css\n",
      "E:/Work/chrome-plugin/chrome-gmail-plugin-v2/src/js/lib/tinymce\\skins\\ui\\oxide\\tinymce-mobile.woff\n",
      "E:/Work/chrome-plugin/chrome-gmail-plugin-v2/src/js/lib/tinymce\\skins\\ui\\oxide\\fonts\\tinymce-mobile.woff\n",
      "E:/Work/chrome-plugin/chrome-gmail-plugin-v2/src/js/lib/tinymce\\skins\\ui\\oxide-dark\\content.inline.min.css\n",
      "E:/Work/chrome-plugin/chrome-gmail-plugin-v2/src/js/lib/tinymce\\skins\\ui\\oxide-dark\\content.min.css\n",
      "E:/Work/chrome-plugin/chrome-gmail-plugin-v2/src/js/lib/tinymce\\skins\\ui\\oxide-dark\\content.mobile.min.css\n",
      "E:/Work/chrome-plugin/chrome-gmail-plugin-v2/src/js/lib/tinymce\\skins\\ui\\oxide-dark\\skin.min.css\n",
      "E:/Work/chrome-plugin/chrome-gmail-plugin-v2/src/js/lib/tinymce\\skins\\ui\\oxide-dark\\skin.mobile.min.css\n",
      "E:/Work/chrome-plugin/chrome-gmail-plugin-v2/src/js/lib/tinymce\\skins\\ui\\oxide-dark\\tinymce-mobile.woff\n",
      "E:/Work/chrome-plugin/chrome-gmail-plugin-v2/src/js/lib/tinymce\\themes\\mobile\\theme.min.js\n",
      "E:/Work/chrome-plugin/chrome-gmail-plugin-v2/src/js/lib/tinymce\\themes\\silver\\theme.min.js\n"
     ]
    }
   ],
   "source": [
    "import os\n",
    "\n",
    "path = 'E:/Work/chrome-plugin/chrome-gmail-plugin-v2/src/js/lib/tinymce'\n",
    "\n",
    "files = []\n",
    "# r=root, d=directories, f = files\n",
    "for r, d, f in os.walk(path):\n",
    "    for file in f:\n",
    "        files.append(os.path.join(r, file))\n",
    "\n",
    "for f in files:\n",
    "    print(f)"
   ]
  },
  {
   "cell_type": "code",
   "execution_count": null,
   "metadata": {},
   "outputs": [],
   "source": []
  }
 ],
 "metadata": {
  "kernelspec": {
   "display_name": "Python 3",
   "language": "python",
   "name": "python3"
  },
  "language_info": {
   "codemirror_mode": {
    "name": "ipython",
    "version": 3
   },
   "file_extension": ".py",
   "mimetype": "text/x-python",
   "name": "python",
   "nbconvert_exporter": "python",
   "pygments_lexer": "ipython3",
   "version": "3.7.3"
  },
  "toc": {
   "base_numbering": 1,
   "nav_menu": {},
   "number_sections": true,
   "sideBar": true,
   "skip_h1_title": true,
   "title_cell": "Table of Contents",
   "title_sidebar": "Contents",
   "toc_cell": true,
   "toc_position": {},
   "toc_section_display": true,
   "toc_window_display": true
  }
 },
 "nbformat": 4,
 "nbformat_minor": 2
}
