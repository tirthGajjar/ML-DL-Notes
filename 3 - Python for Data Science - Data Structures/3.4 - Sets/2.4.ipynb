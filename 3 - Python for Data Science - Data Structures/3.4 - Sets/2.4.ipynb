{
 "cells": [
  {
   "cell_type": "markdown",
   "metadata": {},
   "source": [
    "# Sets"
   ]
  },
  {
   "cell_type": "markdown",
   "metadata": {},
   "source": [
    "-> A set is an unordered collection of items. Every element is unique (no duplicates).\n",
    "\n",
    "-> Doesn't support indexing\n",
    "\n",
    "-> <span class=\"mark\">The set itself is mutable. We can add or remove items from it</span>.\n",
    "\n",
    "-> Sets can be used to perform mathematical set operations like <span class=\"mark\">union, intersection, symmetric difference</span> etc."
   ]
  },
  {
   "cell_type": "markdown",
   "metadata": {},
   "source": [
    "<table border=\"1\" style=\"table-layout: fixed;border-collapse: collapse;min-width: 99%;max-width: 100%;box-shadow: 0 0 2px 2px rgba(0,0,0,0.2);overflow: scroll;font-size: 16px;-webkit-font-smoothing: antialiasedl;;float:left\">\n",
    "    \t<caption>Python Set Methods</caption>\n",
    "\t<tbody>\n",
    "\t\t<tr>\n",
    "\t\t\t<th style=\"text-align:left;\" scope=\"col\">Method</th>\n",
    "\t\t\t<th style=\"text-align:left;\" scope=\"col\">Description</th>\n",
    "\t\t</tr>\n",
    "\t\t<tr>\n",
    "\t\t\t<td style=\"text-align:left;\"><a href=\"#add()\">add()</a></td>\n",
    "\t\t\t<td style=\"text-align:left;\">Adds an element to the set</td>\n",
    "\t\t</tr>\n",
    "\t\t<tr>\n",
    "\t\t\t<td style=\"text-align:left;\"><a href=\"#clear()\">clear()</a></td>\n",
    "\t\t\t<td style=\"text-align:left;\">Removes all elements from the set</td>\n",
    "\t\t</tr>\n",
    "\t\t<tr>\n",
    "\t\t\t<td style=\"text-align:left;\"><a href=\"#copy()\">copy()</a></td>\n",
    "\t\t\t<td style=\"text-align:left;\">Returns a copy of the set</td>\n",
    "\t\t</tr>\n",
    "\t\t<tr>\n",
    "\t\t\t<td style=\"text-align:left;\"><a href=\"#difference()\">difference()</a></td>\n",
    "\t\t\t<td style=\"text-align:left;\">Returns the difference of two or more sets as a new set</td>\n",
    "\t\t</tr>\n",
    "\t\t<tr>\n",
    "\t\t\t<td style=\"text-align:left;\"><span class=\"mark\"><a href=\"#difference_update()\">difference_update()</a></td>\n",
    "\t\t\t<td style=\"text-align:left;\"><span class=\"mark\">Removes all elements of another set from this set</span></span></td>\n",
    "\t\t</tr>\n",
    "\t\t<tr>\n",
    "\t\t\t<td style=\"text-align:left;\"><a href=\"#discard()\">discard()</a></td>\n",
    "\t\t\t<td style=\"text-align:left;\">Removes an element from the set if it is a member. (Do nothing if the element is not in set)</td>\n",
    "\t\t</tr>\n",
    "\t\t<tr>\n",
    "\t\t\t<td style=\"text-align:left;\"><a href=\"#intersection()\">intersection()</a></td>\n",
    "\t\t\t<td style=\"text-align:left;\">Returns the intersection of two sets as a new set</td>\n",
    "\t\t</tr>\n",
    "\t\t<tr>\n",
    "\t\t\t<td style=\"text-align:left;\"><span class=\"mark\"><a href=\"#intersection_update()\">intersection_update()</a></span></td>\n",
    "\t\t\t<td style=\"text-align:left;\"><span class=\"mark\">Updates the set with the intersection of itself and another</span></td>\n",
    "\t\t</tr>\n",
    "\t\t<tr>\n",
    "    <td style=\"text-align:left;\"><a href=\"#isdisjoint()\">isdisjoint()</a></td>\n",
    "\t\t\t<td style=\"text-align:left;\">Returns&nbsp;<code>True</code> if two sets have a null intersection</td>\n",
    "\t\t</tr>\n",
    "\t\t<tr>\n",
    "\t\t\t<td style=\"text-align:left;\"><a href=\"#issubset()\">issubset()</a></td>\n",
    "\t\t\t<td style=\"text-align:left;\">Returns&nbsp;<code>True</code> if another set contains this set</td>\n",
    "\t\t</tr>\n",
    "\t\t<tr>\n",
    "\t\t\t<td style=\"text-align:left;\"><a href=\"#issuperset()\">issuperset()</a></td>\n",
    "\t\t\t<td style=\"text-align:left;\">Returns&nbsp;<code>True</code> if this set contains another set</td>\n",
    "\t\t</tr>\n",
    "\t\t<tr>\n",
    "\t\t\t<td style=\"text-align:left;\"><a href=\"#pop()\">pop()</a></td>\n",
    "\t\t\t<td style=\"text-align:left;\">Removes and returns an arbitary set element. Raise <code>KeyError</code> if the set is empty</td>\n",
    "\t\t</tr>\n",
    "\t\t<tr>\n",
    "\t\t\t<td style=\"text-align:left;\"><a href=\"#remove()\">remove()</a></td>\n",
    "\t\t\t<td style=\"text-align:left;\">Removes an element from the set. If the element is not a member, raise a <code>KeyError</code></td>\n",
    "\t\t</tr>\n",
    "\t\t<tr>\n",
    "    <td style=\"text-align:left;\"><a href=\"#symmetric_difference()\">symmetric_difference()</a></td>\n",
    "\t\t\t<td style=\"text-align:left;\">Returns the symmetric difference of two sets as a new set</td>\n",
    "\t\t</tr>\n",
    "\t\t<tr>\n",
    "\t\t\t<td style=\"text-align:left;\"><span class=\"mark\"><a href=\"#symmetric_difference_update()\">symmetric_difference_update()</a></span></td>\n",
    "\t\t\t<td style=\"text-align:left;\"><span class=\"mark\">Updates a set with the symmetric difference of itself and another</span></td>\n",
    "\t\t</tr>\n",
    "\t\t<tr>\n",
    "\t\t\t<td style=\"text-align:left;\"><a href=\"#union()\">union()</a></td>\n",
    "\t\t\t<td style=\"text-align:left;\">Returns the union of sets in a new set</td>\n",
    "\t\t</tr>\n",
    "\t\t<tr>\n",
    "\t\t\t<td style=\"text-align:left;\"><a href=\"#update()\">update()</a></td>\n",
    "\t\t\t<td style=\"text-align:left;\">Updates the set with the union of itself and others</td>\n",
    "\t\t</tr>\n",
    "\t</tbody>\n",
    "</table>"
   ]
  },
  {
   "cell_type": "markdown",
   "metadata": {},
   "source": [
    "<table border=\"1\" style=\"table-layout: fixed;border-collapse: collapse;min-width: 99%;max-width: 100%;box-shadow: 0 0 2px 2px rgba(0,0,0,0.2);overflow: scroll;font-size: 16px;-webkit-font-smoothing: antialiasedl;;float:left\">\n",
    "\t<caption>Built-in Functions with Set</caption>\n",
    "<tbody>\n",
    "\t\t<tr>\n",
    "\t\t\t<th style=\"text-align:left;\" scope=\"col\">Function</th>\n",
    "\t\t\t<th style=\"text-align:left;\" scope=\"col\">Description</th>\n",
    "\t\t</tr>\n",
    "\t\t<tr>\n",
    "\t\t\t<td style=\"text-align:left;\">all()</td>\n",
    "\t\t\t<td style=\"text-align:left;\">Return <code>True</code> if all elements of the set are true (or if the set is empty).</td>\n",
    "\t\t</tr>\n",
    "\t\t<tr>\n",
    "\t\t\t<td style=\"text-align:left;\">any()</td>\n",
    "\t\t\t<td style=\"text-align:left;\">Return <code>True</code> if any element of the set is true. If the set is empty, return <code>False.</code></td>\n",
    "\t\t</tr>\n",
    "\t\t<tr>\n",
    "\t\t\t<td style=\"text-align:left;\">enumerate()</td>\n",
    "\t\t\t<td style=\"text-align:left;\">Return an enumerate object. It contains the index and value of all the items of set as a pair.</td>\n",
    "\t\t</tr>\n",
    "\t\t<tr>\n",
    "\t\t\t<td style=\"text-align:left;\">len()</td>\n",
    "\t\t\t<td style=\"text-align:left;\">Return the length (the number of items) in the set.</td>\n",
    "\t\t</tr>\n",
    "\t\t<tr>\n",
    "\t\t\t<td style=\"text-align:left;\">max()</td>\n",
    "\t\t\t<td style=\"text-align:left;\">Return the largest item in the set.</td>\n",
    "\t\t</tr>\n",
    "\t\t<tr>\n",
    "\t\t\t<td style=\"text-align:left;\">min()</td>\n",
    "\t\t\t<td style=\"text-align:left;\">Return the smallest item in the set.</td>\n",
    "\t\t</tr>\n",
    "\t\t<tr>\n",
    "\t\t\t<td style=\"text-align:left;\">sorted()</td>\n",
    "\t\t\t<td style=\"text-align:left;\">Return a new sorted list from elements in the set(does not sort the set itself).</td>\n",
    "\t\t</tr>\n",
    "\t\t<tr>\n",
    "\t\t\t<td style=\"text-align:left;\">sum()</td>\n",
    "\t\t\t<td style=\"text-align:left;\">Retrun the sum of all elements in the set.</td>\n",
    "\t\t</tr>\n",
    "\t</tbody>\n",
    "</table>"
   ]
  },
  {
   "cell_type": "markdown",
   "metadata": {},
   "source": [
    "# Defining a Set\n",
    "\n",
    "There are two ways to define a set in Python:\n",
    "\n",
    "1. <span class=\"mark\">built-in `set()` function</span>\n",
    "2. <span class=\"mark\">with curly braces</span> `{}`"
   ]
  },
  {
   "cell_type": "markdown",
   "metadata": {},
   "source": [
    "## 1. Using set function\n",
    "The set function takes in as argument an iterable like a list or tuple.   \n",
    "The syntax is as follows:\n",
    "\n",
    "```output_set = set(<iterable>)```\n",
    "\n",
    "list, tuple, string etc. are iterables"
   ]
  },
  {
   "cell_type": "code",
   "execution_count": 1,
   "metadata": {
    "ExecuteTime": {
     "end_time": "2019-05-04T11:43:56.918431Z",
     "start_time": "2019-05-04T11:43:56.915465Z"
    }
   },
   "outputs": [
    {
     "name": "stdout",
     "output_type": "stream",
     "text": [
      "{1, 2, 3}\n"
     ]
    }
   ],
   "source": [
    "s = set([1, 2, 3, 1])\n",
    "print(s)"
   ]
  },
  {
   "cell_type": "markdown",
   "metadata": {},
   "source": [
    "Two important things to notice in the output above:\n",
    "\n",
    "1. <span class=\"girk\">Resulting set is unordered\n",
    "2. <span class=\"girk\">Duplicates are removed</span></span>\n",
    "\n",
    "The 2nd property by which duplicates are removed allows us to use set objects for various operations like indexing etc.\n",
    "\n",
    "> <span class=\"burk\">Sets are significantly faster when it comes to determining if an object is present in the set, but are slower than lists when it comes to iterating over their contents.</span>"
   ]
  },
  {
   "cell_type": "markdown",
   "metadata": {},
   "source": [
    "## 2. Using curly braces\n",
    "\n",
    "Alternately, a set can be defined with curly braces (`{}`). The syntax is as follows:\n",
    "\n",
    "`x = {<item>, <item>, ..., <item>}`\n",
    "\n",
    "Each `<item>` will become a distinct element of the set, even if item is iterable.\n"
   ]
  },
  {
   "cell_type": "code",
   "execution_count": 2,
   "metadata": {
    "ExecuteTime": {
     "end_time": "2019-05-04T11:43:58.287765Z",
     "start_time": "2019-05-04T11:43:58.282804Z"
    }
   },
   "outputs": [
    {
     "name": "stdout",
     "output_type": "stream",
     "text": [
      "{'a', 'b', 'c'}\n",
      "<class 'set'>\n"
     ]
    }
   ],
   "source": [
    "#set of integers\n",
    "s = {'a', 'b', 'c'}\n",
    "print(s)\n",
    "\n",
    "#print type of s \n",
    "print(type(s))"
   ]
  },
  {
   "cell_type": "markdown",
   "metadata": {},
   "source": [
    "<span class=\"burk\">The difference in the two methods lies in how they deal with iterables.</span>"
   ]
  },
  {
   "cell_type": "code",
   "execution_count": 3,
   "metadata": {
    "ExecuteTime": {
     "end_time": "2019-05-04T11:43:58.791416Z",
     "start_time": "2019-05-04T11:43:58.787435Z"
    }
   },
   "outputs": [
    {
     "name": "stdout",
     "output_type": "stream",
     "text": [
      "set using curly braces: {'abcd'}\n",
      "set using set() method: {'a', 'b', 'd', 'c'}\n"
     ]
    }
   ],
   "source": [
    "set1 = {'abcd'}\n",
    "print('set using curly braces:' ,set1)\n",
    "set2 = set('abcd')\n",
    "print('set using set() method:', set2)"
   ]
  },
  {
   "cell_type": "markdown",
   "metadata": {},
   "source": [
    "# Python Set Methods"
   ]
  },
  {
   "cell_type": "markdown",
   "metadata": {},
   "source": [
    "### add()"
   ]
  },
  {
   "cell_type": "code",
   "execution_count": 4,
   "metadata": {
    "ExecuteTime": {
     "end_time": "2019-05-04T11:43:59.478579Z",
     "start_time": "2019-05-04T11:43:59.474589Z"
    }
   },
   "outputs": [
    {
     "name": "stdout",
     "output_type": "stream",
     "text": [
      "{1, 2, 3}\n"
     ]
    }
   ],
   "source": [
    "s = {1, 3}\n",
    "s.add(2)\n",
    "print(s)"
   ]
  },
  {
   "cell_type": "code",
   "execution_count": 5,
   "metadata": {
    "ExecuteTime": {
     "end_time": "2019-05-04T11:43:59.704974Z",
     "start_time": "2019-05-04T11:43:59.698990Z"
    }
   },
   "outputs": [
    {
     "name": "stdout",
     "output_type": "stream",
     "text": [
      "Vowels are: {'a', ('i', 'o'), 'e', 'u'}\n",
      "Vowels are: {'a', ('i', 'o'), 'e', 'u'}\n"
     ]
    }
   ],
   "source": [
    "# set of vowels\n",
    "vowels = {'a', 'e', 'u'}\n",
    "\n",
    "# a tuple ('i', 'o')\n",
    "tup = ('i', 'o')\n",
    "\n",
    "# adding tuple\n",
    "vowels.add(tup)\n",
    "print('Vowels are:', vowels)\n",
    "\n",
    "# adding same tuple again\n",
    "vowels.add(tup)\n",
    "print('Vowels are:', vowels)"
   ]
  },
  {
   "cell_type": "markdown",
   "metadata": {
    "ExecuteTime": {
     "end_time": "2019-05-04T05:23:33.077947Z",
     "start_time": "2019-05-04T05:23:33.073926Z"
    }
   },
   "source": [
    "### clear()"
   ]
  },
  {
   "cell_type": "code",
   "execution_count": 6,
   "metadata": {
    "ExecuteTime": {
     "end_time": "2019-05-04T11:44:00.142806Z",
     "start_time": "2019-05-04T11:44:00.138816Z"
    }
   },
   "outputs": [
    {
     "name": "stdout",
     "output_type": "stream",
     "text": [
      "set()\n"
     ]
    }
   ],
   "source": [
    "s = {1, 3}\n",
    "s.clear()\n",
    "print(s)"
   ]
  },
  {
   "cell_type": "markdown",
   "metadata": {
    "ExecuteTime": {
     "end_time": "2019-05-04T05:23:33.077947Z",
     "start_time": "2019-05-04T05:23:33.073926Z"
    }
   },
   "source": [
    "### copy()\n",
    "The copy() method returns a shallow copy of the set.  \n",
    "A set can be copied using = operator in Python. For example:"
   ]
  },
  {
   "cell_type": "code",
   "execution_count": 7,
   "metadata": {
    "ExecuteTime": {
     "end_time": "2019-05-04T11:44:00.728238Z",
     "start_time": "2019-05-04T11:44:00.723249Z"
    }
   },
   "outputs": [
    {
     "name": "stdout",
     "output_type": "stream",
     "text": [
      "numbers:  {1, 2, 3, 4, '5'}\n",
      "new_numbers:  {1, 2, 3, 4, '5'}\n"
     ]
    }
   ],
   "source": [
    "numbers = {1, 2, 3, 4}\n",
    "new_numbers = numbers\n",
    "\n",
    "new_numbers.add('5')\n",
    "\n",
    "print('numbers: ', numbers)\n",
    "print('new_numbers: ', new_numbers)"
   ]
  },
  {
   "cell_type": "markdown",
   "metadata": {},
   "source": [
    "The problem with copying the set in this way is that if you modify the `numbers` set, the `new_numbers` set is also modified.\n",
    "\n",
    "However, <span class=\"burk\">if you need the original set unchanged when the new set is modified, you can use copy() method</span>."
   ]
  },
  {
   "cell_type": "code",
   "execution_count": 8,
   "metadata": {
    "ExecuteTime": {
     "end_time": "2019-05-04T11:44:01.214957Z",
     "start_time": "2019-05-04T11:44:01.210971Z"
    }
   },
   "outputs": [
    {
     "name": "stdout",
     "output_type": "stream",
     "text": [
      "numbers:  {1, 2, 3, 4}\n",
      "new_numbers:  {1, 2, 3, 4, '5'}\n"
     ]
    }
   ],
   "source": [
    "numbers = {1, 2, 3, 4}\n",
    "new_numbers = numbers.copy()\n",
    "\n",
    "new_numbers.add('5')\n",
    "\n",
    "print('numbers: ', numbers)\n",
    "print('new_numbers: ', new_numbers)"
   ]
  },
  {
   "cell_type": "markdown",
   "metadata": {
    "ExecuteTime": {
     "end_time": "2019-05-04T05:51:46.943220Z",
     "start_time": "2019-05-04T05:51:46.940210Z"
    }
   },
   "source": [
    "### discard()\n",
    "\n",
    "The discard() method takes a single element x and removes it from the set (if present)."
   ]
  },
  {
   "cell_type": "code",
   "execution_count": 9,
   "metadata": {
    "ExecuteTime": {
     "end_time": "2019-05-04T11:44:01.958944Z",
     "start_time": "2019-05-04T11:44:01.954982Z"
    }
   },
   "outputs": [
    {
     "name": "stdout",
     "output_type": "stream",
     "text": [
      "numbers =  {2, 4, 5}\n",
      "numbers =  {2, 4, 5}\n"
     ]
    }
   ],
   "source": [
    "numbers = {2, 3, 4, 5}\n",
    "\n",
    "numbers.discard(3)\n",
    "print('numbers = ', numbers)\n",
    "\n",
    "numbers.discard(10)\n",
    "print('numbers = ', numbers)"
   ]
  },
  {
   "cell_type": "markdown",
   "metadata": {},
   "source": [
    "This method returns None (meaning, absence of a return value)."
   ]
  },
  {
   "cell_type": "code",
   "execution_count": 10,
   "metadata": {
    "ExecuteTime": {
     "end_time": "2019-05-04T11:44:02.566336Z",
     "start_time": "2019-05-04T11:44:02.563354Z"
    }
   },
   "outputs": [
    {
     "name": "stdout",
     "output_type": "stream",
     "text": [
      "None\n",
      "numbers = {2, 4, 5}\n"
     ]
    }
   ],
   "source": [
    "numbers = {2, 3, 5, 4}\n",
    "\n",
    "# Returns None\n",
    "# Meaning, absence of a return value \n",
    "print(numbers.discard(3))\n",
    "\n",
    "print('numbers =', numbers)"
   ]
  },
  {
   "cell_type": "markdown",
   "metadata": {},
   "source": [
    "### union()\n",
    "The union() method returns a new set with distinct elements from all the sets.  \n",
    "<span class=\"mark\">The union() allows arbitrary number of arguments (sets).</span>\n",
    "\n",
    "`A.union(*other_sets)`"
   ]
  },
  {
   "cell_type": "code",
   "execution_count": 11,
   "metadata": {
    "ExecuteTime": {
     "end_time": "2019-05-04T11:44:03.167711Z",
     "start_time": "2019-05-04T11:44:03.162756Z"
    }
   },
   "outputs": [
    {
     "name": "stdout",
     "output_type": "stream",
     "text": [
      "A U B = {2, 'a', 'd', 'c'}\n",
      "B U C = {1, 2, 3, 'd', 'c'}\n",
      "A U B U C = {1, 2, 3, 'a', 'd', 'c'}\n",
      "A.union() =  {'a', 'd', 'c'}\n"
     ]
    }
   ],
   "source": [
    "A = {'a', 'c', 'd'}\n",
    "B = {'c', 'd', 2 }\n",
    "C= {1, 2, 3}\n",
    "\n",
    "print('A U B =', A.union(B))\n",
    "print('B U C =', B.union(C))\n",
    "\n",
    "print('A U B U C =', A.union(B, C))\n",
    "\n",
    "print('A.union() = ', A.union())"
   ]
  },
  {
   "cell_type": "markdown",
   "metadata": {},
   "source": [
    "You can also find the <span class=\"burk\">union of sets using ` | ` operator.</span>"
   ]
  },
  {
   "cell_type": "code",
   "execution_count": 12,
   "metadata": {
    "ExecuteTime": {
     "end_time": "2019-05-04T11:44:03.854873Z",
     "start_time": "2019-05-04T11:44:03.850903Z"
    }
   },
   "outputs": [
    {
     "name": "stdout",
     "output_type": "stream",
     "text": [
      "A U B = {2, 'a', 'd', 'c'}\n",
      "B U C = {1, 2, 3, 'd', 'c'}\n",
      "A U B U C = {1, 2, 3, 'a', 'd', 'c'}\n"
     ]
    }
   ],
   "source": [
    "A = {'a', 'c', 'd'}\n",
    "B = {'c', 'd', 2 }\n",
    "C= {1, 2, 3}\n",
    "\n",
    "print('A U B =', A| B)\n",
    "print('B U C =', B | C)\n",
    "\n",
    "print('A U B U C =', A | B | C)"
   ]
  },
  {
   "cell_type": "markdown",
   "metadata": {},
   "source": [
    "### intersection()\n",
    "The intersection of two or more sets is the set of elements which are common to all sets.   \n",
    "<span class=\"mark\">The intersection() allows arbitrary number of arguments (sets).</span>\n",
    "\n",
    "`A.intersection(*other_sets)`"
   ]
  },
  {
   "cell_type": "code",
   "execution_count": 13,
   "metadata": {
    "ExecuteTime": {
     "end_time": "2019-05-04T11:44:04.575945Z",
     "start_time": "2019-05-04T11:44:04.570958Z"
    }
   },
   "outputs": [
    {
     "name": "stdout",
     "output_type": "stream",
     "text": [
      "{2, 5}\n",
      "{2}\n",
      "{2, 3}\n",
      "{2}\n"
     ]
    }
   ],
   "source": [
    "A = {2, 3, 5, 4}\n",
    "B = {2, 5, 100}\n",
    "C = {2, 3, 8, 9, 10}\n",
    "\n",
    "print(B.intersection(A))\n",
    "print(B.intersection(C))\n",
    "print(A.intersection(C))\n",
    "print(C.intersection(A, B))"
   ]
  },
  {
   "cell_type": "markdown",
   "metadata": {},
   "source": [
    "You can also find the <span class=\"burk\">intersection of sets using ` & ` operator</span>"
   ]
  },
  {
   "cell_type": "code",
   "execution_count": 14,
   "metadata": {
    "ExecuteTime": {
     "end_time": "2019-05-04T11:44:05.391764Z",
     "start_time": "2019-05-04T11:44:05.386813Z"
    }
   },
   "outputs": [
    {
     "name": "stdout",
     "output_type": "stream",
     "text": [
      "{7}\n",
      "{100}\n",
      "set()\n",
      "set()\n"
     ]
    }
   ],
   "source": [
    "A = {100, 7, 8}\n",
    "B = {200, 4, 5}\n",
    "C = {300, 2, 3, 7}\n",
    "D = {100, 200, 300}\n",
    "\n",
    "print(A & C)\n",
    "print(A & D)\n",
    "\n",
    "\n",
    "print(A & C & D)\n",
    "print(A & B & C & D)"
   ]
  },
  {
   "cell_type": "markdown",
   "metadata": {
    "ExecuteTime": {
     "end_time": "2019-05-04T05:23:33.077947Z",
     "start_time": "2019-05-04T05:23:33.073926Z"
    }
   },
   "source": [
    "### difference()\n",
    "The difference() method returns the set difference of two sets.  \n",
    "\n",
    "`A.difference(B)`"
   ]
  },
  {
   "cell_type": "code",
   "execution_count": 15,
   "metadata": {
    "ExecuteTime": {
     "end_time": "2019-05-04T11:44:06.158726Z",
     "start_time": "2019-05-04T11:44:06.155719Z"
    }
   },
   "outputs": [
    {
     "name": "stdout",
     "output_type": "stream",
     "text": [
      "{'a', 'b', 'd'}\n",
      "{'g', 'f'}\n"
     ]
    }
   ],
   "source": [
    "A = {'a', 'b', 'c', 'd'}\n",
    "B = {'c', 'f', 'g'}\n",
    "\n",
    "# Equivalent to A-B\n",
    "print(A.difference(B))\n",
    "\n",
    "# Equivalent to B-A\n",
    "print(B.difference(A))"
   ]
  },
  {
   "cell_type": "markdown",
   "metadata": {},
   "source": [
    "We can also find the set <span class=\"burk\">difference using ` - ` operator</span> in Python."
   ]
  },
  {
   "cell_type": "code",
   "execution_count": 16,
   "metadata": {
    "ExecuteTime": {
     "end_time": "2019-05-04T11:44:07.062307Z",
     "start_time": "2019-05-04T11:44:07.059302Z"
    }
   },
   "outputs": [
    {
     "name": "stdout",
     "output_type": "stream",
     "text": [
      "{'a', 'b', 'd'}\n",
      "{'g', 'f'}\n"
     ]
    }
   ],
   "source": [
    "A = {'a', 'b', 'c', 'd'}\n",
    "B = {'c', 'f', 'g'}\n",
    "\n",
    "print(A-B)\n",
    "\n",
    "print(B-A)"
   ]
  },
  {
   "attachments": {
    "image.png": {
     "image/png": "[encoded data removed]"
    }
   },
   "cell_type": "markdown",
   "metadata": {
    "hidePrompt": true
   },
   "source": [
    "### symmetric_difference() \n",
    "The symmetric_difference() returns a new set which is the symmetric difference of two sets.  \n",
    "![image.png](attachment:image.png)\n",
    "\n",
    "<span class=\"mark\">The symmetric_difference takes a single argument (set).</span>\n",
    "\n"
   ]
  },
  {
   "cell_type": "code",
   "execution_count": 17,
   "metadata": {
    "ExecuteTime": {
     "end_time": "2019-05-04T11:44:07.848193Z",
     "start_time": "2019-05-04T11:44:07.843211Z"
    }
   },
   "outputs": [
    {
     "name": "stdout",
     "output_type": "stream",
     "text": [
      "{'a', 'e', 'b'}\n",
      "{'a', 'e', 'b'}\n",
      "{'a', 'b', 'd', 'c'}\n",
      "{'e', 'd', 'c'}\n"
     ]
    }
   ],
   "source": [
    "A = {'a', 'b', 'c', 'd'}\n",
    "B = {'c', 'd', 'e' }\n",
    "C = {}\n",
    "\n",
    "print(A.symmetric_difference(B))\n",
    "print(B.symmetric_difference(A))\n",
    "\n",
    "print(A.symmetric_difference(C))\n",
    "print(B.symmetric_difference(C))"
   ]
  },
  {
   "cell_type": "markdown",
   "metadata": {},
   "source": [
    "In Python, you can also find the <span class=\"burk\">symmetric difference using  ` ^ ` operator</span>."
   ]
  },
  {
   "cell_type": "code",
   "execution_count": 18,
   "metadata": {
    "ExecuteTime": {
     "end_time": "2019-05-04T11:44:08.639090Z",
     "start_time": "2019-05-04T11:44:08.635113Z"
    }
   },
   "outputs": [
    {
     "name": "stdout",
     "output_type": "stream",
     "text": [
      "{'a', 'e', 'b'}\n",
      "{'a', 'e', 'b'}\n",
      "set()\n",
      "set()\n"
     ]
    }
   ],
   "source": [
    "A = {'a', 'b', 'c', 'd'}\n",
    "B = {'c', 'd', 'e' }\n",
    "\n",
    "print(A ^ B)\n",
    "print(B ^ A)\n",
    "\n",
    "print(A ^ A)\n",
    "print(B ^ B)"
   ]
  },
  {
   "cell_type": "markdown",
   "metadata": {
    "ExecuteTime": {
     "end_time": "2019-05-04T06:48:42.028416Z",
     "start_time": "2019-05-04T06:48:42.021433Z"
    }
   },
   "source": [
    "### remove()\n",
    "The remove() method searches for the given element in the set and removes it.  \n",
    "<span class=\"mark\">The remove() method only removes the given element from the set. It doesn't return any value.</span>"
   ]
  },
  {
   "cell_type": "code",
   "execution_count": 19,
   "metadata": {
    "ExecuteTime": {
     "end_time": "2019-05-04T11:44:09.582554Z",
     "start_time": "2019-05-04T11:44:09.578563Z"
    },
    "hidePrompt": true
   },
   "outputs": [
    {
     "name": "stdout",
     "output_type": "stream",
     "text": [
      "Updated language set:  {'French', 'English'}\n"
     ]
    }
   ],
   "source": [
    "# language set\n",
    "language = {'English', 'French', 'German'}\n",
    "\n",
    "# 'German' element is removed\n",
    "language.remove('German')\n",
    "\n",
    "# Updated language set\n",
    "print('Updated language set: ', language)"
   ]
  },
  {
   "cell_type": "code",
   "execution_count": 20,
   "metadata": {
    "ExecuteTime": {
     "end_time": "2019-05-04T11:44:10.097177Z",
     "start_time": "2019-05-04T11:44:10.043349Z"
    }
   },
   "outputs": [
    {
     "ename": "KeyError",
     "evalue": "'fish'",
     "output_type": "error",
     "traceback": [
      "\u001b[1;31m---------------------------------------------------------------------------\u001b[0m",
      "\u001b[1;31mKeyError\u001b[0m                                  Traceback (most recent call last)",
      "\u001b[1;32m<ipython-input-20-d5f842046196>\u001b[0m in \u001b[0;36m<module>\u001b[1;34m()\u001b[0m\n\u001b[0;32m      3\u001b[0m \u001b[1;33m\u001b[0m\u001b[0m\n\u001b[0;32m      4\u001b[0m \u001b[1;31m# Deleting 'fish' element\u001b[0m\u001b[1;33m\u001b[0m\u001b[1;33m\u001b[0m\u001b[0m\n\u001b[1;32m----> 5\u001b[1;33m \u001b[0manimal\u001b[0m\u001b[1;33m.\u001b[0m\u001b[0mremove\u001b[0m\u001b[1;33m(\u001b[0m\u001b[1;34m'fish'\u001b[0m\u001b[1;33m)\u001b[0m\u001b[1;33m\u001b[0m\u001b[0m\n\u001b[0m\u001b[0;32m      6\u001b[0m \u001b[1;33m\u001b[0m\u001b[0m\n\u001b[0;32m      7\u001b[0m \u001b[1;31m# Updated animal\u001b[0m\u001b[1;33m\u001b[0m\u001b[1;33m\u001b[0m\u001b[0m\n",
      "\u001b[1;31mKeyError\u001b[0m: 'fish'"
     ]
    }
   ],
   "source": [
    "# animal set\n",
    "animal = {'cat', 'dog', 'rabbit', 'guinea pig'}\n",
    "\n",
    "# Deleting 'fish' element\n",
    "animal.remove('fish')\n",
    "\n",
    "# Updated animal\n",
    "print('Updated animal set: ', animal)"
   ]
  },
  {
   "cell_type": "markdown",
   "metadata": {},
   "source": [
    "### pop()\n",
    "The pop() method <span class=\"mark\">removes an <span class=\"burk\">arbitrary element</span> from the set and <span class=\"burk\">returns the element removed</span></span>."
   ]
  },
  {
   "cell_type": "code",
   "execution_count": 21,
   "metadata": {
    "ExecuteTime": {
     "end_time": "2019-05-04T11:44:11.142397Z",
     "start_time": "2019-05-04T11:44:11.139415Z"
    }
   },
   "outputs": [
    {
     "name": "stdout",
     "output_type": "stream",
     "text": [
      "Return Value is a\n",
      "A =  {'b', 'd', 'c'}\n"
     ]
    }
   ],
   "source": [
    "A ={'a', 'b', 'c', 'd'}\n",
    "\n",
    "print('Return Value is', A.pop())\n",
    "print('A = ', A)"
   ]
  },
  {
   "cell_type": "markdown",
   "metadata": {},
   "source": [
    "### isdisjoint()\n",
    "The isdisjoint() method returns `True` if two sets are disjoint sets.  \n",
    "If not, it returns `False`.\n"
   ]
  },
  {
   "cell_type": "code",
   "execution_count": 22,
   "metadata": {
    "ExecuteTime": {
     "end_time": "2019-05-04T11:44:12.008067Z",
     "start_time": "2019-05-04T11:44:12.003080Z"
    }
   },
   "outputs": [
    {
     "name": "stdout",
     "output_type": "stream",
     "text": [
      "Are A and B disjoint? True\n",
      "Are A and C disjoint? False\n"
     ]
    }
   ],
   "source": [
    "A = {1, 2, 3, 4}\n",
    "B = {5, 6, 7}\n",
    "C = {4, 5, 6}\n",
    "\n",
    "print('Are A and B disjoint?', A.isdisjoint(B))\n",
    "print('Are A and C disjoint?', A.isdisjoint(C))"
   ]
  },
  {
   "cell_type": "markdown",
   "metadata": {},
   "source": [
    "`isdisjoint()` <span class=\"mark\">with Other Iterables as arguments</span>"
   ]
  },
  {
   "cell_type": "code",
   "execution_count": 23,
   "metadata": {
    "ExecuteTime": {
     "end_time": "2019-05-04T11:44:13.015399Z",
     "start_time": "2019-05-04T11:44:13.011429Z"
    }
   },
   "outputs": [
    {
     "name": "stdout",
     "output_type": "stream",
     "text": [
      "Are A and B disjoint? False\n",
      "Are A and C disjoint? False\n",
      "Are A and D disjoint? True\n",
      "Are A and E disjoint? False\n"
     ]
    }
   ],
   "source": [
    "A = {'a', 'b', 'c', 'd'}\n",
    "B = ['b', 'e', 'f']\n",
    "C = '5de4'\n",
    "D ={1 : 'a', 2 : 'b'}\n",
    "E ={'a' : 1, 'b' : 2}\n",
    "\n",
    "print('Are A and B disjoint?', A.isdisjoint(B))\n",
    "print('Are A and C disjoint?', A.isdisjoint(C))\n",
    "print('Are A and D disjoint?', A.isdisjoint(D))\n",
    "print('Are A and E disjoint?', A.isdisjoint(E))"
   ]
  },
  {
   "cell_type": "markdown",
   "metadata": {},
   "source": [
    "### issubset()"
   ]
  },
  {
   "cell_type": "markdown",
   "metadata": {},
   "source": [
    "The issubset() returns\n",
    "\n",
    "- `True` if A is a subset of B\n",
    "- `False` if A is not a subset of B"
   ]
  },
  {
   "cell_type": "code",
   "execution_count": 24,
   "metadata": {
    "ExecuteTime": {
     "end_time": "2019-05-04T11:44:14.279989Z",
     "start_time": "2019-05-04T11:44:14.275002Z"
    }
   },
   "outputs": [
    {
     "name": "stdout",
     "output_type": "stream",
     "text": [
      "True\n",
      "False\n",
      "False\n",
      "True\n"
     ]
    }
   ],
   "source": [
    "A = {1, 2, 3}\n",
    "B = {1, 2, 3, 4, 5}\n",
    "C = {1, 2, 4, 5}\n",
    "\n",
    "# Returns True\n",
    "print(A.issubset(B))\n",
    "\n",
    "# Returns False\n",
    "# B is not subset of A\n",
    "print(B.issubset(A))\n",
    "\n",
    "# Returns False\n",
    "print(A.issubset(C))\n",
    "\n",
    "# Returns True\n",
    "print(C.issubset(B))"
   ]
  },
  {
   "cell_type": "markdown",
   "metadata": {},
   "source": [
    "### issuperset()\n",
    "The issuperset() returns\n",
    "\n",
    "- `True` if A is a superset of B\n",
    "- `False` if A is not a superset of B"
   ]
  },
  {
   "cell_type": "code",
   "execution_count": 25,
   "metadata": {
    "ExecuteTime": {
     "end_time": "2019-05-04T11:44:15.494768Z",
     "start_time": "2019-05-04T11:44:15.490751Z"
    }
   },
   "outputs": [
    {
     "name": "stdout",
     "output_type": "stream",
     "text": [
      "True\n",
      "False\n",
      "True\n"
     ]
    }
   ],
   "source": [
    "A = {1, 2, 3, 4, 5}\n",
    "B = {1, 2, 3}\n",
    "C = {1, 2, 3}\n",
    "\n",
    "# Returns True\n",
    "print(A.issuperset(B))\n",
    "\n",
    "# Returns False\n",
    "print(B.issuperset(A))\n",
    "\n",
    "# Returns True\n",
    "print(C.issuperset(B))"
   ]
  },
  {
   "cell_type": "markdown",
   "metadata": {
    "ExecuteTime": {
     "end_time": "2019-05-04T06:46:55.999660Z",
     "start_time": "2019-05-04T06:46:55.997653Z"
    }
   },
   "source": [
    "### update()\n",
    "<span class=\"mark\">The update() adds elements from a set (passed as an argument) to the set (calling the update() method).</span>\n",
    "\n",
    "`A.update(B)`\n",
    "\n",
    "This method returns `None` (meaning, absence of a return value).\n",
    "\n"
   ]
  },
  {
   "cell_type": "code",
   "execution_count": 26,
   "metadata": {
    "ExecuteTime": {
     "end_time": "2019-05-04T11:44:16.543939Z",
     "start_time": "2019-05-04T11:44:16.539944Z"
    }
   },
   "outputs": [
    {
     "name": "stdout",
     "output_type": "stream",
     "text": [
      "A = {1, 2, 3, 'b', 'a'}\n",
      "B = {1, 2, 3}\n",
      "result = None\n"
     ]
    }
   ],
   "source": [
    "A = {'a', 'b'}\n",
    "B = {1, 2, 3}\n",
    "\n",
    "result = A.update(B)\n",
    "print('A =',A)\n",
    "print('B =',B)\n",
    "print('result =',result)"
   ]
  },
  {
   "cell_type": "markdown",
   "metadata": {},
   "source": [
    "<span class=\"mark\">Update With String</span>"
   ]
  },
  {
   "cell_type": "code",
   "execution_count": 27,
   "metadata": {
    "ExecuteTime": {
     "end_time": "2019-05-04T11:44:17.632025Z",
     "start_time": "2019-05-04T11:44:17.627039Z"
    }
   },
   "outputs": [
    {
     "name": "stdout",
     "output_type": "stream",
     "text": [
      "numbers_set = {1, 2, 'a', 'b', 'c'}\n",
      "string_alphabet = abc\n"
     ]
    }
   ],
   "source": [
    "string_alphabet = 'abc'\n",
    "numbers_set = {1, 2}\n",
    "\n",
    "numbers_set.update(string_alphabet)\n",
    "\n",
    "print('numbers_set =',numbers_set)\n",
    "print('string_alphabet =',string_alphabet)"
   ]
  },
  {
   "cell_type": "markdown",
   "metadata": {},
   "source": [
    "<span class=\"mark\">Update With Dictionary</span>"
   ]
  },
  {
   "cell_type": "code",
   "execution_count": 28,
   "metadata": {
    "ExecuteTime": {
     "end_time": "2019-05-04T11:44:18.799900Z",
     "start_time": "2019-05-04T11:44:18.794913Z"
    }
   },
   "outputs": [
    {
     "name": "stdout",
     "output_type": "stream",
     "text": [
      "numbers_set = {'a', 2, 'b', 'key'}\n"
     ]
    }
   ],
   "source": [
    "info_dictionary = {\n",
    "    'key': 1, \n",
    "    2 : 'lock'\n",
    "}\n",
    "numbers_set = {'a', 'b'}\n",
    "\n",
    "numbers_set.update(info_dictionary)\n",
    "print('numbers_set =',numbers_set)"
   ]
  },
  {
   "cell_type": "markdown",
   "metadata": {},
   "source": [
    "### difference_update()\n",
    "The difference_update() <span class=\"mark\">updates the set calling difference_update() method with the difference of sets</span>.  \n",
    "returns `None` indicating the object (set) is mutated.\n",
    "\n",
    "For below example\n",
    "- result will be `None`\n",
    "- `A` will be equal to `A-B`\n",
    "- `B` will be unchanged"
   ]
  },
  {
   "cell_type": "code",
   "execution_count": 29,
   "metadata": {
    "ExecuteTime": {
     "end_time": "2019-05-04T11:44:19.903947Z",
     "start_time": "2019-05-04T11:44:19.898960Z"
    }
   },
   "outputs": [
    {
     "name": "stdout",
     "output_type": "stream",
     "text": [
      "A =  {'a', 'd'}\n",
      "B =  {'g', 'f', 'c'}\n",
      "result =  None\n"
     ]
    }
   ],
   "source": [
    "A = {'a', 'c', 'g', 'd'}\n",
    "B = {'c', 'f', 'g'}\n",
    "\n",
    "result = A.difference_update(B)\n",
    "\n",
    "print('A = ', A)\n",
    "print('B = ', B)\n",
    "print('result = ', result)"
   ]
  },
  {
   "cell_type": "markdown",
   "metadata": {},
   "source": [
    "### intersection_update()  \n",
    "The intersection_update() <span class=\"mark\">updates the set calling intersection_update() method with the intersection of sets</span>.\n",
    "\n",
    "`A.intersection_update(*other_sets)`\n",
    "\n",
    "For below example \n",
    "\n",
    "- `result` will be `None`\n",
    "- `A` will be equal to the intersection of `A`, `B` and `C`\n",
    "- `B` remains unchanged\n",
    "- `C` remains unchanged\n"
   ]
  },
  {
   "cell_type": "code",
   "execution_count": 30,
   "metadata": {
    "ExecuteTime": {
     "end_time": "2019-05-04T11:44:20.936212Z",
     "start_time": "2019-05-04T11:44:20.930230Z"
    }
   },
   "outputs": [
    {
     "name": "stdout",
     "output_type": "stream",
     "text": [
      "result = None\n",
      "C = {4}\n",
      "B = {2, 3, 4, 5, 6}\n",
      "A = {1, 2, 3, 4}\n"
     ]
    }
   ],
   "source": [
    "A = {1, 2, 3, 4}\n",
    "B = {2, 3, 4, 5, 6}\n",
    "C = {4, 5, 6, 9, 10}\n",
    "\n",
    "result = C.intersection_update(B, A)\n",
    "\n",
    "print('result =', result)\n",
    "print('C =', C)\n",
    "print('B =', B)\n",
    "print('A =', A)"
   ]
  },
  {
   "cell_type": "markdown",
   "metadata": {},
   "source": [
    "### symmetric_difference_update()  \n",
    "The symmetric_difference_update() method <span class=\"mark\">updates the set calling the symmetric_difference_update() with the symmetric difference of sets</span>.\n",
    "\n",
    "`A.symmetric_difference_update(B)`"
   ]
  },
  {
   "cell_type": "code",
   "execution_count": 31,
   "metadata": {
    "ExecuteTime": {
     "end_time": "2019-05-04T11:44:22.287572Z",
     "start_time": "2019-05-04T11:44:22.282610Z"
    }
   },
   "outputs": [
    {
     "name": "stdout",
     "output_type": "stream",
     "text": [
      "A =  {'a', 'e'}\n",
      "B =  {'e', 'd', 'c'}\n",
      "result =  None\n"
     ]
    }
   ],
   "source": [
    "A = {'a', 'c', 'd'}\n",
    "B = {'c', 'd', 'e' }\n",
    "\n",
    "result = A.symmetric_difference_update(B)\n",
    "\n",
    "print('A = ', A)\n",
    "print('B = ', B)\n",
    "print('result = ', result)"
   ]
  },
  {
   "cell_type": "markdown",
   "metadata": {},
   "source": [
    "# Frozen Sets"
   ]
  },
  {
   "cell_type": "markdown",
   "metadata": {},
   "source": [
    "Frozen sets has the characteristics of sets, but we can't be changed once it's assigned. While tuple are immutable lists, frozen sets are immutable sets  \n",
    "\n",
    "Frozensets can be created using the function frozenset()  \n",
    " \n",
    "Sets being mutable are unhashable, so they can't be used as dictionary keys. On the other hand, frozensets are hashable and can be used as keys to a dictionary.  \n",
    " \n",
    "This datatype supports methods like copy(), difference(), intersection(), isdisjoint(), issubset(), issuperset(), symmetric_difference() and union(). Being immutable it does not have method that add or remove elements."
   ]
  },
  {
   "cell_type": "code",
   "execution_count": 1,
   "metadata": {
    "ExecuteTime": {
     "end_time": "2019-05-04T11:56:55.216763Z",
     "start_time": "2019-05-04T11:56:55.160906Z"
    }
   },
   "outputs": [
    {
     "ename": "AttributeError",
     "evalue": "'frozenset' object has no attribute 'add'",
     "output_type": "error",
     "traceback": [
      "\u001b[1;31m---------------------------------------------------------------------------\u001b[0m",
      "\u001b[1;31mAttributeError\u001b[0m                            Traceback (most recent call last)",
      "\u001b[1;32m<ipython-input-1-627ec1ce44a6>\u001b[0m in \u001b[0;36m<module>\u001b[1;34m()\u001b[0m\n\u001b[0;32m      3\u001b[0m \u001b[1;33m\u001b[0m\u001b[0m\n\u001b[0;32m      4\u001b[0m \u001b[1;31m#try to add element into set1 gives an error\u001b[0m\u001b[1;33m\u001b[0m\u001b[1;33m\u001b[0m\u001b[0m\n\u001b[1;32m----> 5\u001b[1;33m \u001b[0mset1\u001b[0m\u001b[1;33m.\u001b[0m\u001b[0madd\u001b[0m\u001b[1;33m(\u001b[0m\u001b[1;36m5\u001b[0m\u001b[1;33m)\u001b[0m\u001b[1;33m\u001b[0m\u001b[0m\n\u001b[0m",
      "\u001b[1;31mAttributeError\u001b[0m: 'frozenset' object has no attribute 'add'"
     ]
    }
   ],
   "source": [
    "set1 = frozenset([1, 2, 3, 4])\n",
    "set2 = frozenset([3, 4, 5, 6])\n",
    "\n",
    "#try to add element into set1 gives an error\n",
    "set1.add(5)"
   ]
  },
  {
   "cell_type": "code",
   "execution_count": 2,
   "metadata": {
    "ExecuteTime": {
     "end_time": "2019-05-04T11:57:02.861061Z",
     "start_time": "2019-05-04T11:57:02.852070Z"
    }
   },
   "outputs": [
    {
     "ename": "TypeError",
     "evalue": "'frozenset' object does not support indexing",
     "output_type": "error",
     "traceback": [
      "\u001b[1;31m---------------------------------------------------------------------------\u001b[0m",
      "\u001b[1;31mTypeError\u001b[0m                                 Traceback (most recent call last)",
      "\u001b[1;32m<ipython-input-2-5c8e05737e66>\u001b[0m in \u001b[0;36m<module>\u001b[1;34m()\u001b[0m\n\u001b[1;32m----> 1\u001b[1;33m \u001b[0mprint\u001b[0m\u001b[1;33m(\u001b[0m\u001b[0mset1\u001b[0m\u001b[1;33m[\u001b[0m\u001b[1;36m1\u001b[0m\u001b[1;33m]\u001b[0m\u001b[1;33m)\u001b[0m \u001b[1;31m# frozen set doesn't support indexing\u001b[0m\u001b[1;33m\u001b[0m\u001b[0m\n\u001b[0m",
      "\u001b[1;31mTypeError\u001b[0m: 'frozenset' object does not support indexing"
     ]
    }
   ],
   "source": [
    "print(set1[1]) # frozen set doesn't support indexing"
   ]
  },
  {
   "cell_type": "code",
   "execution_count": 3,
   "metadata": {
    "ExecuteTime": {
     "end_time": "2019-05-04T11:57:11.552073Z",
     "start_time": "2019-05-04T11:57:11.548076Z"
    }
   },
   "outputs": [
    {
     "name": "stdout",
     "output_type": "stream",
     "text": [
      "frozenset({1, 2, 3, 4, 5, 6})\n"
     ]
    }
   ],
   "source": [
    "print(set1 | set2) #union of 2 sets"
   ]
  },
  {
   "cell_type": "code",
   "execution_count": 4,
   "metadata": {
    "ExecuteTime": {
     "end_time": "2019-05-04T11:57:17.520356Z",
     "start_time": "2019-05-04T11:57:17.516401Z"
    }
   },
   "outputs": [
    {
     "name": "stdout",
     "output_type": "stream",
     "text": [
      "frozenset({3, 4})\n",
      "frozenset({3, 4})\n"
     ]
    }
   ],
   "source": [
    "#intersection of two sets\n",
    "print(set1 & set2)\n",
    "\n",
    "#or \n",
    "print(set1.intersection(set2))"
   ]
  },
  {
   "cell_type": "code",
   "execution_count": 5,
   "metadata": {
    "ExecuteTime": {
     "end_time": "2019-05-04T11:57:23.735305Z",
     "start_time": "2019-05-04T11:57:23.731319Z"
    }
   },
   "outputs": [
    {
     "name": "stdout",
     "output_type": "stream",
     "text": [
      "frozenset({1, 2, 5, 6})\n",
      "frozenset({1, 2, 5, 6})\n"
     ]
    }
   ],
   "source": [
    "#symmetric difference\n",
    "print(set1 ^ set2)\n",
    "\n",
    "#or\n",
    "print(set1.symmetric_difference(set2))"
   ]
  },
  {
   "cell_type": "markdown",
   "metadata": {},
   "source": [
    "# QA"
   ]
  },
  {
   "cell_type": "markdown",
   "metadata": {},
   "source": [
    "**1. How one should choose between set, tuple, list in real world cases?**    \n",
    "   - In case, if your problem requires to store elements only once in a data structure without repetition(though any element occurs multiple times in input), then you need to use Set data structure to store those elements.  \n",
    "   - In case, if your problem requires to store elements that should not be modified at all forever(changing the existing values, adding/removing elements), once if they are stored in a data structure, then you need to use a Tuple to store the elements.  \n",
    "   - In case, if your problem requires to store elements that can be modified in future either by changing the existing values or by adding/removing elements, then you need to use List data structure.  \n",
    "   - In case, if your problem requires to store elements in a key-value pair form, then you need to use a dictionary."
   ]
  },
  {
   "cell_type": "markdown",
   "metadata": {},
   "source": [
    "**1.1 When should we use frozenset apart from the above situations ?**\n",
    "\n",
    "- In case if your problem requires to store the elements/objects without any repetetion and also unmodifyable way, then we have to use frozen sets.  \n",
    "- In a simple line, we can say Frozen set = set + Tuple   \n",
    "    1. No duplicate elements/objects are allowed in a set   \n",
    "    2. In a tuple, once if it is creates, it couldn't be modified. It remains the same throughout.   \n",
    "- If your problem requires these 2 properties while storing the data, then you have to go for Frozenset."
   ]
  },
  {
   "cell_type": "markdown",
   "metadata": {},
   "source": [
    "**2. How would you get the same results of symmetric_difference without using the symmetric_difference set function?**  \n",
    "Here is the problem information and constraint:    \n",
    "    1. x = set(range(1,8)) #set from 1 to 7\n",
    "    2. y = set(range(4,11)) #set from 4 to 10  \n",
    "Result should be: set([1, 2, 3, 8, 9, 10])     \n",
    "\n",
    "Constraints:\n",
    "    1. DO NOT USE symmetric_difference\n",
    "    2. In one line of code use the functions intersect, union and difference. "
   ]
  },
  {
   "cell_type": "code",
   "execution_count": 11,
   "metadata": {
    "ExecuteTime": {
     "end_time": "2019-05-04T12:17:30.441466Z",
     "start_time": "2019-05-04T12:17:30.437480Z"
    }
   },
   "outputs": [
    {
     "name": "stdout",
     "output_type": "stream",
     "text": [
      "{1, 2, 3, 8, 9, 10}\n"
     ]
    }
   ],
   "source": [
    "x = set(range(1,8)) #set from 1 to 7\n",
    "y = set(range(4,11)) #set from 4 to 10  \n",
    "\n",
    "# symmetric_difference = ((x-y) | (y-x)) - (x&y)\n",
    "symmetric_difference = ((x | y)) - (x & y)\n",
    "\n",
    "print(symmetric_difference)"
   ]
  },
  {
   "cell_type": "markdown",
   "metadata": {},
   "source": [
    "**3. Are there any other differences between a tuple and a frozenset?**      \n",
    "\n",
    "\n",
    "`tuples` are immutable `lists`, `frozensets` are immutable `sets`.\n",
    "\n",
    "`tuples` are indeed an ordered collection of objects, but they can contain duplicates and unhashable objects, and have slice functionality\n",
    "\n",
    "`frozensets` aren't indexed, but you have the functionality of `sets` - O(1) element lookups, and functionality such as unions and intersections. \n",
    "They also can't contain duplicates, like their mutable counterparts."
   ]
  },
  {
   "cell_type": "markdown",
   "metadata": {},
   "source": [
    "**4. Why can't we add List/Dict/Set in sets?**   "
   ]
  },
  {
   "cell_type": "code",
   "execution_count": 18,
   "metadata": {
    "ExecuteTime": {
     "end_time": "2019-05-04T12:24:38.828684Z",
     "start_time": "2019-05-04T12:24:38.818709Z"
    }
   },
   "outputs": [
    {
     "ename": "TypeError",
     "evalue": "unhashable type: 'set'",
     "output_type": "error",
     "traceback": [
      "\u001b[1;31m---------------------------------------------------------------------------\u001b[0m",
      "\u001b[1;31mTypeError\u001b[0m                                 Traceback (most recent call last)",
      "\u001b[1;32m<ipython-input-18-11e8d8ce20b8>\u001b[0m in \u001b[0;36m<module>\u001b[1;34m()\u001b[0m\n\u001b[0;32m      1\u001b[0m \u001b[0mmy_set\u001b[0m \u001b[1;33m=\u001b[0m \u001b[0mset\u001b[0m\u001b[1;33m(\u001b[0m\u001b[1;33m)\u001b[0m\u001b[1;33m\u001b[0m\u001b[0m\n\u001b[0;32m      2\u001b[0m \u001b[0mmy_set\u001b[0m\u001b[1;33m.\u001b[0m\u001b[0madd\u001b[0m\u001b[1;33m(\u001b[0m\u001b[1;36m2\u001b[0m\u001b[1;33m)\u001b[0m\u001b[1;33m\u001b[0m\u001b[0m\n\u001b[1;32m----> 3\u001b[1;33m \u001b[0mmy_set\u001b[0m\u001b[1;33m.\u001b[0m\u001b[0madd\u001b[0m\u001b[1;33m(\u001b[0m\u001b[1;33m{\u001b[0m\u001b[1;36m4\u001b[0m\u001b[1;33m,\u001b[0m\u001b[1;36m3\u001b[0m\u001b[1;33m}\u001b[0m\u001b[1;33m)\u001b[0m\u001b[1;33m\u001b[0m\u001b[0m\n\u001b[0m\u001b[0;32m      4\u001b[0m \u001b[0mmy_set\u001b[0m\u001b[1;33m.\u001b[0m\u001b[0madd\u001b[0m\u001b[1;33m(\u001b[0m\u001b[1;33m(\u001b[0m\u001b[1;36m5\u001b[0m\u001b[1;33m,\u001b[0m\u001b[1;36m100\u001b[0m\u001b[1;33m)\u001b[0m\u001b[1;33m)\u001b[0m\u001b[1;33m\u001b[0m\u001b[0m\n\u001b[0;32m      5\u001b[0m \u001b[0mprint\u001b[0m\u001b[1;33m(\u001b[0m\u001b[0mmy_set\u001b[0m\u001b[1;33m)\u001b[0m\u001b[1;33m\u001b[0m\u001b[0m\n",
      "\u001b[1;31mTypeError\u001b[0m: unhashable type: 'set'"
     ]
    }
   ],
   "source": [
    "my_set = set()\n",
    "my_set.add(2)\n",
    "my_set.add({4,3})\n",
    "my_set.add((5,100))\n",
    "print(my_set)"
   ]
  },
  {
   "cell_type": "markdown",
   "metadata": {},
   "source": [
    "- Sets remove duplicate items. In order to do that, Sets require their items to be hashable (the item can't change while in the set).    \n",
    "- Out of types predefined by Python only the immutable ones, such as strings, numbers, and tuples, are hashable   \n",
    "- You cannot put mutable things in a set.       \n",
    "- Mutable types, such as lists and dicts, are not hashable because a change of their contents would change the hash and break the lookup code."
   ]
  },
  {
   "cell_type": "markdown",
   "metadata": {},
   "source": [
    "**5. What purpose unordered dataype serve ?**     \n",
    "\n",
    "Sets and Dictionaries compute hash values using hash function and the arrangement of elements in them is done according to their has values generated using hash functions.    \n",
    "\n",
    "If we need to store the data directly in the form of values, we can use Sets and if we want to store the elements in the form of key-value pairs, we need to use Dictionaries.      \n",
    "\n",
    "*Purpose of using unordered data structures:*  \n",
    "1. Rather than searching for an element using iteration process, if we want to search for an element using hash function value, we can use unordered data structure.    \n",
    "2. Also in order to prevent duplicate elements from being added, we can use these unordered data structures like sets, frozensets, dictionaries."
   ]
  },
  {
   "cell_type": "code",
   "execution_count": null,
   "metadata": {},
   "outputs": [],
   "source": []
  }
 ],
 "metadata": {
  "kernelspec": {
   "display_name": "Python 3",
   "language": "python",
   "name": "python3"
  },
  "language_info": {
   "codemirror_mode": {
    "name": "ipython",
    "version": 3
   },
   "file_extension": ".py",
   "mimetype": "text/x-python",
   "name": "python",
   "nbconvert_exporter": "python",
   "pygments_lexer": "ipython3",
   "version": "3.7.0"
  }
 },
 "nbformat": 4,
 "nbformat_minor": 2
}
