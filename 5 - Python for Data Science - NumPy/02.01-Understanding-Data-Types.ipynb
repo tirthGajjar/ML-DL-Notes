{
 "cells": [
  {
   "cell_type": "markdown",
   "metadata": {},
   "source": [
    "<!--BOOK_INFORMATION-->\n",
    "<img align=\"left\" style=\"padding-right:10px;\" src=\"figures/PDSH-cover-small.png\">\n",
    "\n",
    "*This notebook contains an excerpt from the [Python Data Science Handbook](http://shop.oreilly.com/product/0636920034919.do) by Jake VanderPlas; the content is available [on GitHub](https://github.com/jakevdp/PythonDataScienceHandbook).*\n",
    "\n",
    "*The text is released under the [CC-BY-NC-ND license](https://creativecommons.org/licenses/by-nc-nd/3.0/us/legalcode), and code is released under the [MIT license](https://opensource.org/licenses/MIT). If you find this content useful, please consider supporting the work by [buying the book](http://shop.oreilly.com/product/0636920034919.do)!*"
   ]
  },
  {
   "cell_type": "markdown",
   "metadata": {},
   "source": [
    "<!--NAVIGATION-->\n",
    "< [Introduction to NumPy](02.00-Introduction-to-NumPy.ipynb) | [Contents](Index.ipynb) | [The Basics of NumPy Arrays](02.02-The-Basics-Of-NumPy-Arrays.ipynb) >\n",
    "\n",
    "<a href=\"https://colab.research.google.com/github/jakevdp/PythonDataScienceHandbook/blob/master/notebooks/02.01-Understanding-Data-Types.ipynb\"><img align=\"left\" src=\"https://colab.research.google.com/assets/colab-badge.svg\" alt=\"Open in Colab\" title=\"Open and Execute in Google Colaboratory\"></a>\n"
   ]
  },
  {
   "cell_type": "markdown",
   "metadata": {},
   "source": [
    "# Understanding Data Types in Python"
   ]
  },
  {
   "cell_type": "markdown",
   "metadata": {},
   "source": [
    "Effective data-driven science and computation requires understanding how data is stored and manipulated.\n",
    "<span class=\"mark\">This section outlines and contrasts how arrays of data are handled in the Python language itself, and how NumPy improves on this</span>.\n",
    "Understanding this difference is fundamental to understanding much of the material throughout the rest of the book.\n",
    "\n",
    "Users of Python are often drawn-in by its ease of use, one piece of which is dynamic typing.\n",
    "While a statically-typed language like C or Java requires each variable to be explicitly declared, a dynamically-typed language like Python skips this specification. For example, in C you might specify a particular operation as follows:\n",
    "\n",
    "```C\n",
    "/* C code */\n",
    "int result = 0;\n",
    "for(int i=0; i<100; i++){\n",
    "    result += i;\n",
    "}\n",
    "```\n",
    "\n",
    "While in Python the equivalent operation could be written this way:\n",
    "\n",
    "```python\n",
    "# Python code\n",
    "result = 0\n",
    "for i in range(100):\n",
    "    result += i\n",
    "```\n",
    "\n",
    "Notice <span class=\"girk\">the main difference: in C, the data types of each variable are explicitly declared, while in Python the types are dynamically inferred.</span> This means, for example, that we can assign any kind of data to any variable:\n",
    "\n",
    "```python\n",
    "# Python code\n",
    "x = 4\n",
    "x = \"four\"\n",
    "```\n",
    "\n",
    "Here we've switched the contents of ``x`` from an integer to a string. The same thing in C would lead (depending on compiler settings) to a compilation error or other unintented consequences:\n",
    "\n",
    "```C\n",
    "/* C code */\n",
    "int x = 4;\n",
    "x = \"four\";  // FAILS\n",
    "```\n",
    "\n",
    "This sort of flexibility is one piece that makes Python and other dynamically-typed languages convenient and easy to use.\n",
    "Understanding *how* this works is an important piece of learning to analyze data efficiently and effectively with Python.\n",
    "But what <span class=\"girk\">this type-flexibility also points to is the fact that Python variables are more than just their value; they also contain extra information about the type of the value.</span> We'll explore this more in the sections that follow."
   ]
  },
  {
   "cell_type": "markdown",
   "metadata": {},
   "source": [
    "## A Python Integer Is More Than Just an Integer\n",
    "\n",
    "The standard Python implementation is written in C.\n",
    "This means that <span class=\"burk\">every Python object is simply a cleverly-disguised C structure</span>, which contains not only its value, but other information as well. For example, <span class=\"mark\">when we define an integer in Python, such as ``x = 10000``, ``x`` is not just a \"raw\" integer. It's actually a pointer to a compound C structure, which contains several values</span>.\n",
    "Looking through the Python 3.4 source code, we find that the integer (long) type definition effectively looks like this (once the C macros are expanded):\n",
    "\n",
    "```C\n",
    "struct _longobject {\n",
    "    long ob_refcnt;\n",
    "    PyTypeObject *ob_type;\n",
    "    size_t ob_size;\n",
    "    long <span class=\"mark\">ob_digit[1];\n",
    "};\n",
    "```\n",
    "\n",
    "A single integer in Python 3.4 actually contains four pieces:\n",
    "\n",
    "- <span class=\"mark\">``ob_refcnt``, a reference count that helps Python silently handle memory allocation and deallocation</span>\n",
    "- <span class=\"mark\">``ob_type``, which encodes the type of the variable</span>\n",
    "- <span class=\"mark\">``ob_size``, which specifies the size of the following data members</span>\n",
    "- <span class=\"mark\">``ob_digit``, which contains the actual integer</span> value that we expect the Python variable to represent.\n",
    "\n",
    "This means that <span class=\"girk\">there is some overhead in storing an integer in Python as compared to an integer in a compiled language like C</span>, as illustrated in the following figure:"
   ]
  },
  {
   "cell_type": "markdown",
   "metadata": {},
   "source": [
    "![Integer Memory Layout](figures/cint_vs_pyint.png)"
   ]
  },
  {
   "cell_type": "markdown",
   "metadata": {},
   "source": [
    "Here ``PyObject_HEAD`` is the part of the structure containing the reference count, type code, and other pieces mentioned before.\n",
    "\n",
    "Notice the difference here: a C integer is essentially a label for a position in memory whose bytes encode an integer value.\n",
    "A Python integer is a pointer to a position in memory containing all the Python object information, including the bytes that contain the integer value.\n",
    "This extra information in the Python integer structure is what allows Python to be coded so freely and dynamically.\n",
    "<span class=\"mark\">All this additional information in Python types comes at a cost, however, which becomes especially apparent in structures that combine many of these objects.</span>"
   ]
  },
  {
   "cell_type": "markdown",
   "metadata": {},
   "source": [
    "## A Python List Is More Than Just a List\n",
    "\n",
    "Let's consider now what happens when we use a Python data structure that holds many Python objects.\n",
    "The standard mutable multi-element container in Python is the list.\n",
    "We can create a list of integers as follows:"
   ]
  },
  {
   "cell_type": "code",
   "execution_count": 2,
   "metadata": {
    "ExecuteTime": {
     "end_time": "2019-05-08T06:13:55.145319Z",
     "start_time": "2019-05-08T06:13:55.136311Z"
    }
   },
   "outputs": [
    {
     "data": {
      "text/plain": [
       "[0, 1, 2, 3, 4, 5, 6, 7, 8, 9]"
      ]
     },
     "execution_count": 2,
     "metadata": {},
     "output_type": "execute_result"
    }
   ],
   "source": [
    "L = list(range(10))\n",
    "L"
   ]
  },
  {
   "cell_type": "code",
   "execution_count": 3,
   "metadata": {
    "ExecuteTime": {
     "end_time": "2019-05-08T06:13:55.683849Z",
     "start_time": "2019-05-08T06:13:55.678880Z"
    }
   },
   "outputs": [
    {
     "data": {
      "text/plain": [
       "int"
      ]
     },
     "execution_count": 3,
     "metadata": {},
     "output_type": "execute_result"
    }
   ],
   "source": [
    "type(L[0])"
   ]
  },
  {
   "cell_type": "markdown",
   "metadata": {},
   "source": [
    "Or, similarly, a list of strings:"
   ]
  },
  {
   "cell_type": "code",
   "execution_count": 4,
   "metadata": {
    "ExecuteTime": {
     "end_time": "2019-05-08T06:13:56.443847Z",
     "start_time": "2019-05-08T06:13:56.438859Z"
    }
   },
   "outputs": [
    {
     "data": {
      "text/plain": [
       "['0', '1', '2', '3', '4', '5', '6', '7', '8', '9']"
      ]
     },
     "execution_count": 4,
     "metadata": {},
     "output_type": "execute_result"
    }
   ],
   "source": [
    "L2 = [str(c) for c in L]\n",
    "L2"
   ]
  },
  {
   "cell_type": "code",
   "execution_count": 5,
   "metadata": {
    "ExecuteTime": {
     "end_time": "2019-05-08T06:13:56.773943Z",
     "start_time": "2019-05-08T06:13:56.769945Z"
    }
   },
   "outputs": [
    {
     "data": {
      "text/plain": [
       "str"
      ]
     },
     "execution_count": 5,
     "metadata": {},
     "output_type": "execute_result"
    }
   ],
   "source": [
    "type(L2[0])"
   ]
  },
  {
   "cell_type": "markdown",
   "metadata": {},
   "source": [
    "Because of Python's dynamic typing, we can even create heterogeneous lists:"
   ]
  },
  {
   "cell_type": "code",
   "execution_count": 6,
   "metadata": {
    "ExecuteTime": {
     "end_time": "2019-05-08T06:13:57.692501Z",
     "start_time": "2019-05-08T06:13:57.687490Z"
    }
   },
   "outputs": [
    {
     "data": {
      "text/plain": [
       "[bool, str, float, int]"
      ]
     },
     "execution_count": 6,
     "metadata": {},
     "output_type": "execute_result"
    }
   ],
   "source": [
    "L3 = [True, \"2\", 3.0, 4]\n",
    "[type(item) for item in L3]"
   ]
  },
  {
   "cell_type": "markdown",
   "metadata": {},
   "source": [
    "But this flexibility comes at a cost: <span class=\"mark\">to allow these flexible types, each item in the list must contain its own type info, reference count, and other information–that is, each item is a complete Python object.</span>\n",
    "<span class=\"girk\">In the special case that all variables are of the same type, much of this information is redundant: it can be much more efficient to store data in a fixed-type array</span>.\n",
    "The difference between <span class=\"girk\">a dynamic-type list and a fixed-type (NumPy-style) array</span> is illustrated in the following figure:"
   ]
  },
  {
   "cell_type": "markdown",
   "metadata": {},
   "source": [
    "![Array Memory Layout](figures/array_vs_list.png)"
   ]
  },
  {
   "cell_type": "markdown",
   "metadata": {},
   "source": [
    "<span class=\"mark\">At the implementation level, the array essentially contains a single pointer to one contiguous block of data</span>.\n",
    "<span class=\"girk\">The Python list, on the other hand, contains a pointer to a block of pointers, each of which in turn points to a full Python object like the Python integer</span> we saw earlier.\n",
    "Again, the advantage of the list is flexibility: because each list element is a full structure containing both data and type information, the list can be filled with data of any desired type.\n",
    "<span class=\"burk\">Fixed-type NumPy-style arrays lack this flexibility, but are much more efficient for storing and manipulating data.</span>"
   ]
  },
  {
   "cell_type": "markdown",
   "metadata": {},
   "source": [
    "## Fixed-Type Arrays in Python\n",
    "\n",
    "<span class=\"burk\">Python offers several different options for storing data in efficient, fixed-type data buffers.\n",
    "The built-in ``array`` module</span> (available since Python 3.3) can be used to create dense arrays of a uniform type:"
   ]
  },
  {
   "cell_type": "code",
   "execution_count": 8,
   "metadata": {
    "ExecuteTime": {
     "end_time": "2019-05-08T06:14:05.855675Z",
     "start_time": "2019-05-08T06:14:05.849700Z"
    }
   },
   "outputs": [
    {
     "data": {
      "text/plain": [
       "array('i', [0, 1, 2, 3, 4, 5, 6, 7, 8, 9])"
      ]
     },
     "execution_count": 8,
     "metadata": {},
     "output_type": "execute_result"
    }
   ],
   "source": [
    "import array\n",
    "L = list(range(10))\n",
    "A = array.array('i', L)\n",
    "A"
   ]
  },
  {
   "cell_type": "markdown",
   "metadata": {},
   "source": [
    "Here ``'i'`` is a type code indicating the contents are integers.\n",
    "\n",
    "<span class=\"burk\">Much more useful, however, is the ``ndarray`` object of the NumPy package.\n",
    "While Python's ``array`` object provides efficient storage of array-based data, NumPy adds to this efficient *operations* on that data.</span>\n",
    "We will explore these operations in later sections; here we'll demonstrate several ways of creating a NumPy array.\n",
    "\n",
    "We'll start with the standard NumPy import, under the alias ``np``:"
   ]
  },
  {
   "cell_type": "code",
   "execution_count": 2,
   "metadata": {
    "ExecuteTime": {
     "end_time": "2019-05-10T00:56:52.709570Z",
     "start_time": "2019-05-10T00:56:49.416104Z"
    }
   },
   "outputs": [],
   "source": [
    "import numpy as np"
   ]
  },
  {
   "cell_type": "markdown",
   "metadata": {},
   "source": [
    "## Creating Arrays from Python Lists\n",
    "\n",
    "First, we can <span class=\"girk\">use ``np.array`` to create arrays from Python lists</span>:"
   ]
  },
  {
   "cell_type": "code",
   "execution_count": 10,
   "metadata": {
    "ExecuteTime": {
     "end_time": "2019-05-08T06:14:08.588366Z",
     "start_time": "2019-05-08T06:14:08.583366Z"
    }
   },
   "outputs": [
    {
     "data": {
      "text/plain": [
       "array([1, 4, 2, 5, 3])"
      ]
     },
     "execution_count": 10,
     "metadata": {},
     "output_type": "execute_result"
    }
   ],
   "source": [
    "# integer array:\n",
    "np.array([1, 4, 2, 5, 3])"
   ]
  },
  {
   "cell_type": "markdown",
   "metadata": {},
   "source": [
    "Remember that <span class=\"mark\">unlike Python lists, NumPy is constrained to arrays that all contain the same type.\n",
    "If types do not match, <span class=\"burk\">NumPy will upcast if possible (here, integers are up-cast to floating point)</span>:</span>"
   ]
  },
  {
   "cell_type": "code",
   "execution_count": 11,
   "metadata": {
    "ExecuteTime": {
     "end_time": "2019-05-08T06:14:09.397183Z",
     "start_time": "2019-05-08T06:14:09.391199Z"
    }
   },
   "outputs": [
    {
     "data": {
      "text/plain": [
       "array([3.14, 4.  , 2.  , 3.  ])"
      ]
     },
     "execution_count": 11,
     "metadata": {},
     "output_type": "execute_result"
    }
   ],
   "source": [
    "np.array([3.14, 4, 2, 3])"
   ]
  },
  {
   "cell_type": "markdown",
   "metadata": {},
   "source": [
    "<span class=\"birk\">If we want to explicitly set the data type of the resulting array, we can use the ``dtype`` keyword:</span>"
   ]
  },
  {
   "cell_type": "code",
   "execution_count": 12,
   "metadata": {
    "ExecuteTime": {
     "end_time": "2019-05-08T06:14:10.512234Z",
     "start_time": "2019-05-08T06:14:10.375598Z"
    }
   },
   "outputs": [
    {
     "data": {
      "text/plain": [
       "array([1., 2., 3., 4.], dtype=float32)"
      ]
     },
     "execution_count": 12,
     "metadata": {},
     "output_type": "execute_result"
    }
   ],
   "source": [
    "np.array([1, 2, 3, 4], dtype='float32')"
   ]
  },
  {
   "cell_type": "markdown",
   "metadata": {},
   "source": [
    "Finally, unlike Python lists, NumPy arrays can explicitly be multi-dimensional; here's one way of initializing a multidimensional array using a list of lists:"
   ]
  },
  {
   "cell_type": "code",
   "execution_count": 13,
   "metadata": {
    "ExecuteTime": {
     "end_time": "2019-05-08T06:45:37.173596Z",
     "start_time": "2019-05-08T06:45:36.930247Z"
    }
   },
   "outputs": [
    {
     "data": {
      "text/plain": [
       "array([[2, 3, 4],\n",
       "       [4, 5, 6],\n",
       "       [6, 7, 8]])"
      ]
     },
     "execution_count": 13,
     "metadata": {},
     "output_type": "execute_result"
    }
   ],
   "source": [
    "# nested lists result in multi-dimensional arrays\n",
    "np.array([range(i, i + 3) for i in [2, 4, 6]])"
   ]
  },
  {
   "cell_type": "markdown",
   "metadata": {},
   "source": [
    "The inner lists are treated as rows of the resulting two-dimensional array."
   ]
  },
  {
   "cell_type": "markdown",
   "metadata": {},
   "source": [
    "## Creating Arrays from Scratch\n",
    "\n",
    "Especially <span class=\"girk\">for larger arrays, it is more efficient to create arrays from scratch using routines built into NumPy</span>.\n",
    "Here are several examples:"
   ]
  },
  {
   "cell_type": "code",
   "execution_count": 17,
   "metadata": {
    "ExecuteTime": {
     "end_time": "2019-05-08T06:47:04.190945Z",
     "start_time": "2019-05-08T06:47:04.185959Z"
    }
   },
   "outputs": [
    {
     "data": {
      "text/plain": [
       "array([0, 0, 0, 0, 0, 0, 0, 0, 0, 0])"
      ]
     },
     "execution_count": 17,
     "metadata": {},
     "output_type": "execute_result"
    }
   ],
   "source": [
    "# Create a length-10 integer array filled with zeros\n",
    "np.zeros(10, dtype=int)"
   ]
  },
  {
   "cell_type": "code",
   "execution_count": 18,
   "metadata": {
    "ExecuteTime": {
     "end_time": "2019-05-08T06:47:05.437614Z",
     "start_time": "2019-05-08T06:47:05.432627Z"
    }
   },
   "outputs": [
    {
     "data": {
      "text/plain": [
       "array([[1., 1., 1., 1., 1.],\n",
       "       [1., 1., 1., 1., 1.],\n",
       "       [1., 1., 1., 1., 1.]])"
      ]
     },
     "execution_count": 18,
     "metadata": {},
     "output_type": "execute_result"
    }
   ],
   "source": [
    "# Create a 3x5 floating-point array filled with ones\n",
    "np.ones((3, 5), dtype=float)"
   ]
  },
  {
   "cell_type": "code",
   "execution_count": 19,
   "metadata": {
    "ExecuteTime": {
     "end_time": "2019-05-08T06:47:06.564601Z",
     "start_time": "2019-05-08T06:47:06.559613Z"
    }
   },
   "outputs": [
    {
     "data": {
      "text/plain": [
       "array([[3.14, 3.14, 3.14, 3.14, 3.14],\n",
       "       [3.14, 3.14, 3.14, 3.14, 3.14],\n",
       "       [3.14, 3.14, 3.14, 3.14, 3.14]])"
      ]
     },
     "execution_count": 19,
     "metadata": {},
     "output_type": "execute_result"
    }
   ],
   "source": [
    "# Create a 3x5 array filled with 3.14\n",
    "np.full((3, 5), 3.14)"
   ]
  },
  {
   "cell_type": "code",
   "execution_count": 20,
   "metadata": {
    "ExecuteTime": {
     "end_time": "2019-05-08T06:47:07.925968Z",
     "start_time": "2019-05-08T06:47:07.728515Z"
    }
   },
   "outputs": [
    {
     "data": {
      "text/plain": [
       "array([ 0,  2,  4,  6,  8, 10, 12, 14, 16, 18])"
      ]
     },
     "execution_count": 20,
     "metadata": {},
     "output_type": "execute_result"
    }
   ],
   "source": [
    "# Create an array filled with a linear sequence\n",
    "# Starting at 0, ending at 20, stepping by 2\n",
    "# (this is similar to the built-in range() function)\n",
    "np.arange(0, 20, 2)"
   ]
  },
  {
   "cell_type": "code",
   "execution_count": 16,
   "metadata": {},
   "outputs": [
    {
     "data": {
      "text/plain": [
       "array([ 0.  ,  0.25,  0.5 ,  0.75,  1.  ])"
      ]
     },
     "execution_count": 16,
     "metadata": {},
     "output_type": "execute_result"
    }
   ],
   "source": [
    "# Create an array of five values evenly spaced between 0 and 1\n",
    "np.linspace(0, 1, 5)"
   ]
  },
  {
   "cell_type": "code",
   "execution_count": 17,
   "metadata": {},
   "outputs": [
    {
     "data": {
      "text/plain": [
       "array([[ 0.99844933,  0.52183819,  0.22421193],\n",
       "       [ 0.08007488,  0.45429293,  0.20941444],\n",
       "       [ 0.14360941,  0.96910973,  0.946117  ]])"
      ]
     },
     "execution_count": 17,
     "metadata": {},
     "output_type": "execute_result"
    }
   ],
   "source": [
    "# Create a 3x3 array of uniformly distributed\n",
    "# random values between 0 and 1\n",
    "np.random.random((3, 3))"
   ]
  },
  {
   "cell_type": "code",
   "execution_count": 18,
   "metadata": {},
   "outputs": [
    {
     "data": {
      "text/plain": [
       "array([[ 1.51772646,  0.39614948, -0.10634696],\n",
       "       [ 0.25671348,  0.00732722,  0.37783601],\n",
       "       [ 0.68446945,  0.15926039, -0.70744073]])"
      ]
     },
     "execution_count": 18,
     "metadata": {},
     "output_type": "execute_result"
    }
   ],
   "source": [
    "# Create a 3x3 array of normally distributed random values\n",
    "# with mean 0 and standard deviation 1\n",
    "np.random.normal(0, 1, (3, 3))"
   ]
  },
  {
   "cell_type": "code",
   "execution_count": 19,
   "metadata": {},
   "outputs": [
    {
     "data": {
      "text/plain": [
       "array([[2, 3, 4],\n",
       "       [5, 7, 8],\n",
       "       [0, 5, 0]])"
      ]
     },
     "execution_count": 19,
     "metadata": {},
     "output_type": "execute_result"
    }
   ],
   "source": [
    "# Create a 3x3 array of random integers in the interval [0, 10)\n",
    "np.random.randint(0, 10, (3, 3))"
   ]
  },
  {
   "cell_type": "code",
   "execution_count": 20,
   "metadata": {},
   "outputs": [
    {
     "data": {
      "text/plain": [
       "array([[ 1.,  0.,  0.],\n",
       "       [ 0.,  1.,  0.],\n",
       "       [ 0.,  0.,  1.]])"
      ]
     },
     "execution_count": 20,
     "metadata": {},
     "output_type": "execute_result"
    }
   ],
   "source": [
    "# Create a 3x3 identity matrix\n",
    "np.eye(3)"
   ]
  },
  {
   "cell_type": "code",
   "execution_count": 21,
   "metadata": {},
   "outputs": [
    {
     "data": {
      "text/plain": [
       "array([ 1.,  1.,  1.])"
      ]
     },
     "execution_count": 21,
     "metadata": {},
     "output_type": "execute_result"
    }
   ],
   "source": [
    "# Create an uninitialized array of three integers\n",
    "# The values will be whatever happens to already exist at that memory location\n",
    "np.empty(3)"
   ]
  },
  {
   "cell_type": "markdown",
   "metadata": {},
   "source": [
    "## NumPy Standard Data Types\n",
    "\n",
    "NumPy arrays contain values of a single type, so it is important to have detailed knowledge of those types and their limitations.\n",
    "Because <span class=\"birk\">NumPy is built in C, the types will be familiar to users of C</span>, Fortran, and other related languages.\n",
    "\n",
    "The standard NumPy data types are listed in the following table.\n",
    "Note that when constructing an array, they can be specified using a string:\n",
    "\n",
    "```python\n",
    "np.zeros(10, dtype='int16')\n",
    "```\n",
    "\n",
    "Or using the associated NumPy object:\n",
    "\n",
    "```python\n",
    "np.zeros(10, dtype=np.int16)\n",
    "```"
   ]
  },
  {
   "cell_type": "markdown",
   "metadata": {},
   "source": [
    "| Data type\t    | Description |\n",
    "|---------------|-------------|\n",
    "| ``bool_``     | Boolean (True or False) stored as a byte |\n",
    "| ``int_``      | Default integer type (same as C ``long``; normally either ``int64`` or ``int32``)| \n",
    "| ``intc``      | Identical to C ``int`` (normally ``int32`` or ``int64``)| \n",
    "| ``intp``      | Integer used for indexing (same as C ``ssize_t``; normally either ``int32`` or ``int64``)| \n",
    "| ``int8``      | Byte (-128 to 127)| \n",
    "| ``int16``     | Integer (-32768 to 32767)|\n",
    "| ``int32``     | Integer (-2147483648 to 2147483647)|\n",
    "| ``int64``     | Integer (-9223372036854775808 to 9223372036854775807)| \n",
    "| ``uint8``     | Unsigned integer (0 to 255)| \n",
    "| ``uint16``    | Unsigned integer (0 to 65535)| \n",
    "| ``uint32``    | Unsigned integer (0 to 4294967295)| \n",
    "| ``uint64``    | Unsigned integer (0 to 18446744073709551615)| \n",
    "| ``float_``    | Shorthand for ``float64``.| \n",
    "| ``float16``   | Half precision float: sign bit, 5 bits exponent, 10 bits mantissa| \n",
    "| ``float32``   | Single precision float: sign bit, 8 bits exponent, 23 bits mantissa| \n",
    "| ``float64``   | Double precision float: sign bit, 11 bits exponent, 52 bits mantissa| \n",
    "| ``complex_``  | Shorthand for ``complex128``.| \n",
    "| ``complex64`` | Complex number, represented by two 32-bit floats| \n",
    "| ``complex128``| Complex number, represented by two 64-bit floats| "
   ]
  },
  {
   "cell_type": "markdown",
   "metadata": {},
   "source": [
    "<span class=\"pirk\">More advanced type specification is possible, such as specifying big or little endian numbers</span>; for more information, refer to the [NumPy documentation](http://numpy.org/).\n",
    "<span class=\"mark\">NumPy also supports compound data types, which will be covered in [Structured Data: NumPy's Structured Arrays](02.09-Structured-Data-NumPy.ipynb).</span>"
   ]
  },
  {
   "cell_type": "markdown",
   "metadata": {},
   "source": [
    " |  Routine\t     |  Description  | \n",
    " | --------------- | ------------- | \n",
    " | empty(shape[, dtype, order]) | Return a new array of given shape and type, without initializing entries. | \n",
    " | empty_like(prototype[, dtype, order, subok]) | Return a new array with the same shape and type as a given array. | \n",
    " | eye(N[, M, k, dtype, order]) | Return a 2-D array with ones on the diagonal and zeros elsewhere. | \n",
    " | identity(n[, dtype]) | Return the identity array. | \n",
    " | ones(shape[, dtype, order]) | Return a new array of given shape and type, filled with ones. | \n",
    " | ones_like(a[, dtype, order, subok]) | Return an array of ones with the same shape and type as a given array. | \n",
    " | zeros(shape[, dtype, order]) | Return a new array of given shape and type, filled with zeros. | \n",
    " | zeros_like(a[, dtype, order, subok]) | Return an array of zeros with the same shape and type as a given array. | \n",
    " | full(shape, fill_value[, dtype, order]) | Return a new array of given shape and type, filled with fill_value. |  \n",
    " | full_like(a, fill_value[, dtype, order, subok]) | Return a full array with the same shape and type as a given array. | \n"
   ]
  },
  {
   "cell_type": "markdown",
   "metadata": {},
   "source": [
    "#### numpy.empty\n",
    "\n",
    "\n",
    "-- Return a new array of given shape and type, without initializing entries."
   ]
  },
  {
   "cell_type": "markdown",
   "metadata": {
    "ExecuteTime": {
     "end_time": "2019-05-08T12:14:02.519403Z",
     "start_time": "2019-05-08T12:14:02.494470Z"
    }
   },
   "source": [
    "```python\n",
    "numpy.empty(shape, dtype=float, order='C')\n",
    "```\n",
    "> *Parameters*:\t\n",
    "**shape** : int or tuple of int  \n",
    "-- Shape of the empty array, e.g., (2, 3) or 2.   \n",
    "**dtype** : data-type, optional  \n",
    "-- Desired output data-type for the array, e.g, numpy.int8. Default is numpy.float64.    \n",
    "**order** : {‘C’, ‘F’}, optional, default: ‘C’    \n",
    "-- Whether to store multi-dimensional data in row-major (C-style) or column-major (Fortran-style) order in memory.    \n",
    "\n",
    "> **Returns**:\t\n",
    "**out** : ndarray   \n",
    "-- Array of uninitialized (arbitrary) data of the given shape, dtype, and order. Object arrays will be initialized to None."
   ]
  },
  {
   "cell_type": "markdown",
   "metadata": {},
   "source": [
    "Notes\n",
    "\n",
    "- <span class=\"burk\">[`empty`](https://docs.scipy.org/doc/numpy/reference/generated/numpy.empty.html#numpy.empty \"numpy.empty\"), unlike [`zeros`](https://docs.scipy.org/doc/numpy/reference/generated/numpy.zeros.html#numpy.zeros \"numpy.zeros\"), does not set the array values to zero,\n",
    "and may therefore be marginally faster. </span>   \n",
    "- On the other hand, it requires the user to manually set all the values in the array, and should be used with caution."
   ]
  },
  {
   "cell_type": "code",
   "execution_count": 4,
   "metadata": {
    "ExecuteTime": {
     "end_time": "2019-05-10T00:58:09.614485Z",
     "start_time": "2019-05-10T00:57:35.679228Z"
    }
   },
   "outputs": [
    {
     "name": "stdout",
     "output_type": "stream",
     "text": [
      "21.3 ms ± 636 µs per loop (mean ± std. dev. of 7 runs, 100 loops each)\n",
      "20.8 ms ± 519 µs per loop (mean ± std. dev. of 7 runs, 100 loops each)\n"
     ]
    }
   ],
   "source": [
    "%timeit np.zeros(100000000)\n",
    "%timeit np.empty(100000000)"
   ]
  },
  {
   "cell_type": "code",
   "execution_count": 34,
   "metadata": {
    "ExecuteTime": {
     "end_time": "2019-05-08T12:52:51.330313Z",
     "start_time": "2019-05-08T12:52:28.847424Z"
    }
   },
   "outputs": [
    {
     "name": "stdout",
     "output_type": "stream",
     "text": [
      "13 ms ± 396 µs per loop (mean ± std. dev. of 7 runs, 100 loops each)\n",
      "210 ms ± 3.04 ms per loop (mean ± std. dev. of 7 runs, 1 loop each)\n",
      "12.6 ms ± 208 µs per loop (mean ± std. dev. of 7 runs, 100 loops each)\n"
     ]
    }
   ],
   "source": [
    "%timeit np.zeros(100000000)\n",
    "%timeit np.full(100000000, 0)\n",
    "%timeit a = np.empty(100000000)"
   ]
  },
  {
   "cell_type": "markdown",
   "metadata": {},
   "source": [
    "#### numpy.empty_like\n",
    "-- Return a new array with the same shape and type as a given array."
   ]
  },
  {
   "cell_type": "markdown",
   "metadata": {},
   "source": [
    "```python\n",
    "numpy.empty_like(prototype, dtype=None, order='K', subok=True)\n",
    "```\n",
    "> *Parameters*:\t\n",
    "**prototype** : array_like   \n",
    "-- The shape and data-type of prototype define these same attributes of the returned array.   \n",
    "**dtype** : data-type, optional    \n",
    "-- Overrides the data type of the result. New in version 1.6.0.   \n",
    "**order** :{‘C’, ‘F’, ‘A’, or ‘K’}, optional   \n",
    "-- Overrides the memory layout of the result. ‘C’ means C-order, ‘F’ means F-order, ‘A’ means ‘F’ if prototype is Fortran contiguous, ‘C’ otherwise. ‘K’ means match the layout of prototype as closely as possible.   \n",
    "**subok** : bool, optional.      \n",
    "-- If True, then the newly created array will use the sub-class type of ‘a’, otherwise it will be a base-class array. Defaults to True.\n",
    "\n",
    "> **Returns**:\t\n",
    "**out** : ndarray   \n",
    "-- Array of uninitialized (arbitrary) data of the given shape, dtype, and order. Object arrays will be initialized to None."
   ]
  },
  {
   "cell_type": "markdown",
   "metadata": {},
   "source": [
    "Notes\n",
    "\n",
    "- This function does not initialize the returned array; to do that use zeros_like or ones_like instead. It may be marginally faster than the functions that do set the array values."
   ]
  },
  {
   "cell_type": "code",
   "execution_count": 5,
   "metadata": {
    "ExecuteTime": {
     "end_time": "2019-05-10T01:08:01.125742Z",
     "start_time": "2019-05-10T01:08:01.113324Z"
    }
   },
   "outputs": [
    {
     "data": {
      "text/plain": [
       "array([[  69795840,      53362,   13726208],\n",
       "       [ 225574912, 1912602625,        570]])"
      ]
     },
     "execution_count": 5,
     "metadata": {},
     "output_type": "execute_result"
    }
   ],
   "source": [
    "a = ([1,2,3], [4,5,6])\n",
    "np.empty_like(a)"
   ]
  },
  {
   "cell_type": "code",
   "execution_count": 8,
   "metadata": {
    "ExecuteTime": {
     "end_time": "2019-05-10T01:08:21.169388Z",
     "start_time": "2019-05-10T01:08:21.130706Z"
    }
   },
   "outputs": [
    {
     "data": {
      "text/plain": [
       "array([[1., 2., 3.],\n",
       "       [4., 5., 6.]])"
      ]
     },
     "execution_count": 8,
     "metadata": {},
     "output_type": "execute_result"
    }
   ],
   "source": [
    "a = np.array([[1., 2., 3.],[4.,5.,6.]])\n",
    "np.empty_like(a)"
   ]
  },
  {
   "cell_type": "markdown",
   "metadata": {
    "ExecuteTime": {
     "end_time": "2019-05-10T01:41:07.587914Z",
     "start_time": "2019-05-10T01:41:07.580931Z"
    }
   },
   "source": [
    "### What is the difference between contiguous and non-contiguous arrays?\n",
    "\n",
    "https://stackoverflow.com/questions/26998223/what-is-the-difference-between-contiguous-and-non-contiguous-arrays\n",
    "\n",
    "Lets first unpack what `K` `A` `C` and `F` stand for first. I am referring to the implementation details section of [this](https://github.com/numpy/numpy/blob/9b84c1174125cb32a6be1bb6151782f8b2beda55/doc/neps/nep-0010-new-iterator-ufunc.rst). \n",
    "\n",
    "* `C` Is Contiguous layout. Mathematically speaking, row major.\n",
    "* `F` Is Fortran contiguous layout. Mathematically speaking, column major.\n",
    "* `A` Is any order. Generally don't use this.\n",
    "* `K` Is keep order. Generally don't use this."
   ]
  },
  {
   "cell_type": "markdown",
   "metadata": {},
   "source": [
    "A contiguous array is just an array stored in an unbroken block of memory: to access the next value in the array, we just move to the next memory address.\n",
    "\n",
    "Consider the 2D array `arr = np.arange(12).reshape(3,4)`. It looks like this:\n",
    "\n",
    "[![enter image description here](https://i.stack.imgur.com/BJIVL.png)](https://i.stack.imgur.com/BJIVL.png)\n",
    "\n",
    "In the computer's memory, the values of `arr` are stored like this:\n",
    "\n",
    "[![enter image description here](https://i.stack.imgur.com/MXrA6.png)](https://i.stack.imgur.com/MXrA6.png)\n",
    "\n",
    "This means `arr` is a **C contiguous** array because the _rows_ are stored as contiguous blocks of memory. The next memory address holds the next row value on that row. If we want to move down a column, we just need to jump over three blocks (e.g. to jump from 0 to 4 means we skip over 1,2 and 3).\n",
    "\n",
    "Transposing the array with `arr.T` means that C contiguity is lost because adjacent row entries are no longer in adjacent memory addresses. However, `arr.T` is **Fortran contiguous** since the _columns_ are in contiguous blocks of memory:\n",
    "\n",
    "[![enter image description here](https://i.stack.imgur.com/g6Nb0.png)](https://i.stack.imgur.com/g6Nb0.png)\n",
    "\n",
    "---\n",
    "\n",
    "Performance-wise, accessing memory addresses which are next to each other is very often faster than accessing addresses which are more \"spread out\" (fetching a value from RAM could entail a number of neighbouring addresses being fetched and cached for the CPU.) This means that operations over contiguous arrays will often be quicker.\n",
    "\n",
    "As a consequence of C contiguous memory layout, row-wise operations are usually faster than column-wise operations. For example, you'll typically find that \n",
    "\n",
    "```\n",
    "np.sum(arr, axis=1) # sum the rows\n",
    "```\n",
    "\n",
    "is slightly faster than:\n",
    "\n",
    "```\n",
    "np.sum(arr, axis=0) # sum the columns\n",
    "```\n",
    "\n",
    "Similarly, operations on columns will be slightly faster for Fortran contiguous arrays.\n",
    "\n",
    "---\n",
    "\n",
    "Finally, why can't we flatten the Fortran contiguous array by assigning a new shape?\n",
    "\n",
    "```\n",
    ">>> arr2 = arr.T\n",
    ">>> arr2.shape = 12\n",
    "AttributeError: incompatible shape for a non-contiguous array\n",
    "```\n",
    "\n",
    "In order for this to be possible NumPy would have to put the rows of `arr.T` together like this:\n",
    "\n",
    "[![enter image description here](https://i.stack.imgur.com/GhErW.png)](https://i.stack.imgur.com/GhErW.png)\n",
    "\n",
    "(Setting the `shape` attribute directly assumes C order - i.e. NumPy tries to perform the operation row-wise.)\n",
    "\n",
    "This is impossible to do. For any axis, NumPy needs to have a _constant_ stride length (the number of bytes to move) to get to the next element of the array. Flattening `arr.T` in this way would require skipping forwards and backwards in memory to retrieve consecutive values of the array.\n",
    "\n",
    "If we wrote `arr2.reshape(12)` instead, NumPy would copy the values of arr2 into a new block of memory (since it can't return a view on to the original data for this shape)."
   ]
  },
  {
   "cell_type": "markdown",
   "metadata": {},
   "source": [
    "#### numpy.eye\n",
    "\n",
    "-- Return a 2-D array with ones on the diagonal and zeros elsewhere."
   ]
  },
  {
   "cell_type": "markdown",
   "metadata": {
    "ExecuteTime": {
     "end_time": "2019-05-10T01:11:09.022671Z",
     "start_time": "2019-05-10T01:11:09.016426Z"
    }
   },
   "source": [
    "```python\n",
    "numpy.eye(N, M=None, k=0, dtype=<class 'float'>, order='C')\n",
    "```"
   ]
  },
  {
   "cell_type": "markdown",
   "metadata": {},
   "source": [
    "<style>\n",
    "   /*! CSS Used from: https://docs.scipy.org/doc/numpy/_static/css/spc-bootstrap.css */\n",
    "@media print{\n",
    "*{text-shadow:none!important;color:#000!important;background:transparent!important;box-shadow:none!important;}\n",
    "tr{page-break-inside:avoid;}\n",
    "p{orphans:3;widows:3;}\n",
    "}\n",
    "p{margin:0 0 9.5px;}\n",
    "strong{font-weight:bold;}\n",
    "em{font-style:italic;}\n",
    "dl{margin-bottom:19px;}\n",
    "dt,dd{line-height:19px;}\n",
    "dt{font-weight:bold;}\n",
    "dd{margin-left:9.5px;}\n",
    "/*! CSS Used from: https://docs.scipy.org/doc/numpy/_static/scipy.css */\n",
    "/*! @import https://docs.scipy.org/doc/numpy/_static/basic.css */\n",
    "div.body p,div.body dd{-moz-hyphens:auto;-ms-hyphens:auto;-webkit-hyphens:auto;hyphens:auto;}\n",
    "div.body td{text-align:left;}\n",
    ".first{margin-top:0!important;}\n",
    "table.docutils td,table.docutils th{padding:1px 8px 1px 5px;border-top:0;border-left:0;border-right:0;border-bottom:1px solid #aaa;}\n",
    "th{text-align:left;padding-right:5px;}\n",
    "table.field-list td,table.field-list th{border:0!important;}\n",
    ".field-list p{margin:0;}\n",
    ".field-name{-moz-hyphens:manual;-ms-hyphens:manual;-webkit-hyphens:manual;hyphens:manual;}\n",
    "dl{margin-bottom:15px;}\n",
    "dd p{margin-top:0px;}\n",
    "dd{margin-top:3px;margin-bottom:10px;margin-left:30px;}\n",
    "dt:target{background-color:#fbe54e;}\n",
    ".versionmodified{font-style:italic;}\n",
    ".classifier{font-style:oblique;}\n",
    "/*! end @import */\n",
    "table.field-list th.field-name{display:inline-block;padding:1px 8px 1px 5px;white-space:nowrap;background-color:rgb(238, 238, 238);}\n",
    "table.field-list td.field-body{border-left:none!important;}\n",
    "table.docutils td,table.docutils th{border:none;}\n",
    "\n",
    "    </style>\n",
    "<table class=\"docutils field-list\" frame=\"void\" rules=\"none\">\n",
    "<colgroup><col class=\"field-name\">\n",
    "<col class=\"field-body\">\n",
    "</colgroup><tbody valign=\"top\">\n",
    "<tr class=\"field-odd field\"><th class=\"field-name\">Parameters:</th><td class=\"field-body\"><dl class=\"first docutils\">\n",
    "<dt><strong>N</strong> <span class=\"classifier-delimiter\">:</span> <span class=\"classifier\">int</span></dt>\n",
    "<dd><p class=\"first last\">Number of rows in the output.</p>\n",
    "</dd>\n",
    "<dt><strong>M</strong> <span class=\"classifier-delimiter\">:</span> <span class=\"classifier\">int, optional</span></dt>\n",
    "<dd><p class=\"first last\">Number of columns in the output. If None, defaults to <em class=\"xref py py-obj\">N</em>.</p>\n",
    "</dd>\n",
    "<dt><strong>k</strong> <span class=\"classifier-delimiter\">:</span> <span class=\"classifier\">int, optional</span></dt>\n",
    "<dd><p class=\"first last\">Index of the diagonal: 0 (the default) refers to the main diagonal,\n",
    "a positive value refers to an upper diagonal, and a negative value\n",
    "to a lower diagonal.</p>\n",
    "</dd>\n",
    "<dt><strong>dtype</strong> <span class=\"classifier-delimiter\">:</span> <span class=\"classifier\">data-type, optional</span></dt>\n",
    "<dd><p class=\"first last\">Data-type of the returned array.</p>\n",
    "</dd>\n",
    "<dt><strong>order</strong> <span class=\"classifier-delimiter\">:</span> <span class=\"classifier\">{‘C’, ‘F’}, optional</span></dt>\n",
    "<dd><p class=\"first\">Whether the output should be stored in row-major (C-style) or\n",
    "column-major (Fortran-style) order in memory.</p>\n",
    "<div class=\"last versionadded\">\n",
    "<p><span class=\"versionmodified\">New in version 1.14.0.</span></p>\n",
    "</div>\n",
    "</dd>\n",
    "</dl>\n",
    "</td>\n",
    "</tr>\n",
    "<tr class=\"field-even field\"><th class=\"field-name\">Returns:</th><td class=\"field-body\"><dl class=\"first last docutils\">\n",
    "<dt><strong>I</strong> <span class=\"classifier-delimiter\">:</span> <span class=\"classifier\">ndarray of shape (N,M)</span></dt>\n",
    "<dd><p class=\"first last\">An array where all elements are equal to zero, except for the <em class=\"xref py py-obj\">k</em>-th\n",
    "diagonal, whose values are equal to one.</p>\n",
    "</dd>\n",
    "</dl>\n",
    "</td>\n",
    "</tr>\n",
    "</tbody>\n",
    "</table>"
   ]
  },
  {
   "cell_type": "code",
   "execution_count": 10,
   "metadata": {
    "ExecuteTime": {
     "end_time": "2019-05-10T01:38:14.268053Z",
     "start_time": "2019-05-10T01:38:14.262065Z"
    }
   },
   "outputs": [
    {
     "data": {
      "text/plain": [
       "array([[1., 0.],\n",
       "       [0., 1.]])"
      ]
     },
     "execution_count": 10,
     "metadata": {},
     "output_type": "execute_result"
    }
   ],
   "source": [
    "np.eye(2, dtype=float)"
   ]
  },
  {
   "cell_type": "code",
   "execution_count": 25,
   "metadata": {
    "ExecuteTime": {
     "end_time": "2019-05-10T01:56:59.698402Z",
     "start_time": "2019-05-10T01:56:59.692445Z"
    }
   },
   "outputs": [
    {
     "data": {
      "text/plain": [
       "array([[0, 1, 0, 0, 0],\n",
       "       [0, 0, 1, 0, 0],\n",
       "       [0, 0, 0, 1, 0],\n",
       "       [0, 0, 0, 0, 1],\n",
       "       [0, 0, 0, 0, 0]])"
      ]
     },
     "execution_count": 25,
     "metadata": {},
     "output_type": "execute_result"
    }
   ],
   "source": [
    "np.eye(N=5, M=5, k=1, dtype=int)"
   ]
  },
  {
   "cell_type": "markdown",
   "metadata": {},
   "source": [
    "#### numpy.identity\n",
    "\n",
    "-- Return the identity array.   \n",
    "-- The identity array is a square array with ones on the main diagonal."
   ]
  },
  {
   "cell_type": "markdown",
   "metadata": {
    "ExecuteTime": {
     "end_time": "2019-05-10T01:50:42.695498Z",
     "start_time": "2019-05-10T01:50:42.689513Z"
    }
   },
   "source": [
    "<table class=\"docutils field-list\" frame=\"void\" rules=\"none\">\n",
    "<colgroup><col class=\"field-name\">\n",
    "<col class=\"field-body\">\n",
    "</colgroup><tbody valign=\"top\">\n",
    "<tr class=\"field-odd field\"><th class=\"field-name\">Parameters:</th><td class=\"field-body\"><dl class=\"first docutils\">\n",
    "<dt><strong>n</strong> <span class=\"classifier-delimiter\">:</span> <span class=\"classifier\">int</span></dt>\n",
    "<dd><p class=\"first last\">Number of rows (and columns) in <em class=\"xref py py-obj\">n</em> x <em class=\"xref py py-obj\">n</em> output.</p>\n",
    "</dd>\n",
    "<dt><strong>dtype</strong> <span class=\"classifier-delimiter\">:</span> <span class=\"classifier\">data-type, optional</span></dt>\n",
    "<dd><p class=\"first last\">Data-type of the output.  Defaults to <code class=\"docutils literal notranslate\"><span class=\"pre\">float</span></code>.</p>\n",
    "</dd>\n",
    "</dl>\n",
    "</td>\n",
    "</tr>\n",
    "<tr class=\"field-even field\"><th class=\"field-name\">Returns:</th><td class=\"field-body\"><dl class=\"first last docutils\">\n",
    "<dt><strong>out</strong> <span class=\"classifier-delimiter\">:</span> <span class=\"classifier\">ndarray</span></dt>\n",
    "<dd><p class=\"first last\"><em class=\"xref py py-obj\">n</em> x <em class=\"xref py py-obj\">n</em> array with its main diagonal set to one,\n",
    "and all other elements 0.</p>\n",
    "</dd>\n",
    "</dl>\n",
    "</td>\n",
    "</tr>\n",
    "</tbody>\n",
    "</table>"
   ]
  },
  {
   "cell_type": "code",
   "execution_count": 26,
   "metadata": {
    "ExecuteTime": {
     "end_time": "2019-05-10T01:58:20.553874Z",
     "start_time": "2019-05-10T01:58:20.547891Z"
    }
   },
   "outputs": [
    {
     "data": {
      "text/plain": [
       "array([[1., 0., 0.],\n",
       "       [0., 1., 0.],\n",
       "       [0., 0., 1.]])"
      ]
     },
     "execution_count": 26,
     "metadata": {},
     "output_type": "execute_result"
    }
   ],
   "source": [
    "np.identity(3)"
   ]
  },
  {
   "cell_type": "markdown",
   "metadata": {},
   "source": [
    "#### numpy.ones\n",
    "\n",
    "-- Return a new array of given shape and type, filled with ones.\n",
    "\n",
    "```python\n",
    "numpy.ones(shape, dtype=None, order='C')\n",
    "```\n",
    "\n",
    "\n"
   ]
  },
  {
   "cell_type": "markdown",
   "metadata": {},
   "source": [
    "<table class=\"docutils field-list\" frame=\"void\" rules=\"none\">\n",
    "<colgroup><col class=\"field-name\">\n",
    "<col class=\"field-body\">\n",
    "</colgroup><tbody valign=\"top\">\n",
    "<tr class=\"field-odd field\"><th class=\"field-name\">Parameters:</th><td class=\"field-body\"><dl class=\"first docutils\">\n",
    "<dt><strong>shape</strong> <span class=\"classifier-delimiter\">:</span> <span class=\"classifier\">int or sequence of ints</span></dt>\n",
    "<dd><p class=\"first last\">Shape of the new array, e.g., <code class=\"docutils literal notranslate\"><span class=\"pre\">(2,</span> <span class=\"pre\">3)</span></code> or <code class=\"docutils literal notranslate\"><span class=\"pre\">2</span></code>.</p>\n",
    "</dd>\n",
    "<dt><strong>dtype</strong> <span class=\"classifier-delimiter\">:</span> <span class=\"classifier\">data-type, optional</span></dt>\n",
    "<dd><p class=\"first last\">The desired data-type for the array, e.g., <code class=\"xref py py-obj docutils literal notranslate\"><span class=\"pre\">numpy.int8</span></code>.  Default is\n",
    "<code class=\"xref py py-obj docutils literal notranslate\"><span class=\"pre\">numpy.float64</span></code>.</p>\n",
    "</dd>\n",
    "<dt><strong>order</strong> <span class=\"classifier-delimiter\">:</span> <span class=\"classifier\">{‘C’, ‘F’}, optional, default: C</span></dt>\n",
    "<dd><p class=\"first last\">Whether to store multi-dimensional data in row-major\n",
    "(C-style) or column-major (Fortran-style) order in\n",
    "memory.</p>\n",
    "</dd>\n",
    "</dl>\n",
    "</td>\n",
    "</tr>\n",
    "<tr class=\"field-even field\"><th class=\"field-name\">Returns:</th><td class=\"field-body\"><dl class=\"first last docutils\">\n",
    "<dt><strong>out</strong> <span class=\"classifier-delimiter\">:</span> <span class=\"classifier\">ndarray</span></dt>\n",
    "<dd><p class=\"first last\">Array of ones with the given shape, dtype, and order.</p>\n",
    "</dd>\n",
    "</dl>\n",
    "</td>\n",
    "</tr>\n",
    "</tbody>\n",
    "</table>"
   ]
  },
  {
   "cell_type": "code",
   "execution_count": 31,
   "metadata": {
    "ExecuteTime": {
     "end_time": "2019-05-10T02:01:58.900732Z",
     "start_time": "2019-05-10T02:01:58.894748Z"
    }
   },
   "outputs": [
    {
     "data": {
      "text/plain": [
       "array([[1, 1],\n",
       "       [1, 1]])"
      ]
     },
     "execution_count": 31,
     "metadata": {},
     "output_type": "execute_result"
    }
   ],
   "source": [
    "np.ones((2,2), dtype=int)"
   ]
  },
  {
   "cell_type": "markdown",
   "metadata": {},
   "source": [
    "#### numpy.ones_like\n",
    "\n",
    "-- Return an array of ones with the same shape and type as a given array.\n",
    "\n",
    "```python\n",
    "numpy.ones_like(a, dtype=None, order='K', subok=True)\n",
    "```"
   ]
  },
  {
   "cell_type": "markdown",
   "metadata": {},
   "source": [
    "<table class=\"docutils field-list\" frame=\"void\" rules=\"none\">\n",
    "<colgroup><col class=\"field-name\">\n",
    "<col class=\"field-body\">\n",
    "</colgroup><tbody valign=\"top\">\n",
    "<tr class=\"field-odd field\"><th class=\"field-name\">Parameters:</th><td class=\"field-body\"><dl class=\"first docutils\">\n",
    "<dt><strong>a</strong> <span class=\"classifier-delimiter\">:</span> <span class=\"classifier\">array_like</span></dt>\n",
    "<dd><p class=\"first last\">The shape and data-type of <em class=\"xref py py-obj\">a</em> define these same attributes of\n",
    "the returned array.</p>\n",
    "</dd>\n",
    "<dt><strong>dtype</strong> <span class=\"classifier-delimiter\">:</span> <span class=\"classifier\">data-type, optional</span></dt>\n",
    "<dd><p class=\"first\">Overrides the data type of the result.</p>\n",
    "<div class=\"last versionadded\">\n",
    "<p><span class=\"versionmodified\">New in version 1.6.0.</span></p>\n",
    "</div>\n",
    "</dd>\n",
    "<dt><strong>order</strong> <span class=\"classifier-delimiter\">:</span> <span class=\"classifier\">{‘C’, ‘F’, ‘A’, or ‘K’}, optional</span></dt>\n",
    "<dd><p class=\"first\">Overrides the memory layout of the result. ‘C’ means C-order,\n",
    "‘F’ means F-order, ‘A’ means ‘F’ if <em class=\"xref py py-obj\">a</em> is Fortran contiguous,\n",
    "‘C’ otherwise. ‘K’ means match the layout of <em class=\"xref py py-obj\">a</em> as closely\n",
    "as possible.</p>\n",
    "<div class=\"last versionadded\">\n",
    "<p><span class=\"versionmodified\">New in version 1.6.0.</span></p>\n",
    "</div>\n",
    "</dd>\n",
    "<dt><strong>subok</strong> <span class=\"classifier-delimiter\">:</span> <span class=\"classifier\">bool, optional.</span></dt>\n",
    "<dd><p class=\"first last\">If True, then the newly created array will use the sub-class\n",
    "type of ‘a’, otherwise it will be a base-class array. Defaults\n",
    "to True.</p>\n",
    "</dd>\n",
    "</dl>\n",
    "</td>\n",
    "</tr>\n",
    "<tr class=\"field-even field\"><th class=\"field-name\">Returns:</th><td class=\"field-body\"><dl class=\"first last docutils\">\n",
    "<dt><strong>out</strong> <span class=\"classifier-delimiter\">:</span> <span class=\"classifier\">ndarray</span></dt>\n",
    "<dd><p class=\"first last\">Array of ones with the same shape and type as <em class=\"xref py py-obj\">a</em>.</p>\n",
    "</dd>\n",
    "</dl>\n",
    "</td>\n",
    "</tr>\n",
    "</tbody>\n",
    "</table>"
   ]
  },
  {
   "cell_type": "code",
   "execution_count": 36,
   "metadata": {
    "ExecuteTime": {
     "end_time": "2019-05-10T02:07:16.687977Z",
     "start_time": "2019-05-10T02:07:16.682988Z"
    }
   },
   "outputs": [
    {
     "name": "stdout",
     "output_type": "stream",
     "text": [
      "x: [[0 1 2]\n",
      " [3 4 5]]\n",
      "y: [[1 1 1]\n",
      " [1 1 1]]\n"
     ]
    }
   ],
   "source": [
    "x = np.arange(6)\n",
    "x = x.reshape((2, 3))\n",
    "print( 'x:',x)\n",
    "y = np.ones_like(x)\n",
    "print( 'y:',y)"
   ]
  },
  {
   "cell_type": "code",
   "execution_count": null,
   "metadata": {},
   "outputs": [],
   "source": []
  }
 ],
 "metadata": {
  "anaconda-cloud": {},
  "kernelspec": {
   "display_name": "Python 3",
   "language": "python",
   "name": "python3"
  },
  "language_info": {
   "codemirror_mode": {
    "name": "ipython",
    "version": 3
   },
   "file_extension": ".py",
   "mimetype": "text/x-python",
   "name": "python",
   "nbconvert_exporter": "python",
   "pygments_lexer": "ipython3",
   "version": "3.7.0"
  }
 },
 "nbformat": 4,
 "nbformat_minor": 1
}
