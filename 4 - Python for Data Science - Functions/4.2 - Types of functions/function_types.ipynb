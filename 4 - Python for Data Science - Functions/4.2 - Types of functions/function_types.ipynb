{
 "cells": [
  {
   "cell_type": "code",
   "execution_count": 17,
   "metadata": {
    "ExecuteTime": {
     "end_time": "2019-05-05T01:09:30.233351Z",
     "start_time": "2019-05-05T01:09:30.229668Z"
    }
   },
   "outputs": [],
   "source": [
    "from IPython.lib.pretty import pretty\n",
    "from pprint import pprint"
   ]
  },
  {
   "cell_type": "markdown",
   "metadata": {
    "colab_type": "text",
    "id": "RqxIugMnDy18"
   },
   "source": [
    "# Types Of Functions"
   ]
  },
  {
   "cell_type": "markdown",
   "metadata": {
    "colab_type": "text",
    "id": "MeGY4QcFDy2B"
   },
   "source": [
    "1. Built-in Functions\n",
    "\n",
    "2. User-defined Functions"
   ]
  },
  {
   "cell_type": "markdown",
   "metadata": {
    "colab_type": "text",
    "id": "ilt0Wb4sDy2E"
   },
   "source": [
    "# Built-in Functions"
   ]
  },
  {
   "cell_type": "markdown",
   "metadata": {
    "colab_type": "text",
    "id": "ubtJWhwrDy2F"
   },
   "source": [
    "# 1. abs()"
   ]
  },
  {
   "cell_type": "code",
   "execution_count": 6,
   "metadata": {
    "ExecuteTime": {
     "end_time": "2019-05-05T01:06:57.957135Z",
     "start_time": "2019-05-05T01:06:57.950922Z"
    },
    "colab": {},
    "colab_type": "code",
    "id": "cs7rqfNGDy2H",
    "outputId": "9b7c7119-c7ac-4687-c6d2-2c1f4beedb6b"
   },
   "outputs": [
    {
     "name": "stdout",
     "output_type": "stream",
     "text": [
      "100\n"
     ]
    }
   ],
   "source": [
    "# find the absolute value\n",
    "\n",
    "num = -100\n",
    "\n",
    "print(abs(num))\n"
   ]
  },
  {
   "cell_type": "markdown",
   "metadata": {
    "colab_type": "text",
    "id": "Ao4an2SJDy2V"
   },
   "source": [
    "# 2. all()"
   ]
  },
  {
   "cell_type": "markdown",
   "metadata": {
    "colab_type": "text",
    "id": "s7KNa-qjDy2X"
   },
   "source": [
    "#return value of all() function\n",
    "\n",
    "True: if all elements in an iterable are true\n",
    "\n",
    "False: if any element in an iterable is false"
   ]
  },
  {
   "cell_type": "code",
   "execution_count": 7,
   "metadata": {
    "ExecuteTime": {
     "end_time": "2019-05-05T01:06:59.139571Z",
     "start_time": "2019-05-05T01:06:59.133237Z"
    },
    "colab": {},
    "colab_type": "code",
    "id": "BUYpaNxDDy2Z",
    "outputId": "4155af24-b996-48bc-f94f-96455fc6c295"
   },
   "outputs": [
    {
     "name": "stdout",
     "output_type": "stream",
     "text": [
      "True\n"
     ]
    }
   ],
   "source": [
    "lst = [1, 2, 3, 4]\n",
    "print(all(lst)) \n"
   ]
  },
  {
   "cell_type": "code",
   "execution_count": 8,
   "metadata": {
    "ExecuteTime": {
     "end_time": "2019-05-05T01:06:59.550686Z",
     "start_time": "2019-05-05T01:06:59.543930Z"
    },
    "colab": {},
    "colab_type": "code",
    "id": "PMh2XjhmDy2g",
    "outputId": "3fcc42c4-b996-4002-c2bc-4379c765ae57"
   },
   "outputs": [
    {
     "name": "stdout",
     "output_type": "stream",
     "text": [
      "False\n"
     ]
    }
   ],
   "source": [
    "lst = (0, 2, 3, 4)    # 0 present in list \n",
    "print(all(lst))\n"
   ]
  },
  {
   "cell_type": "code",
   "execution_count": 9,
   "metadata": {
    "ExecuteTime": {
     "end_time": "2019-05-05T01:07:00.066798Z",
     "start_time": "2019-05-05T01:07:00.059871Z"
    },
    "colab": {},
    "colab_type": "code",
    "id": "A1612gmHDy2n",
    "outputId": "5ab9f21d-d79d-43c0-e021-018ba8228f32"
   },
   "outputs": [
    {
     "name": "stdout",
     "output_type": "stream",
     "text": [
      "True\n"
     ]
    }
   ],
   "source": [
    "lst = []              #empty list always true\n",
    "print(all(lst))\n"
   ]
  },
  {
   "cell_type": "code",
   "execution_count": 10,
   "metadata": {
    "ExecuteTime": {
     "end_time": "2019-05-05T01:07:00.473173Z",
     "start_time": "2019-05-05T01:07:00.468948Z"
    },
    "colab": {},
    "colab_type": "code",
    "id": "EFwmHv_kDy2v",
    "outputId": "d466ad84-2d91-4ceb-bf13-c808f8dfcd2d"
   },
   "outputs": [
    {
     "name": "stdout",
     "output_type": "stream",
     "text": [
      "False\n"
     ]
    }
   ],
   "source": [
    "lst = [False, 1, 2]   #False present in a list so all(lst) is False\n",
    "print(all(lst))\n"
   ]
  },
  {
   "cell_type": "markdown",
   "metadata": {
    "colab_type": "text",
    "id": "Vpyu5OLGDy2z"
   },
   "source": [
    "# dir()"
   ]
  },
  {
   "cell_type": "markdown",
   "metadata": {
    "colab_type": "text",
    "id": "hKSi83LiDy20"
   },
   "source": [
    "The dir() tries to return a list of valid attributes of the object.\n",
    "\n",
    "If the object has __dir__() method, the method will be called and must return the list of attributes.\n",
    "\n",
    "If the object doesn't have __dir()__ method, this method tries to find information from the __dict__ attribute (if defined), and from type object. In this case, the list returned from dir() may not be complete.\n"
   ]
  },
  {
   "cell_type": "code",
   "execution_count": 18,
   "metadata": {
    "ExecuteTime": {
     "end_time": "2019-05-05T01:09:39.005051Z",
     "start_time": "2019-05-05T01:09:38.997643Z"
    },
    "colab": {},
    "colab_type": "code",
    "id": "x3-LaQj8Dy22",
    "outputId": "fadf0dbd-4c71-41bd-b759-968236a0a696"
   },
   "outputs": [
    {
     "name": "stdout",
     "output_type": "stream",
     "text": [
      "['__add__',\n",
      " '__class__',\n",
      " '__contains__',\n",
      " '__delattr__',\n",
      " '__delitem__',\n",
      " '__dir__',\n",
      " '__doc__',\n",
      " '__eq__',\n",
      " '__format__',\n",
      " '__ge__',\n",
      " '__getattribute__',\n",
      " '__getitem__',\n",
      " '__gt__',\n",
      " '__hash__',\n",
      " '__iadd__',\n",
      " '__imul__',\n",
      " '__init__',\n",
      " '__init_subclass__',\n",
      " '__iter__',\n",
      " '__le__',\n",
      " '__len__',\n",
      " '__lt__',\n",
      " '__mul__',\n",
      " '__ne__',\n",
      " '__new__',\n",
      " '__reduce__',\n",
      " '__reduce_ex__',\n",
      " '__repr__',\n",
      " '__reversed__',\n",
      " '__rmul__',\n",
      " '__setattr__',\n",
      " '__setitem__',\n",
      " '__sizeof__',\n",
      " '__str__',\n",
      " '__subclasshook__',\n",
      " 'append',\n",
      " 'clear',\n",
      " 'copy',\n",
      " 'count',\n",
      " 'extend',\n",
      " 'index',\n",
      " 'insert',\n",
      " 'pop',\n",
      " 'remove',\n",
      " 'reverse',\n",
      " 'sort']\n"
     ]
    }
   ],
   "source": [
    "numbers = [1, 2, 3]\n",
    "\n",
    "pprint(dir(numbers))\n"
   ]
  },
  {
   "cell_type": "markdown",
   "metadata": {
    "colab_type": "text",
    "id": "qAkLDrzDDy27"
   },
   "source": [
    "# divmod()"
   ]
  },
  {
   "cell_type": "markdown",
   "metadata": {
    "colab_type": "text",
    "id": "Z7PAJz9RDy28"
   },
   "source": [
    "<span class=\"girk\">The divmod() method takes two numbers and returns a pair of numbers (a tuple) consisting of their quotient and remainder.</span>"
   ]
  },
  {
   "cell_type": "code",
   "execution_count": 0,
   "metadata": {
    "colab": {},
    "colab_type": "code",
    "id": "6V3UUIj-Dy29",
    "outputId": "51645660-aa7a-4d6d-b162-effe6e5db99b"
   },
   "outputs": [
    {
     "name": "stdout",
     "output_type": "stream",
     "text": [
      "(4, 1)\n"
     ]
    }
   ],
   "source": [
    "print(divmod(9, 2)) #print quotient and remainder as a tuple\n",
    "\n",
    "#try with other number\n"
   ]
  },
  {
   "cell_type": "markdown",
   "metadata": {
    "colab_type": "text",
    "id": "3XcOj4ahDy3A"
   },
   "source": [
    "# enumerate()"
   ]
  },
  {
   "cell_type": "markdown",
   "metadata": {
    "colab_type": "text",
    "id": "sPGIxThfDy3C"
   },
   "source": [
    "The <span class=\"girk\">enumerate() method adds counter to an iterable and returns it</span> "
   ]
  },
  {
   "cell_type": "markdown",
   "metadata": {
    "colab_type": "text",
    "id": "PsPTJ9w3Dy3C"
   },
   "source": [
    "syntax: enumerate(iterable, start=0)"
   ]
  },
  {
   "cell_type": "code",
   "execution_count": 31,
   "metadata": {
    "ExecuteTime": {
     "end_time": "2019-05-05T01:27:12.971930Z",
     "start_time": "2019-05-05T01:27:12.964990Z"
    },
    "colab": {},
    "colab_type": "code",
    "id": "LzYe1WyTDy3E",
    "outputId": "d97df55a-531b-4f3f-c4b9-09053c31f337"
   },
   "outputs": [
    {
     "name": "stdout",
     "output_type": "stream",
     "text": [
      "index 6 has value 10\n",
      "index 7 has value 20\n",
      "index 8 has value 30\n",
      "index 9 has value 40\n",
      "0 foo\n",
      "1 bar\n",
      "2 baz\n"
     ]
    }
   ],
   "source": [
    "numbers = [10, 20, 30, 40]\n",
    "\n",
    "for index, num in enumerate(numbers,6):\n",
    "    print(\"index {0} has value {1}\".format(index, num))\n",
    "    \n",
    "elements = ('foo', 'bar', 'baz')\n",
    "for count, elem in enumerate(elements):\n",
    "    print (count, elem)"
   ]
  },
  {
   "cell_type": "markdown",
   "metadata": {
    "colab_type": "text",
    "id": "Qv7BOrOjDy3I"
   },
   "source": [
    "# filter()"
   ]
  },
  {
   "cell_type": "markdown",
   "metadata": {
    "colab_type": "text",
    "id": "K8_DVZ2uDy3J"
   },
   "source": [
    "The filter() method constructs an iterator from elements of an iterable for which a function returns true."
   ]
  },
  {
   "cell_type": "markdown",
   "metadata": {
    "colab_type": "text",
    "id": "Xsq_-ITBDy3K"
   },
   "source": [
    "syntax: <span class=\"mark\">filter(function, iterable)</span>"
   ]
  },
  {
   "cell_type": "code",
   "execution_count": 32,
   "metadata": {
    "ExecuteTime": {
     "end_time": "2019-05-05T01:27:14.118018Z",
     "start_time": "2019-05-05T01:27:14.115072Z"
    },
    "colab": {},
    "colab_type": "code",
    "id": "-Nclc6WjDy3L"
   },
   "outputs": [],
   "source": [
    "def find_positive_number(num):\n",
    "    \"\"\"\n",
    "    This function returns the positive number if num is positive\n",
    "    \"\"\"\n",
    "    if num > 0:\n",
    "        return num\n",
    "    "
   ]
  },
  {
   "cell_type": "code",
   "execution_count": 33,
   "metadata": {
    "ExecuteTime": {
     "end_time": "2019-05-05T01:27:14.343378Z",
     "start_time": "2019-05-05T01:27:14.339615Z"
    },
    "colab": {},
    "colab_type": "code",
    "id": "ef_Se6snDy3Q",
    "outputId": "8fb2019e-3862-47e5-ff75-8be51c7ca567"
   },
   "outputs": [
    {
     "name": "stdout",
     "output_type": "stream",
     "text": [
      "[-10, -9, -8, -7, -6, -5, -4, -3, -2, -1, 0, 1, 2, 3, 4, 5, 6, 7, 8, 9]\n",
      "[1, 2, 3, 4, 5, 6, 7, 8, 9]\n"
     ]
    }
   ],
   "source": [
    "number_list = range(-10, 10) #create a list with numbers from -10 to 10\n",
    "pprint(list(number_list))\n",
    "\n",
    "positive_num_lst = list(filter(find_positive_number, number_list))\n",
    "\n",
    "pprint(positive_num_lst)\n"
   ]
  },
  {
   "cell_type": "markdown",
   "metadata": {
    "colab_type": "text",
    "id": "i1jHDq_5Dy3Z"
   },
   "source": [
    "# isinstance()"
   ]
  },
  {
   "cell_type": "markdown",
   "metadata": {
    "colab_type": "text",
    "id": "eSZpUEYnDy3b"
   },
   "source": [
    "The <span class=\"mark\">isinstance() function checks if the object (first argument) is an instance or subclass of classinfo class (second argument)</span>."
   ]
  },
  {
   "cell_type": "markdown",
   "metadata": {
    "colab_type": "text",
    "id": "JYB_W3vfDy3e"
   },
   "source": [
    "syntax: isinstance(object, classinfo)"
   ]
  },
  {
   "cell_type": "code",
   "execution_count": 34,
   "metadata": {
    "ExecuteTime": {
     "end_time": "2019-05-05T01:27:16.232798Z",
     "start_time": "2019-05-05T01:27:16.227614Z"
    },
    "colab": {},
    "colab_type": "code",
    "id": "JMAYKKXZDy3f",
    "outputId": "42dc66ee-8ee9-434e-c523-c35ed9653b09"
   },
   "outputs": [
    {
     "name": "stdout",
     "output_type": "stream",
     "text": [
      "True\n",
      "False\n"
     ]
    }
   ],
   "source": [
    "lst = [1, 2, 3, 4]\n",
    "print(isinstance(lst, list))\n",
    "\n",
    "#try with other datatypes tuple, set\n",
    "t = (1,2,3,4)\n",
    "print(isinstance(t, list))"
   ]
  },
  {
   "cell_type": "markdown",
   "metadata": {
    "colab_type": "text",
    "id": "0SzHgv87Dy3k"
   },
   "source": [
    "# map()"
   ]
  },
  {
   "cell_type": "markdown",
   "metadata": {
    "colab_type": "text",
    "id": "eAqVlxbtDy3m"
   },
   "source": [
    "<span class=\"girk\">Map applies a function to all the items in an input_list.</span>"
   ]
  },
  {
   "cell_type": "markdown",
   "metadata": {
    "colab_type": "text",
    "id": "oHivUTbRDy3m"
   },
   "source": [
    "syntax: map(function_to_apply, list_of_inputs)"
   ]
  },
  {
   "cell_type": "code",
   "execution_count": 35,
   "metadata": {
    "ExecuteTime": {
     "end_time": "2019-05-05T01:27:17.823859Z",
     "start_time": "2019-05-05T01:27:17.819874Z"
    },
    "colab": {},
    "colab_type": "code",
    "id": "YrzZKvFMDy3n",
    "outputId": "bdcc45b2-5a0e-43e7-be55-cc3749c03498"
   },
   "outputs": [
    {
     "name": "stdout",
     "output_type": "stream",
     "text": [
      "[1, 4, 9, 16]\n"
     ]
    }
   ],
   "source": [
    "numbers = [1, 2, 3, 4]\n",
    "\n",
    "#normal method of computing num^2 for each element in the list.\n",
    "squared = []\n",
    "for num in numbers:\n",
    "    squared.append(num ** 2)\n",
    "\n",
    "print(squared)\n"
   ]
  },
  {
   "cell_type": "code",
   "execution_count": 36,
   "metadata": {
    "ExecuteTime": {
     "end_time": "2019-05-05T01:27:18.346151Z",
     "start_time": "2019-05-05T01:27:18.339562Z"
    },
    "colab": {},
    "colab_type": "code",
    "id": "SWKg9_nYDy3r",
    "outputId": "50395f75-d023-4dca-ca24-431a527e1e97"
   },
   "outputs": [
    {
     "name": "stdout",
     "output_type": "stream",
     "text": [
      "[1, 4, 9, 16]\n"
     ]
    }
   ],
   "source": [
    "numbers = [1, 2, 3, 4]\n",
    "\n",
    "def powerOfTwo(num):\n",
    "    return num ** 2\n",
    "\n",
    "#using map() function\n",
    "squared = list(map(powerOfTwo, numbers))\n",
    "print(squared)\n"
   ]
  },
  {
   "cell_type": "markdown",
   "metadata": {
    "colab_type": "text",
    "id": "-ZZiI7m5Dy3t"
   },
   "source": [
    "# reduce()"
   ]
  },
  {
   "cell_type": "markdown",
   "metadata": {
    "colab_type": "text",
    "id": "u_pxdMIcDy3v"
   },
   "source": [
    "reduce() function is for performing some computation on a list and returning the result. \n",
    "\n",
    "<span class=\"burk\">It applies a rolling computation to sequential pairs of values in a list.</span> \n",
    "\n",
    "\n",
    "The **reduce(fun,seq)** function is used to **apply a particular function passed in its argument to all of the list elements** mentioned in the sequence passed along.This function is defined in “**functools**” module.\n",
    "\n",
    "**Working :** \n",
    "\n",
    "* At first step, first two elements of sequence are picked and the result is obtained.\n",
    "* Next step is to apply the same function to the previously attained result and the number just succeeding the second element and the result is again stored.\n",
    "* This process continues till no more elements are left in the container.\n",
    "* The final returned result is returned and printed on console."
   ]
  },
  {
   "cell_type": "code",
   "execution_count": 37,
   "metadata": {
    "ExecuteTime": {
     "end_time": "2019-05-05T01:27:48.744297Z",
     "start_time": "2019-05-05T01:27:48.740787Z"
    },
    "colab": {},
    "colab_type": "code",
    "id": "jqx-xAf7Dy3w",
    "outputId": "182c1097-2ed9-4197-bdaf-8b7866401a4d"
   },
   "outputs": [
    {
     "name": "stdout",
     "output_type": "stream",
     "text": [
      "24\n"
     ]
    }
   ],
   "source": [
    "#product of elemnts in a list\n",
    "product = 1\n",
    "lst = [1, 2, 3, 4]\n",
    "\n",
    "# traditional program without reduce()\n",
    "for num in lst:\n",
    "    product *= num\n",
    "print(product)\n"
   ]
  },
  {
   "cell_type": "code",
   "execution_count": 38,
   "metadata": {
    "ExecuteTime": {
     "end_time": "2019-05-05T01:27:49.378315Z",
     "start_time": "2019-05-05T01:27:49.371976Z"
    },
    "colab": {},
    "colab_type": "code",
    "id": "c-_BNfapDy3y",
    "outputId": "8858e5be-5ad5-4979-da7e-4ef51283a04d"
   },
   "outputs": [
    {
     "name": "stdout",
     "output_type": "stream",
     "text": [
      "24\n"
     ]
    }
   ],
   "source": [
    "#with reduce()\n",
    "from functools import reduce # in Python 3.\n",
    "\n",
    "def multiply(x,y):\n",
    "    return x*y;\n",
    "\n",
    "product = reduce(multiply, lst)\n",
    "print(product)\n"
   ]
  },
  {
   "cell_type": "markdown",
   "metadata": {
    "colab_type": "text",
    "id": "PlBjfKeLDy33"
   },
   "source": [
    "# 2. User-defined Functions"
   ]
  },
  {
   "cell_type": "markdown",
   "metadata": {
    "colab_type": "text",
    "id": "-jG1cIkIDy33"
   },
   "source": [
    "Functions that we define ourselves to do certain specific task are referred as user-defined functions"
   ]
  },
  {
   "cell_type": "markdown",
   "metadata": {
    "colab_type": "text",
    "id": "U0R-nQZEDy35"
   },
   "source": [
    "If we use functions written by others in the form of library, it can be termed as library functions."
   ]
  },
  {
   "cell_type": "markdown",
   "metadata": {
    "colab_type": "text",
    "id": "qnW4EEEaDy36"
   },
   "source": [
    "# Advantages"
   ]
  },
  {
   "cell_type": "markdown",
   "metadata": {
    "colab_type": "text",
    "id": "BuTGBpe_Dy36"
   },
   "source": [
    "1. User-defined functions help to decompose a large program into small segments which makes program easy to understand, maintain and debug.\n",
    "\n",
    "2. If repeated code occurs in a program. Function can be used to include those codes and execute when needed by calling that function.\n",
    "\n",
    "3. Programmars working on large project can divide the workload by making different functions."
   ]
  },
  {
   "cell_type": "markdown",
   "metadata": {
    "colab_type": "text",
    "id": "bchAt3KsDy37"
   },
   "source": [
    "# Example:"
   ]
  },
  {
   "cell_type": "code",
   "execution_count": 40,
   "metadata": {
    "ExecuteTime": {
     "end_time": "2019-05-05T01:28:14.705695Z",
     "start_time": "2019-05-05T01:28:14.700640Z"
    },
    "colab": {},
    "colab_type": "code",
    "id": "Bl7T01heDy3-",
    "outputId": "6dfc3c9d-6622-4219-9180-5367adb6b7b2"
   },
   "outputs": [
    {
     "name": "stdout",
     "output_type": "stream",
     "text": [
      "product of 10 and 20 is 200 \n"
     ]
    }
   ],
   "source": [
    "def product_numbers(a, b):\n",
    "    \"\"\"\n",
    "    this function returns the product of two numbers\n",
    "    \"\"\"\n",
    "    product = a * b\n",
    "    return product\n",
    "\n",
    "num1 = 10\n",
    "num2 = 20\n",
    "print (\"product of {0} and {1} is {2} \".format(num1, num2, product_numbers(num1, num2)))"
   ]
  },
  {
   "cell_type": "markdown",
   "metadata": {
    "colab_type": "text",
    "id": "3t1WqaakDy4B"
   },
   "source": [
    "# Python program to make a simple calculator that can add, subtract, multiply and division"
   ]
  },
  {
   "cell_type": "code",
   "execution_count": 41,
   "metadata": {
    "ExecuteTime": {
     "end_time": "2019-05-05T01:28:56.455869Z",
     "start_time": "2019-05-05T01:28:42.491829Z"
    },
    "colab": {},
    "colab_type": "code",
    "id": "7VcPOrmLDy4E",
    "outputId": "31adb3c1-11dd-4316-a355-ae44a54acf42"
   },
   "outputs": [
    {
     "name": "stdout",
     "output_type": "stream",
     "text": [
      "Select Option\n",
      "1. Addition\n",
      "2. Subtraction\n",
      "3. Multiplication\n",
      "4. Division\n",
      "Enter choice 1/2/3/42\n",
      "Enter first number:3\n",
      "Enter second number:6\n",
      "Subtraction of 3.0 and 6.0 is -3.0\n"
     ]
    }
   ],
   "source": [
    "def add(a, b):\n",
    "    \"\"\"\n",
    "    This function adds two numbers\n",
    "    \"\"\"\n",
    "    return a + b\n",
    "\n",
    "def multiply(a, b):\n",
    "    \"\"\"\n",
    "    This function multiply two numbers\n",
    "    \"\"\"\n",
    "    return a * b\n",
    "\n",
    "def subtract(a, b):\n",
    "    \"\"\"\n",
    "    This function subtract two numbers\n",
    "    \"\"\"\n",
    "    return a - b\n",
    "\n",
    "def division(a, b):\n",
    "    \"\"\"\n",
    "    This function divides two numbers\n",
    "    \"\"\"\n",
    "    return a / b\n",
    "\n",
    "print(\"Select Option\")\n",
    "print(\"1. Addition\")\n",
    "print (\"2. Subtraction\")\n",
    "print (\"3. Multiplication\")\n",
    "print (\"4. Division\")\n",
    "\n",
    "#take input from user\n",
    "choice = int(input(\"Enter choice 1/2/3/4\"))\n",
    "\n",
    "num1 = float(input(\"Enter first number:\"))\n",
    "num2 = float(input(\"Enter second number:\"))\n",
    "if choice == 1:\n",
    "    print(\"Addition of {0} and {1} is {2}\".format(num1, num2, add(num1, num2)))\n",
    "elif choice == 2:\n",
    "    print(\"Subtraction of {0} and {1} is {2}\".format(num1, num2, subtract(num1, num2)))\n",
    "elif choice == 3:\n",
    "    print(\"Multiplication of {0} and {1} is {2}\".format(num1, num2, multiply(num1, num2)))\n",
    "elif choice == 4:\n",
    "    print(\"Division of {0} and {1} is {2}\".format(num1, num2, division(num1, num2)))\n",
    "else:\n",
    "    print(\"Invalid Choice\")"
   ]
  },
  {
   "cell_type": "markdown",
   "metadata": {},
   "source": [
    "# Q & A"
   ]
  },
  {
   "attachments": {
    "image.png": {
     "image/png": "[encoded data removed]"
    }
   },
   "cell_type": "markdown",
   "metadata": {},
   "source": [
    "## 1. Difference between any and all functions\n",
    "\n",
    "You can roughly think of `any` and `all` as series of logical `or` and `and` operators, respectively.\n",
    "\n",
    "**any**\n",
    "\n",
    "any will return `True` when at least one of the elements is Truthy. Read about [Truth Value Testing](https://docs.python.org/2/library/stdtypes.html#truth-value-testing).\n",
    "\n",
    "**all**\n",
    "\n",
    "all will return `True` only when all the elements are Truthy    \n",
    "\n",
    "Truth table  \n",
    "![image.png](attachment:image.png)\n",
    "\n",
    "\n",
    "**Note 1:** The empty iterable case is explained in the official documentation, like this\n",
    "\n",
    "[**`any`**](https://docs.python.org/2/library/functions.html#any)\n",
    "\n",
    "> Return `True` if any element of the iterable is true. **If the iterable is empty, return `False`**\n",
    "\n",
    "Since none of the elements is true, it returns `False` in this case. \n",
    "\n",
    "[**`all`**](https://docs.python.org/2/library/functions.html#all)\n",
    "\n",
    "> Return `True` if all elements of the iterable are true (**or if the iterable is empty**).\n",
    "\n",
    "Since none of the elements is false, it returns `True` in this case. \n",
    "\n",
    "---\n",
    "\n",
    "**Note 2:**\n",
    "\n",
    "Another important thing to know about `any` and `all` is, it will short-circuit the execution, the moment they know the result. The advantage is, entire iterable need not be consumed\n"
   ]
  },
  {
   "cell_type": "markdown",
   "metadata": {},
   "source": [
    "## 2. '__repr__' vs '__str__'\n",
    "\n",
    "str() and repr() both are used to get a string representation of object."
   ]
  },
  {
   "cell_type": "code",
   "execution_count": 45,
   "metadata": {
    "ExecuteTime": {
     "end_time": "2019-05-05T01:57:26.114166Z",
     "start_time": "2019-05-05T01:57:26.107517Z"
    }
   },
   "outputs": [
    {
     "name": "stdout",
     "output_type": "stream",
     "text": [
      "Hello, Geeks.\n",
      "0.18181818181818182\n"
     ]
    }
   ],
   "source": [
    "s = 'Hello, Geeks.'\n",
    "print (str(s))\n",
    "print (str(2.0/11.0)) "
   ]
  },
  {
   "cell_type": "code",
   "execution_count": 47,
   "metadata": {
    "ExecuteTime": {
     "end_time": "2019-05-05T01:57:57.010116Z",
     "start_time": "2019-05-05T01:57:57.003745Z"
    }
   },
   "outputs": [
    {
     "name": "stdout",
     "output_type": "stream",
     "text": [
      "'Hello, Geeks.'\n",
      "0.18181818181818182\n"
     ]
    }
   ],
   "source": [
    "s = 'Hello, Geeks.'\n",
    "print (repr(s)) \n",
    "print (repr(2.0/11.0))"
   ]
  },
  {
   "cell_type": "markdown",
   "metadata": {},
   "source": [
    "From above output, we can see if we print string using repr() function then it prints with  a pair of quotes and if we calculate a value we get more precise value than str() function.    \n",
    "\n",
    "Following are differences:\n",
    "\n",
    "*  _**str() is used for creating output for end user while repr() is mainly used for debugging and development. repr’s goal is to be unambiguous and str’s is to be readable**_. For example, if we suspect a float has a small rounding error, repr will show us while str may not.\n",
    "* repr() [compute the “official” string representation of an object ](http://docs.python.org/reference/datamodel.html#object.__repr__) (a representation that has all information about the abject) and str() is used to [compute the “informal” string representation of an object](http://docs.python.org/reference/datamodel.html#object.__str__) (a representation that is useful for printing the object).\n",
    "* The print statement and str() built-in function uses __str__ to display the string representation of the object while the repr() built-in function uses __repr__ to display the object. \n",
    "\n",
    "Let understand this by an example:-"
   ]
  },
  {
   "cell_type": "code",
   "execution_count": 49,
   "metadata": {
    "ExecuteTime": {
     "end_time": "2019-05-05T01:59:20.809449Z",
     "start_time": "2019-05-05T01:59:20.803074Z"
    }
   },
   "outputs": [
    {
     "name": "stdout",
     "output_type": "stream",
     "text": [
      "2019-05-05 07:29:20.805466\n",
      "datetime.datetime(2019, 5, 5, 7, 29, 20, 805466)\n"
     ]
    }
   ],
   "source": [
    "import datetime \n",
    "today = datetime.datetime.now() \n",
    "\n",
    "# Prints readable format for date-time object \n",
    "print (str(today))\n",
    "\n",
    "# prints the official format of date-time object \n",
    "print (repr(today))"
   ]
  },
  {
   "cell_type": "markdown",
   "metadata": {},
   "source": [
    "str() displays today’s date in a way that the user can understand the date and time. \n",
    "\n",
    "repr() prints “official” representation of a date-time object (means using the “official” string representation we can reconstruct the object).\n",
    "\n",
    "**How to make them work for our own defined classes?**  \n",
    "A user defined class should also have a __repr__ if we need detailed information for debugging. And if we think it would be useful to have a string version for users, we create a __str__ function."
   ]
  },
  {
   "cell_type": "code",
   "execution_count": 53,
   "metadata": {
    "ExecuteTime": {
     "end_time": "2019-05-05T02:01:40.613652Z",
     "start_time": "2019-05-05T02:01:40.604765Z"
    }
   },
   "outputs": [
    {
     "name": "stdout",
     "output_type": "stream",
     "text": [
      "10 + i20\n",
      "Rational(10, 20)\n"
     ]
    }
   ],
   "source": [
    "# Python program to demonstrate writing of __repr__ and\n",
    "# __str__ for user defined classes\n",
    "\n",
    "# A user defined class to represent Complex numbers\n",
    "class Complex:\n",
    "\n",
    "    # Constructor\n",
    "    def __init__(self, real, imag):\n",
    "        self.real = real\n",
    "        self.imag = imag\n",
    "\n",
    "    # For call to repr(). Prints object's information\n",
    "    def __repr__(self):\n",
    "        return \"Rational(%s, %s)\" % (self.real, self.imag)\n",
    "\n",
    "    # For call to str(). Prints readable form\n",
    "    def __str__(self):\n",
    "        return \"%s + i%s\" % (self.real, self.imag)\n",
    "\n",
    "\n",
    "# Driver program to test above\n",
    "t = Complex(10, 20)\n",
    "\n",
    "print(str(t))  # Same as \"print t\"\n",
    "print(repr(t))"
   ]
  },
  {
   "cell_type": "markdown",
   "metadata": {},
   "source": [
    "## 3. **reduce() vs accumulate()** \n",
    "\n",
    "Both reduce() and accumulate() can be used to calculate the summation of a sequence elements. But there are differences in the implementation aspects in both of these.\n",
    "\n",
    "* reduce() is defined in “functools” module, accumulate() in “itertools” module.\n",
    "* reduce() stores the intermediate result and only returns the final summation value. Whereas, accumulate() returns a list containing the intermediate results. The last number of the list returned is summation value of the list.\n",
    "* reduce(fun,seq) takes function as 1st and sequence as 2nd argument. In contrast accumulate(seq,fun) takes sequence as 1st argument and function as 2nd argument."
   ]
  },
  {
   "cell_type": "code",
   "execution_count": 42,
   "metadata": {
    "ExecuteTime": {
     "end_time": "2019-05-05T01:55:50.644764Z",
     "start_time": "2019-05-05T01:55:50.637435Z"
    }
   },
   "outputs": [
    {
     "name": "stdout",
     "output_type": "stream",
     "text": [
      "The summation of list using accumulate is :[1, 4, 8, 18, 22]\n",
      "The summation of list using reduce is :22\n"
     ]
    }
   ],
   "source": [
    "# python code to demonstrate summation  \n",
    "# using reduce() and accumulate() \n",
    "  \n",
    "# importing itertools for accumulate() \n",
    "import itertools \n",
    "  \n",
    "# importing functools for reduce() \n",
    "import functools \n",
    "  \n",
    "# initializing list  \n",
    "lis = [ 1, 3, 4, 10, 4 ] \n",
    "  \n",
    "# priting summation using accumulate() \n",
    "print (\"The summation of list using accumulate is :\",end=\"\") \n",
    "print (list(itertools.accumulate(lis,lambda x,y : x+y))) \n",
    "  \n",
    "# priting summation using reduce() \n",
    "print (\"The summation of list using reduce is :\",end=\"\") \n",
    "print (functools.reduce(lambda x,y:x+y,lis)) "
   ]
  },
  {
   "cell_type": "code",
   "execution_count": null,
   "metadata": {},
   "outputs": [],
   "source": []
  }
 ],
 "metadata": {
  "colab": {
   "name": "function_types.ipynb",
   "provenance": [],
   "version": "0.3.2"
  },
  "kernelspec": {
   "display_name": "Python 3",
   "language": "python",
   "name": "python3"
  },
  "language_info": {
   "codemirror_mode": {
    "name": "ipython",
    "version": 3
   },
   "file_extension": ".py",
   "mimetype": "text/x-python",
   "name": "python",
   "nbconvert_exporter": "python",
   "pygments_lexer": "ipython3",
   "version": "3.7.0"
  }
 },
 "nbformat": 4,
 "nbformat_minor": 1
}
