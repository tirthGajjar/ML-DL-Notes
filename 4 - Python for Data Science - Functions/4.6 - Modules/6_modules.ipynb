{
 "cells": [
  {
   "cell_type": "markdown",
   "metadata": {
    "hideCode": false,
    "hidePrompt": false
   },
   "source": [
    "# Modules"
   ]
  },
  {
   "cell_type": "markdown",
   "metadata": {
    "hideCode": false,
    "hidePrompt": false
   },
   "source": [
    "Modules refer to a file containing Python statements and definitions.\n",
    "\n",
    "<span class=\"burk\">A file containing Python code, for e.g.: abc.py, is called a module and its module name would be \"abc\".</span>"
   ]
  },
  {
   "cell_type": "markdown",
   "metadata": {
    "hideCode": false,
    "hidePrompt": false
   },
   "source": [
    "We use modules to break down large programs into small manageable and organized files. Furthermore, modules provide reusability of code.\n",
    "\n",
    "We can define our most used functions in a module and import it, instead of copying their definitions into different programs."
   ]
  },
  {
   "cell_type": "markdown",
   "metadata": {
    "hideCode": false,
    "hidePrompt": false
   },
   "source": [
    "# How to import a module?"
   ]
  },
  {
   "cell_type": "markdown",
   "metadata": {
    "hideCode": false,
    "hidePrompt": false
   },
   "source": [
    "We use the import keyword to do this."
   ]
  },
  {
   "cell_type": "code",
   "execution_count": null,
   "metadata": {
    "ExecuteTime": {
     "end_time": "2019-05-05T04:40:53.126561Z",
     "start_time": "2019-05-05T04:40:53.057712Z"
    },
    "hideCode": false,
    "hidePrompt": false
   },
   "outputs": [],
   "source": [
    "import example #imported example module"
   ]
  },
  {
   "cell_type": "markdown",
   "metadata": {
    "hideCode": false,
    "hidePrompt": false
   },
   "source": [
    "Using the module name we can access the function using dot (.) operation."
   ]
  },
  {
   "cell_type": "code",
   "execution_count": null,
   "metadata": {
    "ExecuteTime": {
     "end_time": "2019-05-05T04:40:53.336991Z",
     "start_time": "2019-05-05T04:40:53.330019Z"
    },
    "hideCode": false,
    "hidePrompt": false
   },
   "outputs": [],
   "source": [
    "example.add(10, 20)"
   ]
  },
  {
   "cell_type": "markdown",
   "metadata": {
    "hideCode": false,
    "hidePrompt": false
   },
   "source": [
    "Python has a lot of standard modules available.\n",
    "\n",
    "<span class=\"mark\">https://docs.python.org/3/py-modindex.html</span> "
   ]
  },
  {
   "cell_type": "markdown",
   "metadata": {
    "hideCode": false,
    "hidePrompt": false
   },
   "source": [
    "# Examples:"
   ]
  },
  {
   "cell_type": "code",
   "execution_count": 10,
   "metadata": {
    "ExecuteTime": {
     "end_time": "2019-05-05T04:41:31.197864Z",
     "start_time": "2019-05-05T04:41:31.192871Z"
    },
    "hideCode": false,
    "hidePrompt": false
   },
   "outputs": [
    {
     "name": "stdout",
     "output_type": "stream",
     "text": [
      "3.141592653589793\n"
     ]
    }
   ],
   "source": [
    "import math\n",
    "print(math.pi)"
   ]
  },
  {
   "cell_type": "code",
   "execution_count": 11,
   "metadata": {
    "ExecuteTime": {
     "end_time": "2019-05-05T04:41:31.806257Z",
     "start_time": "2019-05-05T04:41:31.801246Z"
    },
    "hideCode": false,
    "hidePrompt": false
   },
   "outputs": [
    {
     "data": {
      "text/plain": [
       "datetime.datetime(2019, 5, 5, 10, 11, 31, 802242)"
      ]
     },
     "execution_count": 11,
     "metadata": {},
     "output_type": "execute_result"
    }
   ],
   "source": [
    "import datetime\n",
    "datetime.datetime.now()\n"
   ]
  },
  {
   "cell_type": "markdown",
   "metadata": {
    "hideCode": false,
    "hidePrompt": false
   },
   "source": [
    "# import with renaming"
   ]
  },
  {
   "cell_type": "code",
   "execution_count": 12,
   "metadata": {
    "ExecuteTime": {
     "end_time": "2019-05-05T04:41:32.839385Z",
     "start_time": "2019-05-05T04:41:32.831389Z"
    },
    "hideCode": false,
    "hidePrompt": false
   },
   "outputs": [
    {
     "name": "stdout",
     "output_type": "stream",
     "text": [
      "3.141592653589793\n"
     ]
    }
   ],
   "source": [
    "import math as m\n",
    "print(m.pi)\n"
   ]
  },
  {
   "cell_type": "markdown",
   "metadata": {
    "hideCode": false,
    "hidePrompt": false
   },
   "source": [
    "# from...import statement"
   ]
  },
  {
   "cell_type": "markdown",
   "metadata": {
    "hideCode": false,
    "hidePrompt": false
   },
   "source": [
    "<span class=\"girk\">We can import specific names form a module without importing the module as a whole</span>."
   ]
  },
  {
   "cell_type": "code",
   "execution_count": 13,
   "metadata": {
    "ExecuteTime": {
     "end_time": "2019-05-05T04:41:34.286834Z",
     "start_time": "2019-05-05T04:41:34.281837Z"
    },
    "hideCode": false,
    "hidePrompt": false
   },
   "outputs": [
    {
     "data": {
      "text/plain": [
       "datetime.datetime(2019, 5, 5, 10, 11, 34, 282855)"
      ]
     },
     "execution_count": 13,
     "metadata": {},
     "output_type": "execute_result"
    }
   ],
   "source": [
    "from datetime import datetime \n",
    "datetime.now()\n"
   ]
  },
  {
   "cell_type": "markdown",
   "metadata": {
    "hideCode": false,
    "hidePrompt": false
   },
   "source": [
    "# import all names"
   ]
  },
  {
   "cell_type": "code",
   "execution_count": 14,
   "metadata": {
    "ExecuteTime": {
     "end_time": "2019-05-05T04:41:35.996703Z",
     "start_time": "2019-05-05T04:41:35.992702Z"
    },
    "hideCode": false,
    "hidePrompt": false
   },
   "outputs": [
    {
     "name": "stdout",
     "output_type": "stream",
     "text": [
      "Value of PI is 3.141592653589793\n"
     ]
    }
   ],
   "source": [
    "from math import *\n",
    "print(\"Value of PI is \" + str(pi))\n"
   ]
  },
  {
   "cell_type": "markdown",
   "metadata": {
    "hideCode": false,
    "hidePrompt": false
   },
   "source": [
    "# dir() built in function"
   ]
  },
  {
   "cell_type": "markdown",
   "metadata": {
    "hideCode": false,
    "hidePrompt": false
   },
   "source": [
    "We can use the dir() function to find out names that are defined inside a module."
   ]
  },
  {
   "cell_type": "code",
   "execution_count": 16,
   "metadata": {
    "ExecuteTime": {
     "end_time": "2019-05-05T04:41:47.677967Z",
     "start_time": "2019-05-05T04:41:47.673986Z"
    },
    "hideCode": false,
    "hidePrompt": false
   },
   "outputs": [
    {
     "data": {
      "text/plain": [
       "['__doc__',\n",
       " '__loader__',\n",
       " '__name__',\n",
       " '__package__',\n",
       " '__spec__',\n",
       " 'acos',\n",
       " 'acosh',\n",
       " 'asin',\n",
       " 'asinh',\n",
       " 'atan',\n",
       " 'atan2',\n",
       " 'atanh',\n",
       " 'ceil',\n",
       " 'copysign',\n",
       " 'cos',\n",
       " 'cosh',\n",
       " 'degrees',\n",
       " 'e',\n",
       " 'erf',\n",
       " 'erfc',\n",
       " 'exp',\n",
       " 'expm1',\n",
       " 'fabs',\n",
       " 'factorial',\n",
       " 'floor',\n",
       " 'fmod',\n",
       " 'frexp',\n",
       " 'fsum',\n",
       " 'gamma',\n",
       " 'gcd',\n",
       " 'hypot',\n",
       " 'inf',\n",
       " 'isclose',\n",
       " 'isfinite',\n",
       " 'isinf',\n",
       " 'isnan',\n",
       " 'ldexp',\n",
       " 'lgamma',\n",
       " 'log',\n",
       " 'log10',\n",
       " 'log1p',\n",
       " 'log2',\n",
       " 'modf',\n",
       " 'nan',\n",
       " 'pi',\n",
       " 'pow',\n",
       " 'radians',\n",
       " 'remainder',\n",
       " 'sin',\n",
       " 'sinh',\n",
       " 'sqrt',\n",
       " 'tan',\n",
       " 'tanh',\n",
       " 'tau',\n",
       " 'trunc']"
      ]
     },
     "execution_count": 16,
     "metadata": {},
     "output_type": "execute_result"
    }
   ],
   "source": [
    "dir(math)"
   ]
  },
  {
   "cell_type": "code",
   "execution_count": 18,
   "metadata": {
    "ExecuteTime": {
     "end_time": "2019-05-05T04:42:09.633656Z",
     "start_time": "2019-05-05T04:42:09.628655Z"
    },
    "hideCode": false,
    "hidePrompt": false
   },
   "outputs": [
    {
     "name": "stdout",
     "output_type": "stream",
     "text": [
      "Return the sine of x (measured in radians).\n"
     ]
    }
   ],
   "source": [
    "print(math.sin.__doc__)"
   ]
  },
  {
   "cell_type": "markdown",
   "metadata": {
    "hideCode": false,
    "hidePrompt": false
   },
   "source": [
    "## 1. Use 'import module' or 'from module import'?\n",
    "The difference between `import module` and `from module import foo` is mainly subjective.  Pick the one you like best and be consistent in your use of it.  Here are some points to help you decide.\n",
    "\n",
    "`import module`\n",
    "\n",
    "* **Pros:**\n",
    "\n",
    "    * <span class=\"mark\">Less maintenance of your `import` statements</span>. Don't need to add any additional imports to start using another item from the module\n",
    "\n",
    "* **Cons:**\n",
    "\n",
    "    * <span class=\"mark\">Typing `module.foo` in your code can be tedious and redundant</span> (tedium can be minimized by using `import module as mo` then typing `mo.foo`)\n",
    "\n",
    "`from module import foo`\n",
    "\n",
    "* **Pros:**\n",
    "\n",
    "    * Less typing to use `foo`\n",
    "    * <span class=\"mark\">More control over which items of a module can be accessed</span>\n",
    "\n",
    "* **Cons:**\n",
    "\n",
    "    * To use a new item from the module you have to update your `import` statement\n",
    "    * <span class=\"mark\">You lose context about `foo`. For example, it's less clear what `ceil()` does compared to `math.ceil()</span>`\n",
    "\n",
    "Either method is acceptable, but<span class=\"burk\">  **don't** use `from module import *`</span>.  \n",
    "\n",
    "For any reasonable large set of code, if you `import *` you will likely be cementing it into the module, unable to be removed.  <span class=\"mark\">This is because it is difficult to determine what items used in the code are coming from 'module'</span>, making it easy to get to the point where you think you don't use the `import` any more but it's extremely difficult to be sure.\n",
    "\n",
    "<time itemprop=\"dateCreated\" datetime=\"2009-04-02T16:52:11\"></time>\n",
    "\n",
    "[source](https://stackoverflow.com/a/710603)"
   ]
  },
  {
   "cell_type": "markdown",
   "metadata": {
    "hideCode": false,
    "hidePrompt": false
   },
   "source": [
    "# Modules vs Packages vs Libraries in Python\n",
    "\n",
    "\n",
    "<!-- .entry-header -->\n",
    "[](https://knowpapa.com/modpaclib-py/)\n",
    "<!-- .entry-thumb -->\n",
    "\n",
    "The terms ‘module’, ‘package’ & ‘library’ are defined differently by different programming languages. This may cause some confusion for programmers switching from one language to another.\n",
    "\n",
    "Here’s how these three terms are used in context of python:\n",
    "\n",
    "## Module:\n",
    "\n",
    "Simply put, a module in python is a .py file that defines one or more function/classes which you intend to reuse in different codes of your program.\n",
    "\n",
    "To reuse the functions of a given module you simply need to import the module using:\n",
    "\n",
    "---\n",
    "\\# to import the entire module   \n",
    "<code>import &lt;modulename&gt; </code>     \n",
    "\n",
    "\\# imports a class from a module       \n",
    "<code>from &lt;modulename&lt; import &gt;classname&gt; </code>   \n",
    "\n",
    "---\n",
    "As regards the module name, Python treats the file name as the module names.\n",
    "\n",
    "<span class=\"girk\">By default, the name of the  module is stored in the name space as a string type</span>.   \n",
    "<span class=\"mark\">The module name can be called within the module  by calling the global variable ___name___.</span>\n",
    "\n",
    "## Package\n",
    "\n",
    "<span class=\"mark\">A Python package refers to a directory of Python module(s)</span>. This feature comes in handy for organizing modules of one type at one place. A python package is normally installed in:\n",
    "\n",
    "    /usr/lib/python/site-packages # for linux    \n",
    "    C:/Python27/Lib/site-packages/ # for windows\n",
    "\n",
    "<span class=\"mark\">To use the package in a script, you will have to first initialize the package using:\n",
    "\n",
    "-> <code>mypackage/__init__.pymypackage/mymodule.py</code>\n",
    "\n",
    "You can then import the package\n",
    "\n",
    "-> `import mypackage.mymodule`      \n",
    "---- or ----    \n",
    "-> `from mypackage.mymodule import myclass`\n",
    "\n",
    "In addition to creating ones own packages, Python is home a large and growing collection of packages (from individual programmers) which is available from the [Python Package Index](http://pypi.python.org/pypi \"pypi\").\n",
    "\n",
    "## Library\n",
    "\n",
    "Unlike C or C++, the term library does not have any specific contextual meaning in p\\Python. When used <span class=\"girk\">in Python, a library is used loosely to describe a collection of the core modules.</span>\n",
    "\n",
    "The term ‘[standard library](http://docs.python.org/library/ \"library\")‘ in <span class=\"mark\">Python language refers to the collection of exact syntax, token and semantics of the Python language which comes bundled with the core Python distribution</span>.\n",
    "\n",
    "<span class=\"girk\">In Python, the standard library is written in C language</span> and it handles the standard functionalities like file I/O and other core modules that make Python what it is. The python standard library lists down more than 200 such core modules that form the core of Python.\n",
    "\n",
    "“Additional libraries” refer to those optional components that are commonly included in Python distributions."
   ]
  }
 ],
 "metadata": {
  "hide_code_all_hidden": false,
  "kernelspec": {
   "display_name": "Python 3",
   "language": "python",
   "name": "python3"
  },
  "language_info": {
   "codemirror_mode": {
    "name": "ipython",
    "version": 3
   },
   "file_extension": ".py",
   "mimetype": "text/x-python",
   "name": "python",
   "nbconvert_exporter": "python",
   "pygments_lexer": "ipython3",
   "version": "3.7.0"
  }
 },
 "nbformat": 4,
 "nbformat_minor": 2
}
