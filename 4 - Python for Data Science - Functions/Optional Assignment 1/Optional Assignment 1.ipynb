{
 "cells": [
  {
   "cell_type": "code",
   "execution_count": 1,
   "metadata": {
    "ExecuteTime": {
     "end_time": "2019-05-06T00:54:12.812424Z",
     "start_time": "2019-05-06T00:54:12.808435Z"
    }
   },
   "outputs": [],
   "source": [
    "from pprint import pprint"
   ]
  },
  {
   "cell_type": "markdown",
   "metadata": {},
   "source": [
    "### 1. Write a function that inputs a number and prints the multiplication table of that number"
   ]
  },
  {
   "cell_type": "code",
   "execution_count": 2,
   "metadata": {
    "ExecuteTime": {
     "end_time": "2019-05-06T00:54:36.064251Z",
     "start_time": "2019-05-06T00:54:28.278057Z"
    }
   },
   "outputs": [
    {
     "name": "stdout",
     "output_type": "stream",
     "text": [
      "Enter a number:67\n",
      "Enter table size:15\n",
      "\n",
      "Result:\n",
      "67 x 1 = 67\n",
      "67 x 2 = 134\n",
      "67 x 3 = 201\n",
      "67 x 4 = 268\n",
      "67 x 5 = 335\n",
      "67 x 6 = 402\n",
      "67 x 7 = 469\n",
      "67 x 8 = 536\n",
      "67 x 9 = 603\n",
      "67 x 10 = 670\n",
      "67 x 11 = 737\n",
      "67 x 12 = 804\n",
      "67 x 13 = 871\n",
      "67 x 14 = 938\n",
      "67 x 15 = 1005\n"
     ]
    }
   ],
   "source": [
    "import sys\n",
    "try:\n",
    "    num = int(input(\"Enter a number:\"))\n",
    "    table_size = int(input(\"Enter table size:\"))\n",
    "    \n",
    "    if num*table_size > 5000000:\n",
    "        raise MemoryError(\"Error: Make sure you don't hang your computer\")\n",
    "    print(\"\\nResult:\")\n",
    "    for index in range(1, table_size+1):\n",
    "        print('{0} x {1} = {2}'.format(num, index , num*index )) \n",
    "except ValueError as e:\n",
    "    print(e)\n",
    "except MemoryError as e:\n",
    "    print(e)"
   ]
  },
  {
   "cell_type": "markdown",
   "metadata": {},
   "source": [
    "### 2. Write a program to print twin primes less than 1000. If two consecutive odd numbers are both prime then they are known as twin primes"
   ]
  },
  {
   "cell_type": "code",
   "execution_count": 3,
   "metadata": {
    "ExecuteTime": {
     "end_time": "2019-05-06T00:54:52.725668Z",
     "start_time": "2019-05-06T00:54:52.717707Z"
    }
   },
   "outputs": [
    {
     "name": "stdout",
     "output_type": "stream",
     "text": [
      "[(1, 3),\n",
      " (3, 5),\n",
      " (5, 7),\n",
      " (11, 13),\n",
      " (17, 19),\n",
      " (29, 31),\n",
      " (41, 43),\n",
      " (59, 61),\n",
      " (71, 73),\n",
      " (101, 103),\n",
      " (107, 109),\n",
      " (137, 139),\n",
      " (149, 151),\n",
      " (179, 181),\n",
      " (191, 193),\n",
      " (197, 199),\n",
      " (227, 229),\n",
      " (239, 241),\n",
      " (269, 271),\n",
      " (281, 283),\n",
      " (311, 313),\n",
      " (347, 349),\n",
      " (419, 421),\n",
      " (431, 433),\n",
      " (461, 463),\n",
      " (521, 523),\n",
      " (569, 571),\n",
      " (599, 601),\n",
      " (617, 619),\n",
      " (641, 643),\n",
      " (659, 661),\n",
      " (809, 811),\n",
      " (821, 823),\n",
      " (827, 829),\n",
      " (857, 859),\n",
      " (881, 883)]\n"
     ]
    }
   ],
   "source": [
    "def get_twin_primes(n):\n",
    "    \"\"\"\n",
    "    Get all twin primes \n",
    "    smaller than or equal to n using Sieve of Eratosthenes\n",
    "    \"\"\"\n",
    "    # Create a boolean array \"prime[0..n]\" and initialize\n",
    "    #  all entries it as true. A value in prime[i] will\n",
    "    # finally be false if i is Not a prime, else true.\n",
    "    primes_list = [True for i in range(n + 1)]\n",
    "    num = 2\n",
    "    while num ** 2 <= n:\n",
    "\n",
    "        # If prime[num] is not marked, then it is a prime\n",
    "        if primes_list[num] == True:\n",
    "\n",
    "            # Mark all multiples of num as non-prime\n",
    "            for i in range(num * num, n + 1, num):\n",
    "                primes_list[i] = False\n",
    "        num += 1\n",
    "\n",
    "    result = list()\n",
    "    # Save all twin prime numbers\n",
    "    for num in range(3, n):\n",
    "        if primes_list[num] and primes_list[num - 2]:\n",
    "            result.append((num - 2, num))\n",
    "\n",
    "    return result\n",
    "\n",
    "\n",
    "# driver program\n",
    "if __name__ == \"__main__\":\n",
    "    n = 1000\n",
    "    result = get_twin_primes(n)\n",
    "    pprint(result)\n"
   ]
  },
  {
   "cell_type": "markdown",
   "metadata": {},
   "source": [
    "### 3. Write a program to find out the prime factors of a number. Example: prime factors of 56 - 2, 2, 2, 7"
   ]
  },
  {
   "cell_type": "code",
   "execution_count": 4,
   "metadata": {
    "ExecuteTime": {
     "end_time": "2019-05-06T00:55:03.951645Z",
     "start_time": "2019-05-06T00:55:02.054714Z"
    }
   },
   "outputs": [
    {
     "name": "stdout",
     "output_type": "stream",
     "text": [
      "Enter a number to get all prime factors: 56\n",
      "Prime factors of 56 are :\n",
      "2, 2, 2, 7\n"
     ]
    }
   ],
   "source": [
    "import math\n",
    "import sys\n",
    "\n",
    "\n",
    "def primeFactors(num):\n",
    "    \"\"\"\n",
    "    Get all prime factors of given number\n",
    "    \"\"\"\n",
    "    # All even numbers can be divided by 2,\n",
    "    # after this we need to handle only odd numbers\n",
    "    prime_factors = list()\n",
    "    while num % 2 == 0:\n",
    "        prime_factors.append(2)\n",
    "        num = num / 2\n",
    "\n",
    "    # num must be odd at this point\n",
    "    # so a skip of 2 ( i = i + 2) can be used\n",
    "    for i in range(3, int(math.sqrt(num)) + 1, 2):\n",
    "\n",
    "        # Try and divide by all numbers less than num\n",
    "        # If it is perfectly divisible, print the number and divide by it\n",
    "        # Continute printing and dividing as long as it is perfectly divisble\n",
    "        while num % i == 0:\n",
    "            prime_factors.append(i)\n",
    "            num = num / i\n",
    "\n",
    "    # execution will come to this point only when\n",
    "    # current value of num is prime number\n",
    "    if num > 2:\n",
    "        prime_factors.append(math.trunc(num))\n",
    "\n",
    "    print(*prime_factors, sep=\", \")\n",
    "\n",
    "\n",
    "# Driver Program to test above function\n",
    "# driver program\n",
    "if __name__ == \"__main__\":\n",
    "    try:\n",
    "        num = int(input(\"Enter a number to get all prime factors: \"))\n",
    "        print(\"Prime factors of {0} are :\".format(num), end=\"\\n\")\n",
    "        primeFactors(num)\n",
    "\n",
    "    except ValueError as e:\n",
    "        print(e, file=sys.stderr)\n"
   ]
  },
  {
   "cell_type": "markdown",
   "metadata": {},
   "source": [
    "#### 4. Write a program to implement these formulae of permutations and combinations.\n",
    "Number of permutations of n objects taken r at a time: p(n, r) = n! / (n-r)!      \n",
    "Number of combinations of n objects taken r at a time is: c(n, r) = n! / (r!*(n-r)!) = p(n,r) / r!"
   ]
  },
  {
   "cell_type": "code",
   "execution_count": 6,
   "metadata": {
    "ExecuteTime": {
     "end_time": "2019-05-06T00:55:31.008299Z",
     "start_time": "2019-05-06T00:55:25.646612Z"
    }
   },
   "outputs": [
    {
     "name": "stdout",
     "output_type": "stream",
     "text": [
      "Enter population size:20\n",
      "Enter sample size:10\n",
      "Number or permutations:  670442572800\n",
      "Number or combinations:  184756\n"
     ]
    }
   ],
   "source": [
    "import math\n",
    "import traceback\n",
    "import sys\n",
    "\n",
    "def factorial(num):\n",
    "    \"\"\"\n",
    "    Gets the factorial for a given number\n",
    "    \"\"\"\n",
    "    if num == 1 or num == 0:\n",
    "        return 1\n",
    "\n",
    "    return num * factorial(num - 1)\n",
    "\n",
    "\n",
    "def get_permutations_count(population_size, sample_size):\n",
    "    \"\"\"\n",
    "    Gets the count of possible permutations given the sizes of population and sample\n",
    "    \"\"\"\n",
    "    result = math.trunc(\n",
    "        factorial(population_size) / factorial(population_size - sample_size)\n",
    "    )\n",
    "    return result\n",
    "\n",
    "\n",
    "def get_combinations_count(population_size, sample_size):\n",
    "    \"\"\"\n",
    "    Gets the count of possible combinations given the sizes of population and sample\n",
    "    \"\"\"\n",
    "    result = math.trunc(\n",
    "        get_permutations_count(population_size, sample_size) / factorial(sample_size)\n",
    "    )\n",
    "    return result\n",
    "\n",
    "\n",
    "# Driver Program to test above function\n",
    "# driver program\n",
    "if __name__ == \"__main__\":\n",
    "    try:\n",
    "        population_size = int(input(\"Enter population size:\"))\n",
    "        sample_size = int(input(\"Enter sample size:\"))\n",
    "        if sample_size > population_size:\n",
    "            raise ValueError(\n",
    "                \"Error: Sample size must be less or equal to the population size\"\n",
    "            )\n",
    "        elif sample_size < 0:\n",
    "            raise ValueError(\"Error: Sample size must be greater than zero\")\n",
    "        elif population_size < 0:\n",
    "            raise ValueError(\"Error: Population size must be greater than zero\")\n",
    "\n",
    "        permutation_count = get_permutations_count(population_size, sample_size)\n",
    "        print(\"Number or permutations: \", permutation_count)\n",
    "\n",
    "        combination_count = get_combinations_count(population_size, sample_size)\n",
    "        print(\"Number or combinations: \", combination_count)\n",
    "\n",
    "    except ValueError as e:\n",
    "        print(e, file=sys.stderr)"
   ]
  },
  {
   "cell_type": "markdown",
   "metadata": {},
   "source": [
    "### 5. Write a function that converts a decimal number to binary number"
   ]
  },
  {
   "cell_type": "code",
   "execution_count": 7,
   "metadata": {
    "ExecuteTime": {
     "end_time": "2019-05-06T00:55:42.087664Z",
     "start_time": "2019-05-06T00:55:38.182084Z"
    }
   },
   "outputs": [
    {
     "name": "stdout",
     "output_type": "stream",
     "text": [
      "Enter a number to convert to binary format:55\n",
      "Binary representation of 55 is 0b110111: \n"
     ]
    }
   ],
   "source": [
    "# driver program\n",
    "if __name__ == \"__main__\":\n",
    "    try:\n",
    "        num = int(input(\"Enter a number to convert to binary format:\"))\n",
    "        binary_num = bin(num)\n",
    "        print(\"Binary representation of {0} is {1}: \".format(num, binary_num))\n",
    "\n",
    "    except ValueError as e:\n",
    "        print(e, file=sys.stderr)"
   ]
  },
  {
   "cell_type": "markdown",
   "metadata": {},
   "source": [
    "### 6. Write a function cubesum() that accepts an integer and returns the sum of the cubes of individual digits of that number. \n",
    "#### Use this function to make functions PrintArmstrong() and isArmstrong() to print Armstrong numbers and to find whether is an Armstrong number."
   ]
  },
  {
   "cell_type": "code",
   "execution_count": 8,
   "metadata": {
    "ExecuteTime": {
     "end_time": "2019-05-06T00:55:59.044309Z",
     "start_time": "2019-05-06T00:55:56.087193Z"
    }
   },
   "outputs": [
    {
     "name": "stdout",
     "output_type": "stream",
     "text": [
      "Enter a number till which to get all Armstrong numbers: 5000\n",
      "All Armstrong numbers less than 5000 are :\n",
      "0, 1, 2, 3, 4, 5, 6, 7, 8, 9, 153, 370, 371, 407, 1634\n"
     ]
    }
   ],
   "source": [
    "import math\n",
    "import sys\n",
    "import functools\n",
    "\n",
    "\n",
    "def get_nth_power_sum(number, power):\n",
    "    \"\"\"\n",
    "    Get sums of nth power of each digits of a given number\n",
    "    \"\"\"\n",
    "    cubed_digits = map(lambda x: int(x) ** power, list(str(number)))\n",
    "    digits_cube_sum = functools.reduce(lambda x, y: x + y, cubed_digits)\n",
    "\n",
    "    return digits_cube_sum\n",
    "\n",
    "\n",
    "def print_armstrong(number):\n",
    "\n",
    "    armstrong_numbers = list()\n",
    "    for num in range(number):\n",
    "        if is_armstrong(num):\n",
    "            armstrong_numbers.append(num)\n",
    "\n",
    "    print(\"All Armstrong numbers less than {0} are :\".format(number), end=\"\\n\")\n",
    "    print(*armstrong_numbers, sep=\", \")\n",
    "\n",
    "\n",
    "def is_armstrong(number):\n",
    "    return number == get_nth_power_sum(number, len(str(number)))\n",
    "\n",
    "\n",
    "# Driver Program to test above function\n",
    "# driver program\n",
    "if __name__ == \"__main__\":\n",
    "    try:\n",
    "        num = int(input(\"Enter a number till which to get all Armstrong numbers: \"))\n",
    "        print_armstrong(num)\n",
    "\n",
    "    except ValueError as e:\n",
    "        print(e, file=sys.stderr)\n"
   ]
  },
  {
   "cell_type": "markdown",
   "metadata": {},
   "source": [
    "### 7. Write a function prodDigits() that inputs a number and returns the product of digits of that number"
   ]
  },
  {
   "cell_type": "code",
   "execution_count": 5,
   "metadata": {
    "ExecuteTime": {
     "end_time": "2019-05-05T11:00:48.046823Z",
     "start_time": "2019-05-05T11:00:44.925172Z"
    }
   },
   "outputs": [
    {
     "name": "stdout",
     "output_type": "stream",
     "text": [
      "Enter a number to get product of it's digits: 56\n",
      "30\n"
     ]
    }
   ],
   "source": [
    "import math\n",
    "import sys\n",
    "import functools\n",
    "\n",
    "\n",
    "def prod_digits(number):\n",
    "    \"\"\"\n",
    "    Get sums of nth power of each digits of a given number\n",
    "    \"\"\"\n",
    "    digits_product = functools.reduce(lambda x, y: int(x) * int(y), list(str(number)))\n",
    "    print(digits_product)\n",
    "\n",
    "\n",
    "# Driver Program to test above function\n",
    "# driver program\n",
    "if __name__ == \"__main__\":\n",
    "    try:\n",
    "        num = int(input(\"Enter a number to get product of it's digits: \"))\n",
    "        prod_digits(num)\n",
    "\n",
    "    except ValueError as e:\n",
    "        print(e, file=sys.stderr)\n"
   ]
  },
  {
   "cell_type": "markdown",
   "metadata": {},
   "source": [
    "### 8. Get multiplicative digital root and multiplicative persistance\n",
    "\n",
    "If all digits of a number n are multiplied by each other repeating with the product, the one digit number obtained at last is called the multiplicative digital root of n.    \n",
    "\n",
    "The number of times digits need to be multiplied to reach one digit is called the multiplicative persistance of n.   \n",
    "\n",
    "**Example:**    \n",
    "\n",
    "86 -> 48 -> 32 -> 6 (MDR 6, MPersistence 3)     \n",
    "341 -> 12->2 (MDR 2, MPersistence 2)\n",
    "\n",
    "Using the function prodDigits() of previous exercise write functions MDR() and MPersistence() that input a number and return its multiplicative digital root and multiplicative persistence respectively"
   ]
  },
  {
   "cell_type": "code",
   "execution_count": 4,
   "metadata": {
    "ExecuteTime": {
     "end_time": "2019-05-05T10:59:44.150763Z",
     "start_time": "2019-05-05T10:59:41.415052Z"
    }
   },
   "outputs": [
    {
     "name": "stdout",
     "output_type": "stream",
     "text": [
      "Enter a number to get its multiplicative digital root and multiplicative persistance: 86\n",
      "Number: 86, \n",
      "Multiplicative digital root: 6, \n",
      "Multiplicative persistance: 3\n"
     ]
    }
   ],
   "source": [
    "import math\n",
    "import sys\n",
    "import functools\n",
    "\n",
    "\n",
    "def prod_digits(number):\n",
    "    \"\"\"\n",
    "    Get sums of nth power of each digits of a given number\n",
    "    \"\"\"\n",
    "    digits_product = functools.reduce(lambda x, y: int(x) * int(y), list(str(number)))\n",
    "    return digits_product\n",
    "\n",
    "\n",
    "def MDR(number, m_persistence_count=0):\n",
    "    if number < 10:\n",
    "        return (number, m_persistence_count)\n",
    "    else:\n",
    "        m_persistence_count += 1\n",
    "        return MDR(prod_digits(number), m_persistence_count)\n",
    "\n",
    "\n",
    "# Driver Program to test above function\n",
    "# driver program\n",
    "if __name__ == \"__main__\":\n",
    "    try:\n",
    "        num = int(\n",
    "            input(\n",
    "                \"Enter a number to get its multiplicative digital root and multiplicative persistance: \"\n",
    "            )\n",
    "        )\n",
    "        print(\n",
    "            \"Number: {0}, \\nMultiplicative digital root: {1}, \\nMultiplicative persistance: {2}\".format(\n",
    "                num, *MDR(num)\n",
    "            )\n",
    "        )\n",
    "\n",
    "    except ValueError as e:\n",
    "        print(e, file=sys.stderr)\n"
   ]
  },
  {
   "cell_type": "markdown",
   "metadata": {},
   "source": [
    "### 9. Write a function sumPdivisors() that finds the sum of proper divisors of a number.   \n",
    "Proper divisors of a number are those numbers by which the number is divisible, except thenumber itself.    \n",
    "For example proper divisors of 36 are 1, 2, 3, 4, 6, 9, 18"
   ]
  },
  {
   "cell_type": "code",
   "execution_count": 8,
   "metadata": {
    "ExecuteTime": {
     "end_time": "2019-05-06T00:34:01.739403Z",
     "start_time": "2019-05-06T00:34:00.272340Z"
    }
   },
   "outputs": [
    {
     "name": "stdout",
     "output_type": "stream",
     "text": [
      "Enter a number to get it sum of it's proper divisors: 36\n",
      "Number: 36, \n",
      "Sum of proper divisors: 55\n"
     ]
    }
   ],
   "source": [
    "import math\n",
    "import sys\n",
    "import functools\n",
    "\n",
    "\n",
    "def sum_porper_divisors(number):\n",
    "    \"\"\"\n",
    "    Get sums of nth power of each digits of a given number\n",
    "    \"\"\"\n",
    "    proper_divisors = filter(lambda x: number % x == 0, range(1, number))\n",
    "    return sum(proper_divisors)\n",
    "\n",
    "\n",
    "# Driver Program to test above function\n",
    "# driver program\n",
    "if __name__ == \"__main__\":\n",
    "    try:\n",
    "        num = int(input(\"Enter a number to get it sum of it's proper divisors: \"))\n",
    "        result = sum_porper_divisors(num)\n",
    "        print(\"Number: {0}, \\nSum of proper divisors: {1}\".format(num, result))\n",
    "\n",
    "    except ValueError as e:\n",
    "        print(e, file=sys.stderr)\n"
   ]
  },
  {
   "cell_type": "markdown",
   "metadata": {},
   "source": [
    "### 10. A number is called perfect if the sum of proper divisors of that number is equal to the number. \n",
    "For example 28 is perfect number, since 1+2+4+7+14=28. Write a program to\n",
    "print all the perfect numbers in a given range"
   ]
  },
  {
   "cell_type": "code",
   "execution_count": 1,
   "metadata": {
    "ExecuteTime": {
     "end_time": "2019-05-06T00:44:19.982521Z",
     "start_time": "2019-05-06T00:44:14.966919Z"
    }
   },
   "outputs": [
    {
     "name": "stdout",
     "output_type": "stream",
     "text": [
      "Enter a number to get it sum of it's proper divisors: 5\n",
      "Enter a number to get it sum of it's proper divisors: 500\n",
      "Perfect numbers between range 5 to 500 are as below\n",
      " [6, 28, 496]\n"
     ]
    }
   ],
   "source": [
    "import math\n",
    "import sys\n",
    "import functools\n",
    "\n",
    "\n",
    "def sum_porper_divisors(number):\n",
    "    \"\"\"\n",
    "    Get sums of nth power of each digits of a given number\n",
    "    \"\"\"\n",
    "    proper_divisors = filter(lambda x: number % x == 0, range(1, number))\n",
    "    return sum(proper_divisors)\n",
    "\n",
    "\n",
    "def isPerfectNumber(number):\n",
    "    return sum_porper_divisors(number) == number\n",
    "\n",
    "\n",
    "# Driver Program to test above function\n",
    "# driver program\n",
    "if __name__ == \"__main__\":\n",
    "    try:\n",
    "        num_lower = int(input(\"Enter a number to get it sum of it's proper divisors: \"))\n",
    "        num_upper = int(input(\"Enter a number to get it sum of it's proper divisors: \"))\n",
    "\n",
    "        result = list(filter(isPerfectNumber, range(num_lower, num_upper)))\n",
    "\n",
    "        print(\n",
    "            \"Perfect numbers between range {0} to {1} are as below\\n {2}\".format(\n",
    "                num_lower, num_upper, result\n",
    "            )\n",
    "        )\n",
    "\n",
    "    except ValueError as e:\n",
    "        print(e, file=sys.stderr)\n"
   ]
  },
  {
   "cell_type": "markdown",
   "metadata": {},
   "source": [
    "### 11. Two different numbers are called amicable numbers if the sum of the proper divisors of each is equal to the other number. For example 220 and 284 are amicable numbers\n",
    "\n",
    "Sum of proper divisors of 220 = 1+2+4+5+10+11+20+22+44+55+110 = 284\n",
    "Sum of proper divisors of 284 = 1+2+4+71+142 = 220\n",
    "Write a function to print pairs of amicable numbers in a range"
   ]
  },
  {
   "cell_type": "code",
   "execution_count": 4,
   "metadata": {
    "ExecuteTime": {
     "end_time": "2019-05-06T00:50:48.917246Z",
     "start_time": "2019-05-06T00:50:44.838126Z"
    }
   },
   "outputs": [
    {
     "name": "stdout",
     "output_type": "stream",
     "text": [
      "Enter a number to get it sum of it's proper divisors: 5\n",
      "Enter a number to get it sum of it's proper divisors: 1500\n",
      "220 284\n",
      "1184 1210\n"
     ]
    }
   ],
   "source": [
    "import math\n",
    "import sys\n",
    "import functools\n",
    "\n",
    "\n",
    "def sum_porper_divisors(number):\n",
    "    \"\"\"\n",
    "    Get sums of nth power of each digits of a given number\n",
    "    \"\"\"\n",
    "    proper_divisors = filter(lambda x: number % x == 0, range(1, number))\n",
    "    return sum(proper_divisors)\n",
    "\n",
    "\n",
    "def get_amicable_pair(num_lower, num_upper):\n",
    "\n",
    "    for number in range(num_lower, num_upper):\n",
    "        spd = sum_porper_divisors(number)\n",
    "        if spd < num_upper and spd > number and sum_porper_divisors(spd) == number:\n",
    "            print(number, spd)\n",
    "\n",
    "\n",
    "# Driver Program to test above function\n",
    "# driver program\n",
    "if __name__ == \"__main__\":\n",
    "    try:\n",
    "        num_lower = int(input(\"Enter a number to get it sum of it's proper divisors: \"))\n",
    "        num_upper = int(input(\"Enter a number to get it sum of it's proper divisors: \"))\n",
    "\n",
    "        get_amicable_pair(num_lower, num_upper)\n",
    "        # result = list(filter(isPerfectNumber, range(num_lower, num_upper)))\n",
    "\n",
    "        # print(\n",
    "        #     \"Perfect numbers between range {0} to {1} are as below\\n {2}\".format(\n",
    "        #         num_lower, num_upper, result\n",
    "        #     )\n",
    "        # )\n",
    "\n",
    "    except ValueError as e:\n",
    "        print(e, file=sys.stderr)\n"
   ]
  },
  {
   "cell_type": "markdown",
   "metadata": {},
   "source": [
    "### 12. Write a program which can filter odd numbers in a list by using filter function"
   ]
  },
  {
   "cell_type": "code",
   "execution_count": 10,
   "metadata": {
    "ExecuteTime": {
     "end_time": "2019-05-06T01:04:55.842058Z",
     "start_time": "2019-05-06T01:04:46.623683Z"
    }
   },
   "outputs": [
    {
     "name": "stdout",
     "output_type": "stream",
     "text": [
      "Enter a comma seprated list of numbers: 1,3,4,4,5,6,7,8i,6,7,8\n",
      "[1, 3, 4, 4, 5, 6, 7, 6, 7, 8]\n",
      "[1, 3, 5, 7, 7]\n"
     ]
    }
   ],
   "source": [
    "import math\n",
    "import sys\n",
    "import functools\n",
    "\n",
    "\n",
    "def sum_porper_divisors(number):\n",
    "    \"\"\"\n",
    "    Get sums of nth power of each digits of a given number\n",
    "    \"\"\"\n",
    "    proper_divisors = filter(lambda x: number % x == 0, range(1, number))\n",
    "    return sum(proper_divisors)\n",
    "\n",
    "\n",
    "def get_amicable_pair(num_lower, num_upper):\n",
    "\n",
    "    for number in range(num_lower, num_upper):\n",
    "        spd = sum_porper_divisors(number)\n",
    "        if spd < num_upper and spd > number and sum_porper_divisors(spd) == number:\n",
    "            print(number, spd)\n",
    "\n",
    "\n",
    "# Driver Program to test above function\n",
    "# driver program\n",
    "if __name__ == \"__main__\":\n",
    "    try:\n",
    "        num_list = [\n",
    "            int(x)\n",
    "            for x in str(input(\"Enter a comma seprated list of numbers: \")).split(\",\")\n",
    "            if x.strip().isnumeric()\n",
    "        ]\n",
    "        print(num_list)\n",
    "        result = list(filter(lambda x: x % 2 != 0, num_list))\n",
    "        print(result)\n",
    "\n",
    "        # print(\n",
    "        #     \"Perfect numbers between range {0} to {1} are as below\\n {2}\".format(\n",
    "        #         num_lower, num_upper, result\n",
    "        #     )\n",
    "        # )\n",
    "\n",
    "    except ValueError as e:\n",
    "        print(e, file=sys.stderr)\n"
   ]
  },
  {
   "cell_type": "code",
   "execution_count": null,
   "metadata": {},
   "outputs": [],
   "source": []
  }
 ],
 "metadata": {
  "kernelspec": {
   "display_name": "Python 3",
   "language": "python",
   "name": "python3"
  },
  "language_info": {
   "codemirror_mode": {
    "name": "ipython",
    "version": 3
   },
   "file_extension": ".py",
   "mimetype": "text/x-python",
   "name": "python",
   "nbconvert_exporter": "python",
   "pygments_lexer": "ipython3",
   "version": "3.7.0"
  }
 },
 "nbformat": 4,
 "nbformat_minor": 2
}
